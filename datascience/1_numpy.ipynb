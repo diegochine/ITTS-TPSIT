{
 "cells": [
  {
   "cell_type": "markdown",
   "metadata": {
    "id": "j_a0xZPQLdiK",
    "pycharm": {
     "name": "#%% md\n"
    }
   },
   "source": [
    "# Numpy: Numerical Python\n",
    "\n",
    "*Chinellato Diego - TPSIT*\n",
    "\n",
    "*ITTS V. Volterra*\n",
    "\n",
    "*A.S. 2022/2023*"
   ]
  },
  {
   "cell_type": "markdown",
   "metadata": {
    "id": "TOMWm-66LdiM",
    "pycharm": {
     "name": "#%% md\n"
    }
   },
   "source": [
    "http://www.numpy.org/\n",
    "\n",
    "**NumPy** stands for **Numerical Python**.\n",
    "\n",
    "NumPy is a fundamental package for efficient scientific and numerical computing.\n",
    "\n",
    "It provides:\n",
    "- efficient methods for managing arrays and matrices, and operations on them\n",
    "- several mathematical functions (variance, standard deviation, cumulative sum, ...)\n",
    "- other: fitting a polynomial, finding the minimum of a function, Fast Fourier Transform, etc.\n",
    "\n",
    "This notebook is based on Numpy's absolute basics tutorial: https://numpy.org/doc/stable/user/absolute_beginners.html"
   ]
  },
  {
   "cell_type": "markdown",
   "source": [
    "## Basics"
   ],
   "metadata": {
    "id": "sQvAuP9AIEFy",
    "pycharm": {
     "name": "#%% md\n"
    }
   }
  },
  {
   "cell_type": "code",
   "source": [
    "import numpy as np  # convention"
   ],
   "metadata": {
    "id": "Un6wiQp6IXbV",
    "pycharm": {
     "name": "#%%\n"
    }
   },
   "execution_count": 1,
   "outputs": []
  },
  {
   "cell_type": "markdown",
   "source": [
    "An array is a central data structure of the NumPy library. An array is a grid of values and it contains information about the raw data, how to locate an element, and how to interpret an element. It has a grid of elements that can be indexed in various ways. The elements are all of the same type, referred to as the array **dtype**.\n",
    "\n",
    "An array can be indexed by a tuple of nonnegative integers, by booleans, by another array, or by integers. The rank of the array is the number of dimensions. The shape of the array is a tuple of integers giving the size of the array along each dimension.\n",
    "\n",
    "One way we can initialize NumPy arrays is from Python lists, using nested lists for two- or higher-dimensional data.\n",
    "\n",
    "We can access the elements in the array using square brackets. When you’re accessing elements, remember that indexing in NumPy starts at 0. That means that if you want to access the first element in your array, you’ll be accessing element “0”."
   ],
   "metadata": {
    "id": "IulG_1OdIMn0",
    "pycharm": {
     "name": "#%% md\n"
    }
   }
  },
  {
   "cell_type": "code",
   "source": [
    "a = np.array([1, 2, 3, 4, 5, 6])\n",
    "print(a[0])\n",
    "a = np.array([[1, 2, 3, 4], [5, 6, 7, 8], [9, 10, 11, 12]])\n",
    "print(a[0])"
   ],
   "metadata": {
    "id": "9XrI3tLIIHJf",
    "pycharm": {
     "name": "#%%\n"
    }
   },
   "execution_count": null,
   "outputs": []
  },
  {
   "cell_type": "markdown",
   "source": [
    "You might occasionally hear an array referred to as a “ndarray,” which is shorthand for “N-dimensional array.” An N-dimensional array is simply an array with any number of dimensions. You might also hear 1-D, or one-dimensional array, 2-D, or two-dimensional array, and so on. The NumPy ndarray class is used to represent both matrices and vectors. A vector is an array with a single dimension (there’s no difference between row and column vectors), while a matrix refers to an array with two dimensions. For 3-D or higher dimensional arrays, the term tensor is also commonly used."
   ],
   "metadata": {
    "id": "fUuA8aMRJlds",
    "pycharm": {
     "name": "#%% md\n"
    }
   }
  },
  {
   "cell_type": "markdown",
   "source": [
    "\n",
    "\n",
    "### What are the attributes of an array?\n",
    "\n",
    "An array is usually a fixed-size container of items of the same type and size. The number of dimensions and items in an array is defined by its shape. The shape of an array is a tuple of non-negative integers that specify the sizes of each dimension.\n",
    "\n",
    "In NumPy, dimensions are called axes. This means that if you have a 2D array that looks like this:\n"
   ],
   "metadata": {
    "id": "nQeQLh1JIy7b",
    "pycharm": {
     "name": "#%% md\n"
    }
   }
  },
  {
   "cell_type": "code",
   "source": [
    "a = np.array(\n",
    "    [[0., 0., 0.],\n",
    "     [1., 1., 1.]]\n",
    "    )\n",
    "a"
   ],
   "metadata": {
    "id": "jbc0fxcFI3Bb",
    "pycharm": {
     "name": "#%%\n"
    }
   },
   "execution_count": null,
   "outputs": []
  },
  {
   "cell_type": "markdown",
   "source": [
    "Your array has 2 axes. The first axis has a length of 2 and the second axis has a length of 3.\n",
    "\n",
    "Just like in other Python container objects, the contents of an array can be accessed and modified by indexing or slicing the array. Unlike the typical container objects, different arrays can share the same data, so changes made on one array might be visible in another.\n",
    "\n",
    "Array attributes reflect information intrinsic to the array itself. If you need to get, or even set, properties of an array without creating a new array, you can often access an array through its attributes.\n",
    "\n",
    "`ndarray.ndim` will tell you the number of axes, or dimensions, of the array.\n",
    "\n",
    "`ndarray.size` will tell you the total number of elements of the array. This is the product of the elements of the array’s shape.\n",
    "\n",
    "`ndarray.shape` will display a tuple of integers that indicate the number of elements stored along each dimension of the array. If, for example, you have a 2-D array with 2 rows and 3 columns, the shape of your array is (2, 3)."
   ],
   "metadata": {
    "id": "6GIcQMDmI_R2",
    "pycharm": {
     "name": "#%% md\n"
    }
   }
  },
  {
   "cell_type": "code",
   "source": [
    "print(a.ndim)\n",
    "print(a.size)\n",
    "print(a.shape)"
   ],
   "metadata": {
    "id": "Gb__mP1mJ679",
    "pycharm": {
     "name": "#%%\n"
    }
   },
   "execution_count": null,
   "outputs": []
  },
  {
   "cell_type": "markdown",
   "source": [
    "### Create basic array\n",
    "To create a NumPy array, you can use the function `np.array()`.\n",
    "\n",
    "All you need to do to create a simple array is pass a list to it. If you choose to, you can also specify the type of data in your list."
   ],
   "metadata": {
    "id": "0lyEOKsTKUP4",
    "pycharm": {
     "name": "#%% md\n"
    }
   }
  },
  {
   "cell_type": "code",
   "source": [
    "a = np.array([1, 2, 3])"
   ],
   "metadata": {
    "id": "PGTALLO2KvE6",
    "pycharm": {
     "name": "#%%\n"
    }
   },
   "execution_count": null,
   "outputs": []
  },
  {
   "cell_type": "markdown",
   "source": [
    "Besides creating an array from a sequence of elements, you can easily create an array filled with 0’s:"
   ],
   "metadata": {
    "id": "D1RcAyTfK7vQ",
    "pycharm": {
     "name": "#%% md\n"
    }
   }
  },
  {
   "cell_type": "code",
   "source": [
    "np.zeros(2)"
   ],
   "metadata": {
    "id": "P6Pbj4IqK4vJ",
    "pycharm": {
     "name": "#%%\n"
    }
   },
   "execution_count": null,
   "outputs": []
  },
  {
   "cell_type": "markdown",
   "source": [
    "Or an array filled with 1’s:"
   ],
   "metadata": {
    "id": "RQ-wZYbmK8G0",
    "pycharm": {
     "name": "#%% md\n"
    }
   }
  },
  {
   "cell_type": "code",
   "source": [
    "np.ones(2)"
   ],
   "metadata": {
    "id": "qcx1c2mbK5Rk",
    "pycharm": {
     "name": "#%%\n"
    }
   },
   "execution_count": null,
   "outputs": []
  },
  {
   "cell_type": "markdown",
   "source": [
    "Or even an empty array! The function empty creates an array whose initial content is random and depends on the state of the memory. The reason to use empty over zeros (or something similar) is speed - just make sure to fill every element afterwards!"
   ],
   "metadata": {
    "id": "wZSfbiMiK80W",
    "pycharm": {
     "name": "#%% md\n"
    }
   }
  },
  {
   "cell_type": "code",
   "source": [
    "np.empty(2)"
   ],
   "metadata": {
    "id": "IfHdXgftLR7F",
    "pycharm": {
     "name": "#%%\n"
    }
   },
   "execution_count": null,
   "outputs": []
  },
  {
   "cell_type": "markdown",
   "source": [
    "You can create an array with a range of elements (similar to Python's range() function):"
   ],
   "metadata": {
    "id": "rABFEmDaLXzK",
    "pycharm": {
     "name": "#%% md\n"
    }
   }
  },
  {
   "cell_type": "code",
   "source": [
    "np.arange(4)"
   ],
   "metadata": {
    "id": "rcIC_ojELm5Y",
    "pycharm": {
     "name": "#%%\n"
    }
   },
   "execution_count": null,
   "outputs": []
  },
  {
   "cell_type": "markdown",
   "source": [
    "And even an array that contains a range of evenly spaced intervals. To do this, you will specify the first number, last number, and the step size."
   ],
   "metadata": {
    "id": "EveYobe_Loot",
    "pycharm": {
     "name": "#%% md\n"
    }
   }
  },
  {
   "cell_type": "code",
   "source": [
    "np.arange(2, 9, 2)"
   ],
   "metadata": {
    "id": "2yhAAUarKqaQ",
    "pycharm": {
     "name": "#%%\n"
    }
   },
   "execution_count": null,
   "outputs": []
  },
  {
   "cell_type": "markdown",
   "source": [
    "You can also use `np.linspace()` to create an array with values that are spaced linearly in a specified interval:"
   ],
   "metadata": {
    "id": "7UgX1kvkLfxZ",
    "pycharm": {
     "name": "#%% md\n"
    }
   }
  },
  {
   "cell_type": "code",
   "source": [
    "np.linspace(0, 10, num=5)"
   ],
   "metadata": {
    "id": "8OgqABd6KqNw",
    "pycharm": {
     "name": "#%%\n"
    }
   },
   "execution_count": null,
   "outputs": []
  },
  {
   "cell_type": "markdown",
   "source": [
    "While the default data type is floating point (`np.float64`), you can explicitly specify which data type you want using the dtype keyword."
   ],
   "metadata": {
    "id": "VBcOZUb7Lt7d",
    "pycharm": {
     "name": "#%% md\n"
    }
   }
  },
  {
   "cell_type": "code",
   "source": [
    "x = np.ones(2, dtype=np.int64)\n",
    "x"
   ],
   "metadata": {
    "id": "UIkgndEHKkY-",
    "pycharm": {
     "name": "#%%\n"
    }
   },
   "execution_count": null,
   "outputs": []
  },
  {
   "cell_type": "markdown",
   "source": [
    "### Why not using a Python list?\n",
    "NumPy gives you an enormous range of fast and efficient ways of creating arrays and manipulating numerical data inside them. While a Python list can contain different data types within a single list, all of the elements in a NumPy array should be homogeneous. The mathematical operations that are meant to be performed on arrays would be extremely inefficient if the arrays weren’t homogeneous.\n",
    "NumPy arrays are faster and more compact than Python lists. An array consumes less memory and is convenient to use. NumPy uses much less memory to store data and it provides a mechanism of specifying the data types. This allows the code to be optimized even further."
   ],
   "metadata": {
    "id": "Gmp5SsAOGBo4",
    "pycharm": {
     "name": "#%% md\n"
    }
   }
  },
  {
   "cell_type": "code",
   "source": [
    "# multiply all elements in a list/array by k\n",
    "def scalar_py_slow(l, k):\n",
    "  multiplied = []\n",
    "  for x in l:\n",
    "    multiplied.append(x * k)\n",
    "  return multiplied\n",
    "\n",
    "def scalar_py_fast(l, k):\n",
    "  return [x * k for x in l]\n",
    "\n",
    "def scalar_numpy(a, k):\n",
    "  return a * k"
   ],
   "metadata": {
    "id": "A3gEdOxiGNID",
    "pycharm": {
     "name": "#%%\n"
    }
   },
   "execution_count": null,
   "outputs": []
  },
  {
   "cell_type": "code",
   "source": [
    "l = list(range(100000))\n",
    "%timeit scalar_py_slow(l, 10)"
   ],
   "metadata": {
    "id": "NraqLuvyGyXZ",
    "pycharm": {
     "name": "#%%\n"
    }
   },
   "execution_count": null,
   "outputs": []
  },
  {
   "cell_type": "code",
   "source": [
    "%timeit scalar_py_fast(l, 10)"
   ],
   "metadata": {
    "id": "AM48lsGCHSlW",
    "pycharm": {
     "name": "#%%\n"
    }
   },
   "execution_count": null,
   "outputs": []
  },
  {
   "cell_type": "code",
   "source": [
    "a = np.array(l)\n",
    "%timeit scalar_numpy(a, 10)"
   ],
   "metadata": {
    "id": "nhY2zXX9Gytz",
    "pycharm": {
     "name": "#%%\n"
    }
   },
   "execution_count": null,
   "outputs": []
  },
  {
   "cell_type": "code",
   "source": [
    "import sys\n",
    "f\"Memory occupation: list = {sys.getsizeof(l)//1e3} KB, array = {sys.getsizeof(a)//1e3} KB\""
   ],
   "metadata": {
    "id": "gi06xEmNqxxs",
    "pycharm": {
     "name": "#%%\n"
    }
   },
   "execution_count": null,
   "outputs": []
  },
  {
   "cell_type": "markdown",
   "source": [
    "### Reshaping\n",
    "Using `arr.reshape()` will give a new shape to an array without changing the data. Just remember that when you use the reshape method, the array you want to produce needs to have the same number of elements as the original array. If you start with an array with 12 elements, you’ll need to make sure that your new array also has a total of 12 elements. For example, you can reshape a 6-elements array to an array with three rows and two columns:"
   ],
   "metadata": {
    "id": "LCoQ0KYnJKI_",
    "pycharm": {
     "name": "#%% md\n"
    }
   }
  },
  {
   "cell_type": "code",
   "source": [
    "a = np.arange(6)\n",
    "print(f\"before reshaping, array:\\n{a} \\nwith shape {a.shape}\\n\")\n",
    "a = a.reshape(3, 2)\n",
    "print(f\"after reshaping, array:\\n{a} \\nwith shape {a.shape}\")"
   ],
   "metadata": {
    "id": "EGyg_-RTJikl",
    "pycharm": {
     "name": "#%%\n"
    }
   },
   "execution_count": null,
   "outputs": []
  },
  {
   "cell_type": "markdown",
   "source": [
    "### Indexing and slicing\n",
    "You can index and slice NumPy arrays in the same ways you can slice Python lists. Slices of an array are implemented as **views**, **not copies**, on the original data, sharing the same memory."
   ],
   "metadata": {
    "id": "TlQS9pJ4KDVk",
    "pycharm": {
     "name": "#%% md\n"
    }
   }
  },
  {
   "cell_type": "code",
   "source": [
    "data = np.array([1, 2, 3, 4, 5])\n",
    "print(data[1])\n",
    "print(data[0:2])\n",
    "print(data[1:])\n",
    "print(data[-2:])"
   ],
   "metadata": {
    "id": "MXgSkE4tKPAq",
    "pycharm": {
     "name": "#%%\n"
    }
   },
   "execution_count": null,
   "outputs": []
  },
  {
   "cell_type": "markdown",
   "source": [
    "You may want to take a section of your array or specific array elements to use in further analysis or additional operations. To do that, you’ll need to subset, slice, and/or index your arrays.\n",
    "\n",
    "If you want to select values from your array that fulfill certain conditions, it’s straightforward with NumPy.\n",
    "\n",
    "For example, given an array we can easily print all values less than 5:"
   ],
   "metadata": {
    "id": "UzfkpR4mLYeP",
    "pycharm": {
     "name": "#%% md\n"
    }
   }
  },
  {
   "cell_type": "code",
   "source": [
    "a = np.array([[1 , 2, 3, 4], [5, 6, 7, 8], [9, 10, 11, 12]])\n",
    "a"
   ],
   "metadata": {
    "id": "r7HV4rw4LR00",
    "pycharm": {
     "name": "#%%\n"
    }
   },
   "execution_count": null,
   "outputs": []
  },
  {
   "cell_type": "code",
   "source": [
    "# this is called fancy indexing\n",
    "a[a < 5]"
   ],
   "metadata": {
    "id": "d40pJ7Zysdei",
    "pycharm": {
     "name": "#%%\n"
    }
   },
   "execution_count": null,
   "outputs": []
  },
  {
   "cell_type": "markdown",
   "source": [
    "You can also select, for example, numbers that are equal to or greater than 5, and use that condition to index an array."
   ],
   "metadata": {
    "id": "iu9QZJaaLcpR",
    "pycharm": {
     "name": "#%% md\n"
    }
   }
  },
  {
   "cell_type": "code",
   "source": [
    "five_up = (a >= 5)\n",
    "five_up"
   ],
   "metadata": {
    "id": "k3iSjM4ULcSz",
    "pycharm": {
     "name": "#%%\n"
    }
   },
   "execution_count": null,
   "outputs": []
  },
  {
   "cell_type": "code",
   "source": [
    "a[five_up]"
   ],
   "metadata": {
    "id": "9iGsBb8C3719",
    "pycharm": {
     "name": "#%%\n"
    }
   },
   "execution_count": null,
   "outputs": []
  },
  {
   "cell_type": "markdown",
   "source": [
    "You can select elements that are divisible by 2:"
   ],
   "metadata": {
    "id": "zuxCaVWJLlZu",
    "pycharm": {
     "name": "#%% md\n"
    }
   }
  },
  {
   "cell_type": "code",
   "source": [
    "a[a % 2 == 0]"
   ],
   "metadata": {
    "id": "aRedhlo0LmK6",
    "pycharm": {
     "name": "#%%\n"
    }
   },
   "execution_count": null,
   "outputs": []
  },
  {
   "cell_type": "markdown",
   "source": [
    "Or you can select elements that satisfy two conditions using the & and | operators:"
   ],
   "metadata": {
    "id": "EpYr2-SQLu1x",
    "pycharm": {
     "name": "#%% md\n"
    }
   }
  },
  {
   "cell_type": "code",
   "source": [
    "a[(a > 2) & (a < 11)]"
   ],
   "metadata": {
    "id": "mqN3eK6lLsqw",
    "pycharm": {
     "name": "#%%\n"
    }
   },
   "execution_count": null,
   "outputs": []
  },
  {
   "cell_type": "markdown",
   "source": [
    "Elementary operations between arrays are also supported:"
   ],
   "metadata": {
    "id": "5kbbfKMWKdQF",
    "pycharm": {
     "name": "#%% md\n"
    }
   }
  },
  {
   "cell_type": "code",
   "source": [
    "a = np.ones(5)\n",
    "b = np.ones(5)\n",
    "a + b  # elementwise sum"
   ],
   "metadata": {
    "id": "NTpV15cl8J2B",
    "pycharm": {
     "name": "#%%\n"
    }
   },
   "execution_count": null,
   "outputs": []
  },
  {
   "cell_type": "code",
   "source": [
    "a * b # elementwise product"
   ],
   "metadata": {
    "id": "ZSbJ-EqO8Zms",
    "pycharm": {
     "name": "#%%\n"
    }
   },
   "execution_count": null,
   "outputs": []
  },
  {
   "cell_type": "code",
   "source": [
    "a * 5.5 # multiply all elements by a single value"
   ],
   "metadata": {
    "id": "2xNEN3h38TPu",
    "pycharm": {
     "name": "#%%\n"
    }
   },
   "execution_count": null,
   "outputs": []
  },
  {
   "cell_type": "markdown",
   "source": [
    "Take care about shapes, as arrays must be *broadcastable* to carry out these operations. For example, we can add a (3, 4) array to a (3, 1) array:"
   ],
   "metadata": {
    "id": "scC8obCj8gc3",
    "pycharm": {
     "name": "#%% md\n"
    }
   }
  },
  {
   "cell_type": "code",
   "source": [
    "a = np.ones((3, 4))\n",
    "b = np.ones((3, 1))\n",
    "print(f\"a shape: {a.shape}, b shape: {b.shape}\\n\")\n",
    "c = a + b\n",
    "print(f\"a + b shape: {c.shape}\\nresult is: \\n{c}\")"
   ],
   "metadata": {
    "id": "SvQwS8_39IcW",
    "pycharm": {
     "name": "#%%\n"
    }
   },
   "execution_count": null,
   "outputs": []
  },
  {
   "cell_type": "markdown",
   "source": [
    "For more info: https://numpy.org/doc/stable/user/basics.broadcasting.html or see below (it's not trivial, I know)"
   ],
   "metadata": {
    "id": "cLvkQaTg9JRa",
    "pycharm": {
     "name": "#%% md\n"
    }
   }
  },
  {
   "cell_type": "markdown",
   "metadata": {
    "id": "7c3xM92YLdiO",
    "pycharm": {
     "name": "#%% md\n"
    }
   },
   "source": [
    "## Mathematical and statistical functions\n",
    "\n",
    "Numpy offers many common mathematical functions out of the box. See https://numpy.org/doc/stable/reference/routines.math.html for more information.\n",
    "\n",
    "Let's test `exp()` (exponential) and `maximum()` (element-wise maximum of two arrays)."
   ]
  },
  {
   "cell_type": "code",
   "execution_count": null,
   "metadata": {
    "scrolled": true,
    "id": "rkWFZzE4LdiO",
    "pycharm": {
     "name": "#%%\n"
    }
   },
   "outputs": [],
   "source": [
    "a = np.array([[1.,2.,3.], [4.,5.,6.]])\n",
    "b = np.array([[3.,3.,7.], [1.,1.,2.]])\n",
    "\n",
    "print(\"exp function\")\n",
    "print(np.exp(a))\n",
    "print()\n",
    "\n",
    "print(\"element-wise maximum\")\n",
    "print(np.maximum(a, b))"
   ]
  },
  {
   "cell_type": "markdown",
   "metadata": {
    "id": "9ZexOta5LdiO",
    "pycharm": {
     "name": "#%% md\n"
    }
   },
   "source": [
    "Typical aggregation and statistical functions such as `sum`, `mean`, `var` are also available.\n",
    "\n",
    "In case of matrices, it is possible to specify the **direction** (*axis*) of the operation."
   ]
  },
  {
   "cell_type": "code",
   "execution_count": null,
   "metadata": {
    "id": "9ThlBQjELdiP",
    "pycharm": {
     "name": "#%%\n"
    }
   },
   "outputs": [],
   "source": [
    "m = np.array([[1.,2.,3.],\n",
    "              [4.,5.,6.]])\n",
    "\n",
    "print(m)\n",
    "print()\n",
    "\n",
    "print(\"No direction/axis\")\n",
    "print(np.mean(m))\n",
    "print()\n",
    "\n",
    "print(\"mean over axis 0 (across rows)\")\n",
    "print(np.mean(m, axis=0))\n",
    "print()\n",
    "\n",
    "print(\"mean over axis 1 (across cols)\")\n",
    "print(np.mean(m, axis=1))\n",
    "print()"
   ]
  },
  {
   "cell_type": "code",
   "source": [
    "def pysum(l):\n",
    "  return sum(l)\n",
    "def numpysum(a):\n",
    "  return a.sum()\n",
    "l = list(range(1000000))\n",
    "%timeit pysum(l)\n",
    "a = np.array(l)\n",
    "%timeit numpysum(a)"
   ],
   "metadata": {
    "id": "-wtxKC6J6IjU",
    "pycharm": {
     "name": "#%%\n"
    }
   },
   "execution_count": 2,
   "outputs": [
    {
     "name": "stdout",
     "output_type": "stream",
     "text": [
      "21 ms ± 1.19 ms per loop (mean ± std. dev. of 7 runs, 100 loops each)\n",
      "221 µs ± 7.92 µs per loop (mean ± std. dev. of 7 runs, 1,000 loops each)\n"
     ]
    }
   ]
  },
  {
   "cell_type": "markdown",
   "metadata": {
    "id": "i7-d5vtuLdiP",
    "pycharm": {
     "name": "#%% md\n"
    }
   },
   "source": [
    "Similarly to standard Python, the `sort` method can be used to sort an array or to get a sorted copy.\n",
    "\n",
    "There is no `key` parameter.\n",
    "\n",
    "See https://docs.scipy.org/doc/numpy-1.13.0/reference/generated/numpy.sort.html."
   ]
  },
  {
   "cell_type": "code",
   "execution_count": null,
   "metadata": {
    "id": "szi82-SeLdiQ",
    "pycharm": {
     "name": "#%%\n"
    }
   },
   "outputs": [],
   "source": [
    "data = np.array([1,-2,3,-4,5])\n",
    "\n",
    "s = np.sort(data)\n",
    "print(\"sorted copy    \", s)\n",
    "print(\"original data  \", data)\n",
    "print()\n",
    "\n",
    "data.sort()\n",
    "print(\"after data.sort()\")\n",
    "print(\"original data  \", data)"
   ]
  },
  {
   "cell_type": "markdown",
   "metadata": {
    "id": "epAGIGHKLdiQ",
    "pycharm": {
     "name": "#%% md\n"
    }
   },
   "source": [
    "Also sorting may have a direction."
   ]
  },
  {
   "cell_type": "code",
   "execution_count": null,
   "metadata": {
    "id": "UCwsslm0LdiQ",
    "colab": {
     "base_uri": "https://localhost:8080/"
    },
    "outputId": "9b53871d-9ce5-4399-c58b-6f058ee6dd1d",
    "pycharm": {
     "name": "#%%\n"
    }
   },
   "outputs": [
    {
     "output_type": "stream",
     "name": "stdout",
     "text": [
      "[[3. 5. 2.]\n",
      " [6. 1. 5.]] \n",
      "\n",
      "sort over axis 0 (across rows)\n",
      "[[3. 1. 2.]\n",
      " [6. 5. 5.]] \n",
      "\n",
      "sort over axis 1 (across cols)\n",
      "[[2. 3. 5.]\n",
      " [1. 5. 6.]] \n",
      "\n",
      "flatten and then sort\n",
      "[1. 2. 3. 5. 5. 6.]\n"
     ]
    }
   ],
   "source": [
    "m = np.array([[3., 5.,2.], [6., 1.,5.]])\n",
    "\n",
    "print(m, '\\n')\n",
    "\n",
    "print(\"sort over axis 0 (across rows)\")\n",
    "print(np.sort(m, axis=0), '\\n')\n",
    "\n",
    "print(\"sort over axis 1 (across cols)\")\n",
    "print(np.sort(m, axis=1), '\\n')\n",
    "\n",
    "print(\"flatten and then sort\")\n",
    "print(np.sort(m, axis=None))"
   ]
  },
  {
   "cell_type": "markdown",
   "metadata": {
    "id": "DYAEhNWhLdiQ",
    "pycharm": {
     "name": "#%% md\n"
    }
   },
   "source": [
    "A useful method is `argsort`, which returns the positions of the elements in sorted order, withouth modifying the original array.\n",
    "\n",
    "The output of `argsort`, can be used in conjuction with fancy indexing.\n",
    "\n",
    "Example: sort by income and print the corresponding name."
   ]
  },
  {
   "cell_type": "code",
   "execution_count": null,
   "metadata": {
    "id": "0tnEwSgMLdiQ",
    "pycharm": {
     "name": "#%%\n"
    }
   },
   "outputs": [],
   "source": [
    "names = np.array(['Mark', 'Joe', 'Will', 'Bob', 'Jane', 'Carol', 'Donald'])\n",
    "salaries = np.array([2000,   1200,  3000,  2100,   1580,   1700,    900])\n",
    "\n",
    "sorted_pos = np.argsort(salaries)\n",
    "print(\"sorted positions\", sorted_pos)\n",
    "\n",
    "print(\"ages\", names[sorted_pos]) # This is called fancy indexing!"
   ]
  },
  {
   "cell_type": "markdown",
   "metadata": {
    "id": "00NTd28CLdiR",
    "pycharm": {
     "name": "#%% md\n"
    }
   },
   "source": [
    "## Optimization\n",
    "\n",
    "Find the root of a function given it first derivative.\n",
    "\n",
    "See https://docs.scipy.org/doc/scipy/reference/optimize.html"
   ]
  },
  {
   "cell_type": "code",
   "execution_count": 3,
   "metadata": {
    "id": "f280YQhpLdiR",
    "colab": {
     "base_uri": "https://localhost:8080/"
    },
    "outputId": "91ac3399-165a-4e93-d271-77e2aaf5ccf7",
    "pycharm": {
     "name": "#%%\n"
    }
   },
   "outputs": [
    {
     "name": "stdout",
     "output_type": "stream",
     "text": [
      "The root of the function is: 1.0\n"
     ]
    }
   ],
   "source": [
    "from scipy import optimize\n",
    "def f(x):\n",
    "    return (x**3 - 1)  # only one real root at x = 1\n",
    "\n",
    "def fprime(x):\n",
    "    return 3*x**2\n",
    "\n",
    "sol = optimize.root_scalar( f,                # function\n",
    "                            x0=0.2,           # initial guess\n",
    "                            fprime=fprime,    # first derivative\n",
    "                            method='newton')  # optimization method\n",
    "\n",
    "print(f\"The root of the function is: {sol.root}\")"
   ]
  },
  {
   "cell_type": "markdown",
   "source": [
    "Find the minimum of a function."
   ],
   "metadata": {
    "collapsed": false,
    "pycharm": {
     "name": "#%% md\n"
    }
   }
  },
  {
   "cell_type": "code",
   "execution_count": 11,
   "outputs": [
    {
     "name": "stdout",
     "output_type": "stream",
     "text": [
      "The minimum of the function is: 1.0\n"
     ]
    }
   ],
   "source": [
    "def f(x):\n",
    "    return (x ** 2 - 2 * x - 1)\n",
    "\n",
    "sol = optimize.minimize_scalar(f)\n",
    "print(f\"The minimum of the function is: {sol.x}\")"
   ],
   "metadata": {
    "collapsed": false,
    "pycharm": {
     "name": "#%%\n"
    }
   }
  },
  {
   "cell_type": "markdown",
   "metadata": {
    "id": "xCkcpr-fLdiR",
    "pycharm": {
     "name": "#%% md\n"
    }
   },
   "source": [
    "# More Numpy ?\n",
    "\n",
    "NumPy deserves your interest, especially for implementing numerical algorithms, matrix-based operations, and to exploit its great algorithms (see also scipy).\n",
    "\n",
    "From a data perspective, it provides a low level access. We will see the Pandas library, which is more data-oriented and it shares several commonalities with NumPy."
   ]
  },
  {
   "cell_type": "markdown",
   "metadata": {
    "id": "VV2GC-exoUj0",
    "pycharm": {
     "name": "#%% md\n"
    }
   },
   "source": [
    "### Arrays"
   ]
  },
  {
   "cell_type": "markdown",
   "metadata": {
    "id": "i7LXc-bOoUj0",
    "pycharm": {
     "name": "#%% md\n"
    }
   },
   "source": [
    "An array object represents a multidimensional, homogeneous array of items of the same data-type. Numpy array can be accessed by index into square brackets."
   ]
  },
  {
   "cell_type": "code",
   "execution_count": null,
   "metadata": {
    "id": "S4Yj0Rc-oUj1",
    "pycharm": {
     "name": "#%%\n"
    }
   },
   "outputs": [],
   "source": [
    "# Creating a rank 1 array\n",
    "a = np.array([1, 2, 3])  \n",
    "print(type(a), a.shape, a[0], a[1], a[2])"
   ]
  },
  {
   "cell_type": "code",
   "execution_count": null,
   "metadata": {
    "id": "NQ0URGjmoUj1",
    "pycharm": {
     "name": "#%%\n"
    }
   },
   "outputs": [],
   "source": [
    "# Changing an element of the array\n",
    "a[0] = 5                 \n",
    "print(a) "
   ]
  },
  {
   "cell_type": "code",
   "execution_count": null,
   "metadata": {
    "id": "XfcaHzB3oUj1",
    "pycharm": {
     "name": "#%%\n"
    }
   },
   "outputs": [],
   "source": [
    "# Create a rank 2 array\n",
    "b = np.array([[1, 2, 3], [4, 5, 6]])\n",
    "print(b)"
   ]
  },
  {
   "cell_type": "code",
   "execution_count": null,
   "metadata": {
    "id": "tsuGrVVYoUj1",
    "pycharm": {
     "name": "#%%\n"
    }
   },
   "outputs": [],
   "source": [
    "print(b.shape)"
   ]
  },
  {
   "cell_type": "code",
   "execution_count": null,
   "metadata": {
    "id": "PHoANYbLoUj1",
    "pycharm": {
     "name": "#%%\n"
    }
   },
   "outputs": [],
   "source": [
    "print(b[0, 0], b[0, 1], b[1, 0])"
   ]
  },
  {
   "cell_type": "markdown",
   "metadata": {
    "id": "PgShOU0QoUj2",
    "pycharm": {
     "name": "#%% md\n"
    }
   },
   "source": [
    "Numpy have methods to create several defaults arrays"
   ]
  },
  {
   "cell_type": "code",
   "execution_count": null,
   "metadata": {
    "id": "00trF56KoUj2",
    "pycharm": {
     "name": "#%%\n"
    }
   },
   "outputs": [],
   "source": [
    "# Create an array of all zeros\n",
    "print(\"Zeros array\")\n",
    "a = np.zeros((2,2))  \n",
    "print(a)"
   ]
  },
  {
   "cell_type": "code",
   "execution_count": null,
   "metadata": {
    "id": "6wCB9ZZPoUj2",
    "pycharm": {
     "name": "#%%\n"
    }
   },
   "outputs": [],
   "source": [
    "print(\"Ones array\")\n",
    "b = np.ones((1,2))   # Create an array of all ones\n",
    "print(b)"
   ]
  },
  {
   "cell_type": "code",
   "execution_count": null,
   "metadata": {
    "id": "5QaC-Bp8oUj2",
    "pycharm": {
     "name": "#%%\n"
    }
   },
   "outputs": [],
   "source": [
    "print(\"Full array\")\n",
    "c = np.full((2,2), 7) # Create an array of constants (7)\n",
    "print(c)"
   ]
  },
  {
   "cell_type": "code",
   "execution_count": null,
   "metadata": {
    "id": "dqaVacNKoUj2",
    "pycharm": {
     "name": "#%%\n"
    }
   },
   "outputs": [],
   "source": [
    "print(\"Identity matrix\")\n",
    "d = np.eye(2)        # Create a 2x2 identity matrix\n",
    "print(d)"
   ]
  },
  {
   "cell_type": "code",
   "execution_count": null,
   "metadata": {
    "id": "m_0u_EP_oUj2",
    "pycharm": {
     "name": "#%%\n"
    }
   },
   "outputs": [],
   "source": [
    "print(\"Random matrix\")\n",
    "e = np.random.random((2,2)) # Create an array filled with random values\n",
    "print(e)"
   ]
  },
  {
   "cell_type": "markdown",
   "metadata": {
    "id": "f36ZIJfqoUj2",
    "pycharm": {
     "name": "#%% md\n"
    }
   },
   "source": [
    "All the items of a numpy array have the same type. When you create an array, numpy guess which datatype fix better to your data, but you can set it when creating the numpy array. "
   ]
  },
  {
   "cell_type": "code",
   "execution_count": null,
   "metadata": {
    "id": "iqwmmJVpoUj3",
    "pycharm": {
     "name": "#%%\n"
    }
   },
   "outputs": [],
   "source": [
    "a = np.array([1, 2])                   # Let numpy choose the datatype\n",
    "b = np.array([1.0, 2.0])               # Let numpy choose the datatype\n",
    "c = np.array([1, 2], dtype=np.float32) #Force a particular datatype\n",
    "d = np.array([1, 2], dtype=np.int64)   #Force a particular datatype\n",
    "print(a)\n",
    "print(b)\n",
    "print(c)\n",
    "print(d)"
   ]
  },
  {
   "cell_type": "markdown",
   "metadata": {
    "id": "PreV0E9boUj3",
    "pycharm": {
     "name": "#%% md\n"
    }
   },
   "source": [
    "Numpy offers several ways to index into arrays.\n",
    "Similar to lists numpy arrays can be **sliced** specifing a slice for each dimension of the array."
   ]
  },
  {
   "cell_type": "code",
   "execution_count": null,
   "metadata": {
    "id": "PYIU6tkeoUj3",
    "pycharm": {
     "name": "#%%\n"
    }
   },
   "outputs": [],
   "source": [
    "import numpy as np\n",
    "a = np.array([[1, 2, 3, 4],\n",
    "              [5, 6, 7, 8], \n",
    "              [9, 10, 11, 12]])\n",
    "\n",
    "b = a[:2, 1:3] # rows 0,1 and columns 1,2\n",
    "print(b)"
   ]
  },
  {
   "cell_type": "markdown",
   "metadata": {
    "id": "NnY6KsmooUj3",
    "pycharm": {
     "name": "#%% md\n"
    }
   },
   "source": [
    "A slice of an array share the same memory area of the original array. Modifing it will modify also the original array"
   ]
  },
  {
   "cell_type": "code",
   "execution_count": null,
   "metadata": {
    "id": "2KLKdAbsoUj3",
    "pycharm": {
     "name": "#%%\n"
    }
   },
   "outputs": [],
   "source": [
    "b[0, 0] = 100\n",
    "print(a[0,1])"
   ]
  },
  {
   "cell_type": "markdown",
   "metadata": {
    "id": "UX-jhOiOoUj3",
    "pycharm": {
     "name": "#%% md\n"
    }
   },
   "source": [
    "Integer arrays can be used as indexes of other arrays"
   ]
  },
  {
   "cell_type": "code",
   "execution_count": null,
   "metadata": {
    "id": "QZZCa3rFoUj3",
    "pycharm": {
     "name": "#%%\n"
    }
   },
   "outputs": [],
   "source": [
    "# Create an array of indices\n",
    "b = np.array([0, 2, 0])\n",
    "# Select one element from each row of a using the indices in b\n",
    "print(a[np.arange(3), b])  # a[[0,1,2], [0,2,0]] ->  Prints a[0,0] , a[1,2], a[2,0]"
   ]
  },
  {
   "cell_type": "markdown",
   "metadata": {
    "id": "x98_6-8ioUj3",
    "pycharm": {
     "name": "#%% md\n"
    }
   },
   "source": [
    "Boolean array indexing: Boolean array indexing lets you pick out arbitrary elements of an array. Frequently this type of indexing is used to select the elements of an array that satisfies some condition. Here is an example:"
   ]
  },
  {
   "cell_type": "code",
   "execution_count": null,
   "metadata": {
    "id": "RxM5SpTCoUj4",
    "pycharm": {
     "name": "#%%\n"
    }
   },
   "outputs": [],
   "source": [
    "import numpy as np\n",
    "\n",
    "a = np.array([[1,2], [3, 4], [5, 6]])\n",
    "\n",
    "idx = (a > 2)  # Find the elements of a that are bigger than 2;\n",
    "                    # this returns a numpy array of Booleans of the same\n",
    "                    # shape as a, where each slot of bool_idx tells\n",
    "                    # whether that element of a is > 2.\n",
    "print(a)\n",
    "print(idx)"
   ]
  },
  {
   "cell_type": "code",
   "execution_count": null,
   "metadata": {
    "id": "iYQMM5oToUj4",
    "pycharm": {
     "name": "#%%\n"
    }
   },
   "outputs": [],
   "source": [
    "print(a[idx])"
   ]
  },
  {
   "cell_type": "markdown",
   "metadata": {
    "id": "T_NnhgVioUj4",
    "pycharm": {
     "name": "#%% md\n"
    }
   },
   "source": [
    "### Array math"
   ]
  },
  {
   "cell_type": "markdown",
   "metadata": {
    "id": "2nWE_vi8oUj4",
    "pycharm": {
     "name": "#%% md\n"
    }
   },
   "source": [
    "Basic mathematical functions operate elementwise on arrays, and are available both as operator overloads and as functions in the numpy module:"
   ]
  },
  {
   "cell_type": "code",
   "execution_count": null,
   "metadata": {
    "id": "aIbXEtORoUj4",
    "pycharm": {
     "name": "#%%\n"
    }
   },
   "outputs": [],
   "source": [
    "import numpy as np\n",
    "\n",
    "x = np.array([[-1,-2],[-3,-4]], dtype=np.float64)\n",
    "y = np.array([[5,6],[7,8]], dtype=np.float64)\n",
    "\n",
    "print(\"x=\\n\", x)\n",
    "print(\"y=\\n\",y)"
   ]
  },
  {
   "cell_type": "code",
   "execution_count": null,
   "metadata": {
    "id": "_1WHikwjoUj4",
    "pycharm": {
     "name": "#%%\n"
    }
   },
   "outputs": [],
   "source": [
    "print(\"Element-wise sum\")\n",
    "print(x + y)"
   ]
  },
  {
   "cell_type": "code",
   "execution_count": null,
   "metadata": {
    "id": "z8dUP8YooUj5",
    "pycharm": {
     "name": "#%%\n"
    }
   },
   "outputs": [],
   "source": [
    "print(\"Element-wise difference\")\n",
    "print(x - y)"
   ]
  },
  {
   "cell_type": "code",
   "execution_count": null,
   "metadata": {
    "id": "WU_64_m-oUj5",
    "pycharm": {
     "name": "#%%\n"
    }
   },
   "outputs": [],
   "source": [
    "print(\"Element-wise product\")\n",
    "print(x * y)"
   ]
  },
  {
   "cell_type": "code",
   "execution_count": null,
   "metadata": {
    "id": "2k8bYqFzoUj5",
    "pycharm": {
     "name": "#%%\n"
    }
   },
   "outputs": [],
   "source": [
    "print(\"Element-wise division\")\n",
    "print(x / y)"
   ]
  },
  {
   "cell_type": "code",
   "execution_count": null,
   "metadata": {
    "id": "o-3pO928oUj5",
    "pycharm": {
     "name": "#%%\n"
    }
   },
   "outputs": [],
   "source": [
    "print(\"Element-wise absoulte value\")\n",
    "print(np.abs(x))"
   ]
  },
  {
   "cell_type": "markdown",
   "metadata": {
    "id": "dHtzsQaboUj5",
    "pycharm": {
     "name": "#%% md\n"
    }
   },
   "source": [
    "Moreover, several mathematical operation between arrays are implemented in Numpy."
   ]
  },
  {
   "cell_type": "code",
   "execution_count": null,
   "metadata": {
    "id": "O8Z60SUQoUj5",
    "pycharm": {
     "name": "#%%\n"
    }
   },
   "outputs": [],
   "source": [
    "print(\"Elementwise square root\")\n",
    "print(np.sqrt(y))"
   ]
  },
  {
   "cell_type": "code",
   "execution_count": null,
   "metadata": {
    "id": "av38eWrLoUj5",
    "pycharm": {
     "name": "#%%\n"
    }
   },
   "outputs": [],
   "source": [
    "print(\"Dot product\")\n",
    "print(x.dot(y))\n",
    "print(np.dot(x, y))"
   ]
  },
  {
   "cell_type": "markdown",
   "metadata": {
    "id": "GTvd6CWvoUj6",
    "pycharm": {
     "name": "#%% md\n"
    }
   },
   "source": [
    "Numpy provides several reduction functions."
   ]
  },
  {
   "cell_type": "code",
   "execution_count": null,
   "metadata": {
    "id": "JOabkKC7oUj6",
    "pycharm": {
     "name": "#%%\n"
    }
   },
   "outputs": [],
   "source": [
    "# Compute sum of all elements; prints \"10\"\n",
    "print(np.sum(x))"
   ]
  },
  {
   "cell_type": "code",
   "execution_count": null,
   "metadata": {
    "id": "Z2ArqWD7oUj6",
    "pycharm": {
     "name": "#%%\n"
    }
   },
   "outputs": [],
   "source": [
    "# Compute sum of each column; prints \"[-4 -6]\"\n",
    "print(np.sum(x, axis=0))"
   ]
  },
  {
   "cell_type": "code",
   "execution_count": null,
   "metadata": {
    "id": "5liCVjkZoUj6",
    "pycharm": {
     "name": "#%%\n"
    }
   },
   "outputs": [],
   "source": [
    " # Compute sum of each row; prints \"[-3 -7]\"\n",
    "print(np.sum(x, axis=1))"
   ]
  },
  {
   "cell_type": "code",
   "execution_count": null,
   "metadata": {
    "id": "6epKVK0BoUj6",
    "pycharm": {
     "name": "#%%\n"
    }
   },
   "outputs": [],
   "source": [
    "# Compute the mean of all elements\n",
    "print(np.mean(x))"
   ]
  },
  {
   "cell_type": "code",
   "execution_count": null,
   "metadata": {
    "id": "_bgiL7VZoUj6",
    "pycharm": {
     "name": "#%%\n"
    }
   },
   "outputs": [],
   "source": [
    "# Compute the mean of axis 0\n",
    "print(np.mean(x, axis= 0))"
   ]
  },
  {
   "cell_type": "code",
   "execution_count": null,
   "metadata": {
    "id": "zTaYC5iwoUj6",
    "pycharm": {
     "name": "#%%\n"
    }
   },
   "outputs": [],
   "source": [
    "# Compute the mean of axis 1\n",
    "print(np.mean(x, axis=1))"
   ]
  },
  {
   "cell_type": "markdown",
   "metadata": {
    "id": "ZvzWzuhHoUj7",
    "pycharm": {
     "name": "#%% md\n"
    }
   },
   "source": [
    "Moreover, Numpy provides function to modify the shape of arrays."
   ]
  },
  {
   "cell_type": "code",
   "execution_count": null,
   "metadata": {
    "id": "ferHe1tfoUj7",
    "pycharm": {
     "name": "#%%\n"
    }
   },
   "outputs": [],
   "source": [
    "print(x)\n",
    "print(\"Transpose\")\n",
    "print(x.T)"
   ]
  },
  {
   "cell_type": "code",
   "execution_count": null,
   "metadata": {
    "id": "kXxpfJ7toUj7",
    "pycharm": {
     "name": "#%%\n"
    }
   },
   "outputs": [],
   "source": [
    "print(\"Reshape Shape source: \", x.shape, \"Shape target: \", (1,4))\n",
    "print(x.reshape([1,4]))"
   ]
  },
  {
   "cell_type": "markdown",
   "metadata": {
    "id": "22OovumJoUj7",
    "pycharm": {
     "name": "#%% md\n"
    }
   },
   "source": [
    "You can find the full list functions provided by numpy in the [documentation](https://docs.scipy.org/doc/numpy-1.17.0/reference/)."
   ]
  },
  {
   "cell_type": "markdown",
   "metadata": {
    "id": "NLGWosz9oUj7",
    "pycharm": {
     "name": "#%% md\n"
    }
   },
   "source": [
    "### Broadcasting"
   ]
  },
  {
   "cell_type": "markdown",
   "metadata": {
    "id": "VFf5eJJIoUj7",
    "pycharm": {
     "name": "#%% md\n"
    }
   },
   "source": [
    "Broadcasting is the mechanism used by numpy to deal with arrays of different shapes during mathematical operations. This can be extremely useful in a variety of situation and expedites the computation time in matrix operations. Below an example of sum between arrays with different shapes implemented with for cycle and without broadcasting: "
   ]
  },
  {
   "cell_type": "code",
   "execution_count": null,
   "metadata": {
    "id": "Ux3GO3RYoUj7",
    "pycharm": {
     "name": "#%%\n"
    }
   },
   "outputs": [],
   "source": [
    "x = np.array([[1,2,3], [4,5,6], [7,8,9], [10, 11, 12]])\n",
    "v = np.array([0, 0, 1])\n",
    "\n",
    "print(\"x=\\n\",x , \"Shape: \", x.shape)\n",
    "print(\"v=\\n\", v, \"Shape: \", v.shape)"
   ]
  },
  {
   "cell_type": "markdown",
   "metadata": {
    "id": "4vWIIOkAoUj7",
    "pycharm": {
     "name": "#%% md\n"
    }
   },
   "source": [
    "**x + v Cycling rows**"
   ]
  },
  {
   "cell_type": "code",
   "execution_count": null,
   "metadata": {
    "id": "oTbmRvhOoUj7",
    "pycharm": {
     "name": "#%%\n"
    }
   },
   "outputs": [],
   "source": [
    "# We will add the vector v to each row of the matrix x,\n",
    "# storing the result in the matrix y\n",
    "y = np.empty_like(x)   # Create an empty matrix with the same shape as x\n",
    "\n",
    "# Add the vector v to each row of the matrix x with an explicit loop\n",
    "for i in range(4):\n",
    "    y[i, :] = x[i, :] + v\n",
    "\n",
    "print(y)"
   ]
  },
  {
   "cell_type": "markdown",
   "metadata": {
    "id": "NlhyWqepoUj8",
    "pycharm": {
     "name": "#%% md\n"
    }
   },
   "source": [
    "If the matrix _x_ is very large, computing loop cycles in Python is really slow. \n",
    "Another way to implement the same problem improving the perfomances could be stacking  multiple copies of v.\n",
    "\n",
    "**x+v Stacking**"
   ]
  },
  {
   "cell_type": "code",
   "execution_count": null,
   "metadata": {
    "id": "5GZFOXV6oUj8",
    "pycharm": {
     "name": "#%%\n"
    }
   },
   "outputs": [],
   "source": [
    "print(\"x= \\n\", x)\n",
    "vv = np.tile(v, (4, 1))  # Stack 4 copies of v on top of each other\n",
    "print(\"vv = \\n\", vv)\n",
    "y = x + vv\n",
    "print(\"x + vv =\\n\" , y)"
   ]
  },
  {
   "cell_type": "markdown",
   "metadata": {
    "id": "PXbUvZ31oUj8",
    "pycharm": {
     "name": "#%% md\n"
    }
   },
   "source": [
    "This version is computationally cheap but the code is not straightforward to write. Broadcasting allows to do it extremely easy automatically adressing shape compability problems.\n",
    "\n",
    "**x+v Numpy Broadcasting*"
   ]
  },
  {
   "cell_type": "code",
   "execution_count": null,
   "metadata": {
    "id": "jloLqavFoUj8",
    "pycharm": {
     "name": "#%%\n"
    }
   },
   "outputs": [],
   "source": [
    "# Add v to each row of x using broadcasting\n",
    "y = x + v  \n",
    "print(y)"
   ]
  },
  {
   "cell_type": "markdown",
   "metadata": {
    "id": "mBh2v7gnoUj8",
    "pycharm": {
     "name": "#%% md\n"
    }
   },
   "source": [
    "The line `y = x + v` works even though `x` has shape `(4, 3)` and `v` has shape `(3,)` due to broadcasting; this line works as if v actually had shape `(4, 3)`, where each row was a copy of `v`, and the sum was performed elementwise."
   ]
  },
  {
   "cell_type": "markdown",
   "metadata": {
    "id": "cgEDcj_JoUj8",
    "pycharm": {
     "name": "#%% md\n"
    }
   },
   "source": [
    "Example: multiply by a scalar:"
   ]
  },
  {
   "cell_type": "code",
   "execution_count": null,
   "metadata": {
    "id": "POrgj08NoUj8",
    "pycharm": {
     "name": "#%%\n"
    }
   },
   "outputs": [],
   "source": [
    "# Multiply a matrix by a constant:\n",
    "# x has shape (2, 3). Numpy treats scalars as arrays of shape () these can be broadcast together to shape (2, 3)\n",
    "print(x * 2)"
   ]
  },
  {
   "cell_type": "markdown",
   "metadata": {
    "id": "lCgMigkWoUj8",
    "pycharm": {
     "name": "#%% md\n"
    }
   },
   "source": [
    "**Broadcasting** two arrays together follows these **rules**:\n",
    "\n",
    "1. If the arrays do not have the same rank, prepend the shape of the lower rank array with 1s until both shapes have the same length.\n",
    "2. The two arrays are said to be compatible in a dimension if they have the same size in the dimension, or if one of the arrays has size 1 in that dimension.\n",
    "3. The arrays can be broadcast together if they are compatible in all dimensions.\n",
    "4. After broadcasting, each array behaves as if it had shape equal to the elementwise maximum of shapes of the two input arrays.\n",
    "5. In any dimension where one array had size 1 and the other array had size greater than 1, the first array behaves as if it were copied along that dimension\n",
    "\n",
    "Example of **compatible shapes** for broadcasting: "
   ]
  },
  {
   "cell_type": "markdown",
   "metadata": {
    "id": "kn_6ttKgoUj9",
    "pycharm": {
     "name": "#%% md\n"
    }
   },
   "source": [
    "A      (3d array):  15 x 3 x 5\n",
    "\n",
    "B      (2d array):       3 x 5\n",
    "\n",
    "**Result** (3d array):  15 x 3 x 5"
   ]
  },
  {
   "cell_type": "markdown",
   "metadata": {
    "id": "XUaWMTuvoUj9",
    "pycharm": {
     "name": "#%% md\n"
    }
   },
   "source": [
    "A      (3d array):  15 x 3 x 5\n",
    "\n",
    "B      (3d array):  15 x 1 x 5\n",
    "\n",
    "**Result** (3d array):  15 x 3 x 5"
   ]
  },
  {
   "cell_type": "markdown",
   "metadata": {
    "id": "1yw3YhHJoUj9",
    "pycharm": {
     "name": "#%% md\n"
    }
   },
   "source": [
    "A      (2d array):  5 x 4\n",
    "\n",
    "B      (1d array):      1\n",
    "\n",
    "**Result** (2d array):  5 x 4"
   ]
  },
  {
   "cell_type": "markdown",
   "metadata": {
    "id": "gu4rq9K8oUj9",
    "pycharm": {
     "name": "#%% md\n"
    }
   },
   "source": [
    "Example of **incompatible shapes** for broadcasting:"
   ]
  },
  {
   "cell_type": "markdown",
   "metadata": {
    "id": "6tPjk_SQoUj9",
    "pycharm": {
     "name": "#%% md\n"
    }
   },
   "source": [
    "A      (1d array):  3\n",
    "\n",
    "B      (1d array):  4\n",
    "\n",
    "**Trailing dimensions do not match**"
   ]
  },
  {
   "cell_type": "code",
   "execution_count": null,
   "metadata": {
    "id": "SJ_8UZtcoUj9",
    "pycharm": {
     "name": "#%%\n"
    }
   },
   "outputs": [],
   "source": [
    "a=np.array([1,2,3])\n",
    "b=np.array([1,2,3,4])\n",
    "print(a+b) # Throw Exception"
   ]
  }
 ],
 "metadata": {
  "kernelspec": {
   "display_name": "Python 3",
   "language": "python",
   "name": "python3"
  },
  "language_info": {
   "codemirror_mode": {
    "name": "ipython",
    "version": 3
   },
   "file_extension": ".py",
   "mimetype": "text/x-python",
   "name": "python",
   "nbconvert_exporter": "python",
   "pygments_lexer": "ipython3",
   "version": "3.7.3"
  },
  "latex_envs": {
   "LaTeX_envs_menu_present": true,
   "autoclose": false,
   "autocomplete": true,
   "bibliofile": "biblio.bib",
   "cite_by": "apalike",
   "current_citInitial": 1,
   "eqLabelWithNumbers": true,
   "eqNumInitial": 1,
   "hotkeys": {
    "equation": "Ctrl-E",
    "itemize": "Ctrl-I"
   },
   "labels_anchors": false,
   "latex_user_defs": false,
   "report_style_numbering": false,
   "user_envs_cfg": false
  },
  "varInspector": {
   "cols": {
    "lenName": 16,
    "lenType": 16,
    "lenVar": 40
   },
   "kernels_config": {
    "python": {
     "delete_cmd_postfix": "",
     "delete_cmd_prefix": "del ",
     "library": "var_list.py",
     "varRefreshCmd": "print(var_dic_list())"
    },
    "r": {
     "delete_cmd_postfix": ") ",
     "delete_cmd_prefix": "rm(",
     "library": "var_list.r",
     "varRefreshCmd": "cat(var_dic_list()) "
    }
   },
   "types_to_exclude": [
    "module",
    "function",
    "builtin_function_or_method",
    "instance",
    "_Feature"
   ],
   "window_display": false
  },
  "colab": {
   "provenance": [],
   "collapsed_sections": [
    "sQvAuP9AIEFy",
    "nQeQLh1JIy7b",
    "0lyEOKsTKUP4",
    "Gmp5SsAOGBo4",
    "LCoQ0KYnJKI_",
    "TlQS9pJ4KDVk",
    "7c3xM92YLdiO",
    "00NTd28CLdiR",
    "xCkcpr-fLdiR",
    "VV2GC-exoUj0",
    "T_NnhgVioUj4",
    "NLGWosz9oUj7"
   ]
  }
 },
 "nbformat": 4,
 "nbformat_minor": 0
}