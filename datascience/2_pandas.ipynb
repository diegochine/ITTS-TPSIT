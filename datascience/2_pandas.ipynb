{
 "cells": [
  {
   "cell_type": "markdown",
   "metadata": {
    "id": "j_a0xZPQLdiK",
    "pycharm": {
     "name": "#%% md\n"
    }
   },
   "source": [
    "# pandas: Python Data Analysis library\n",
    "\n",
    "*Chinellato Diego - TPSIT*\n",
    "\n",
    "*ITTS V. Volterra*\n",
    "\n",
    "*A.S. 2022/2023*"
   ]
  },
  {
   "cell_type": "markdown",
   "metadata": {
    "id": "XHXkWkHELdiR",
    "pycharm": {
     "name": "#%% md\n"
    }
   },
   "source": [
    "See: https://pandas.pydata.org/\n",
    "\n",
    "Pandas is an open source providing high-performance, easy-to-use data structures and data analysis tools for the Python programming language."
   ]
  },
  {
   "cell_type": "markdown",
   "metadata": {
    "id": "0hAUbKErLdiR",
    "pycharm": {
     "name": "#%% md\n"
    }
   },
   "source": [
    "## Let's read our dataset with one line of code!\n",
    "\n",
    "We can read an excel file!\n",
    "\n",
    "See: https://pandas.pydata.org/pandas-docs/stable/reference/api/pandas.read_excel.html\n",
    "\n",
    "Check also the `sheet_name` parameter."
   ]
  },
  {
   "cell_type": "code",
   "execution_count": 5,
   "metadata": {
    "scrolled": true,
    "id": "rPu5Wj0GLdiR",
    "colab": {
     "base_uri": "https://localhost:8080/",
     "height": 490
    },
    "executionInfo": {
     "status": "ok",
     "timestamp": 1670229768751,
     "user_tz": -60,
     "elapsed": 3444,
     "user": {
      "displayName": "Diego Chinellato",
      "userId": "17373725090461795110"
     }
    },
    "outputId": "bd4fb2e6-6a7e-439d-e1dc-05e31e8be108",
    "pycharm": {
     "name": "#%%\n"
    }
   },
   "outputs": [
    {
     "data": {
      "text/plain": "   ATP  Location                Tournament       Date  Series    Court  \\\n0    1  Adelaide  Adelaide International 1 2022-01-03  ATP250  Outdoor   \n1    1  Adelaide  Adelaide International 1 2022-01-03  ATP250  Outdoor   \n2    1  Adelaide  Adelaide International 1 2022-01-03  ATP250  Outdoor   \n3    1  Adelaide  Adelaide International 1 2022-01-03  ATP250  Outdoor   \n4    1  Adelaide  Adelaide International 1 2022-01-04  ATP250  Outdoor   \n\n  Surface      Round  Best of       Winner  ... Lsets    Comment  B365W  \\\n0    Hard  1st Round      3.0    Kwon S.W.  ...   0.0  Completed   1.61   \n1    Hard  1st Round      3.0  Monteiro T.  ...   1.0  Completed   2.30   \n2    Hard  1st Round      3.0     Djere L.  ...   0.0  Completed   1.66   \n3    Hard  1st Round      3.0   Johnson S.  ...   1.0  Completed   2.00   \n4    Hard  1st Round      3.0    Moutet C.  ...   0.0  Completed   2.75   \n\n   B365L   PSW   PSL  MaxW  MaxL  AvgW  AvgL  \n0   2.30  1.70  2.26  1.76  2.50  1.64  2.22  \n1   1.61  2.49  1.60  2.60  1.62  2.38  1.57  \n2   2.20  1.81  2.10  1.83  2.26  1.70  2.12  \n3   1.80  2.21  1.74  2.30  1.80  2.10  1.72  \n4   1.44  2.66  1.53  2.81  1.54  2.64  1.47  \n\n[5 rows x 36 columns]",
      "text/html": "<div>\n<style scoped>\n    .dataframe tbody tr th:only-of-type {\n        vertical-align: middle;\n    }\n\n    .dataframe tbody tr th {\n        vertical-align: top;\n    }\n\n    .dataframe thead th {\n        text-align: right;\n    }\n</style>\n<table border=\"1\" class=\"dataframe\">\n  <thead>\n    <tr style=\"text-align: right;\">\n      <th></th>\n      <th>ATP</th>\n      <th>Location</th>\n      <th>Tournament</th>\n      <th>Date</th>\n      <th>Series</th>\n      <th>Court</th>\n      <th>Surface</th>\n      <th>Round</th>\n      <th>Best of</th>\n      <th>Winner</th>\n      <th>...</th>\n      <th>Lsets</th>\n      <th>Comment</th>\n      <th>B365W</th>\n      <th>B365L</th>\n      <th>PSW</th>\n      <th>PSL</th>\n      <th>MaxW</th>\n      <th>MaxL</th>\n      <th>AvgW</th>\n      <th>AvgL</th>\n    </tr>\n  </thead>\n  <tbody>\n    <tr>\n      <th>0</th>\n      <td>1</td>\n      <td>Adelaide</td>\n      <td>Adelaide International 1</td>\n      <td>2022-01-03</td>\n      <td>ATP250</td>\n      <td>Outdoor</td>\n      <td>Hard</td>\n      <td>1st Round</td>\n      <td>3.0</td>\n      <td>Kwon S.W.</td>\n      <td>...</td>\n      <td>0.0</td>\n      <td>Completed</td>\n      <td>1.61</td>\n      <td>2.30</td>\n      <td>1.70</td>\n      <td>2.26</td>\n      <td>1.76</td>\n      <td>2.50</td>\n      <td>1.64</td>\n      <td>2.22</td>\n    </tr>\n    <tr>\n      <th>1</th>\n      <td>1</td>\n      <td>Adelaide</td>\n      <td>Adelaide International 1</td>\n      <td>2022-01-03</td>\n      <td>ATP250</td>\n      <td>Outdoor</td>\n      <td>Hard</td>\n      <td>1st Round</td>\n      <td>3.0</td>\n      <td>Monteiro T.</td>\n      <td>...</td>\n      <td>1.0</td>\n      <td>Completed</td>\n      <td>2.30</td>\n      <td>1.61</td>\n      <td>2.49</td>\n      <td>1.60</td>\n      <td>2.60</td>\n      <td>1.62</td>\n      <td>2.38</td>\n      <td>1.57</td>\n    </tr>\n    <tr>\n      <th>2</th>\n      <td>1</td>\n      <td>Adelaide</td>\n      <td>Adelaide International 1</td>\n      <td>2022-01-03</td>\n      <td>ATP250</td>\n      <td>Outdoor</td>\n      <td>Hard</td>\n      <td>1st Round</td>\n      <td>3.0</td>\n      <td>Djere L.</td>\n      <td>...</td>\n      <td>0.0</td>\n      <td>Completed</td>\n      <td>1.66</td>\n      <td>2.20</td>\n      <td>1.81</td>\n      <td>2.10</td>\n      <td>1.83</td>\n      <td>2.26</td>\n      <td>1.70</td>\n      <td>2.12</td>\n    </tr>\n    <tr>\n      <th>3</th>\n      <td>1</td>\n      <td>Adelaide</td>\n      <td>Adelaide International 1</td>\n      <td>2022-01-03</td>\n      <td>ATP250</td>\n      <td>Outdoor</td>\n      <td>Hard</td>\n      <td>1st Round</td>\n      <td>3.0</td>\n      <td>Johnson S.</td>\n      <td>...</td>\n      <td>1.0</td>\n      <td>Completed</td>\n      <td>2.00</td>\n      <td>1.80</td>\n      <td>2.21</td>\n      <td>1.74</td>\n      <td>2.30</td>\n      <td>1.80</td>\n      <td>2.10</td>\n      <td>1.72</td>\n    </tr>\n    <tr>\n      <th>4</th>\n      <td>1</td>\n      <td>Adelaide</td>\n      <td>Adelaide International 1</td>\n      <td>2022-01-04</td>\n      <td>ATP250</td>\n      <td>Outdoor</td>\n      <td>Hard</td>\n      <td>1st Round</td>\n      <td>3.0</td>\n      <td>Moutet C.</td>\n      <td>...</td>\n      <td>0.0</td>\n      <td>Completed</td>\n      <td>2.75</td>\n      <td>1.44</td>\n      <td>2.66</td>\n      <td>1.53</td>\n      <td>2.81</td>\n      <td>1.54</td>\n      <td>2.64</td>\n      <td>1.47</td>\n    </tr>\n  </tbody>\n</table>\n<p>5 rows × 36 columns</p>\n</div>"
     },
     "execution_count": 5,
     "metadata": {},
     "output_type": "execute_result"
    }
   ],
   "source": [
    "import pandas as pd\n",
    "import requests as r\n",
    "\n",
    "df = pd.read_excel('http://tennis-data.co.uk/2022/2022.xlsx')\n",
    "df.head() # see https://pandas.pydata.org/pandas-docs/stable/reference/api/pandas.DataFrame.head.html"
   ]
  },
  {
   "cell_type": "code",
   "execution_count": 3,
   "metadata": {
    "id": "4DPh0V-FLdiS",
    "colab": {
     "base_uri": "https://localhost:8080/"
    },
    "executionInfo": {
     "status": "ok",
     "timestamp": 1670229773607,
     "user_tz": -60,
     "elapsed": 418,
     "user": {
      "displayName": "Diego Chinellato",
      "userId": "17373725090461795110"
     }
    },
    "outputId": "4ca772af-6b8b-44c9-f7a3-f5db8bb3f52a",
    "pycharm": {
     "name": "#%%\n"
    }
   },
   "outputs": [
    {
     "output_type": "stream",
     "name": "stdout",
     "text": [
      "<class 'pandas.core.frame.DataFrame'>\n"
     ]
    }
   ],
   "source": [
    "print(type(df))\n",
    "# see https://pandas.pydata.org/pandas-docs/stable/reference/frame.html"
   ]
  },
  {
   "cell_type": "markdown",
   "metadata": {
    "id": "b2ZROpiPLdiS",
    "pycharm": {
     "name": "#%% md\n"
    }
   },
   "source": [
    "## Dataframe\n",
    "\n",
    "- **DataFrame** is a 2-dimensional table of data and contains an ordered collection of columns, each of which can be a different value type (numeric, string, boolean, etc.).\n",
    "\n",
    "See: https://pandas.pydata.org/pandas-docs/stable/generated/pandas.DataFrame.html\n",
    "\n",
    "**Features of DataFrame:**\n",
    "- Mutable\n",
    "- Potentially columns are of different types\n",
    "- Labeled axes (rows and columns)\n",
    "- Can Perform Arithmetic operations on rows and columns\n",
    "\n",
    "A DataFrame can be seen as a dictionary of columns (indeed, pandas Series), all sharing the same index. "
   ]
  },
  {
   "cell_type": "markdown",
   "metadata": {
    "id": "fxh2nk02LdiS",
    "pycharm": {
     "name": "#%% md\n"
    }
   },
   "source": [
    "We can ask the number of rows and columns.\n",
    "We can access index and columns labels with attributes `index`and `column`."
   ]
  },
  {
   "cell_type": "code",
   "execution_count": 4,
   "metadata": {
    "scrolled": true,
    "id": "ofJ6orKnLdiS",
    "colab": {
     "base_uri": "https://localhost:8080/"
    },
    "executionInfo": {
     "status": "ok",
     "timestamp": 1670229797536,
     "user_tz": -60,
     "elapsed": 284,
     "user": {
      "displayName": "Diego Chinellato",
      "userId": "17373725090461795110"
     }
    },
    "outputId": "92a97dfc-0eb0-47d4-b558-f875ab9ba645",
    "pycharm": {
     "name": "#%%\n"
    }
   },
   "outputs": [
    {
     "output_type": "stream",
     "name": "stdout",
     "text": [
      "df.shape: (2632, 36)\n",
      "df.index: RangeIndex(start=0, stop=2632, step=1)\n",
      "df.columns: Index(['ATP', 'Location', 'Tournament', 'Date', 'Series', 'Court', 'Surface',\n",
      "       'Round', 'Best of', 'Winner', 'Loser', 'WRank', 'LRank', 'WPts', 'LPts',\n",
      "       'W1', 'L1', 'W2', 'L2', 'W3', 'L3', 'W4', 'L4', 'W5', 'L5', 'Wsets',\n",
      "       'Lsets', 'Comment', 'B365W', 'B365L', 'PSW', 'PSL', 'MaxW', 'MaxL',\n",
      "       'AvgW', 'AvgL'],\n",
      "      dtype='object')\n"
     ]
    }
   ],
   "source": [
    "print(\"df.shape:\", df.shape)\n",
    "print(\"df.index:\", df.index)\n",
    "print(\"df.columns:\", df.columns)"
   ]
  },
  {
   "cell_type": "markdown",
   "metadata": {
    "id": "XtL_GvUZLdiU",
    "pycharm": {
     "name": "#%% md\n"
    }
   },
   "source": [
    "## Question: What is the number of matches?\n"
   ]
  },
  {
   "cell_type": "code",
   "execution_count": 6,
   "metadata": {
    "id": "bunOPGX3LdiU",
    "colab": {
     "base_uri": "https://localhost:8080/"
    },
    "executionInfo": {
     "status": "ok",
     "timestamp": 1670229810566,
     "user_tz": -60,
     "elapsed": 250,
     "user": {
      "displayName": "Diego Chinellato",
      "userId": "17373725090461795110"
     }
    },
    "outputId": "793404b5-3e40-4966-a354-ed648ec8f7c7",
    "pycharm": {
     "name": "#%%\n"
    }
   },
   "outputs": [
    {
     "output_type": "stream",
     "name": "stdout",
     "text": [
      "Dataframe shape is (2632, 36)\n",
      "The number of matches is 2632\n"
     ]
    }
   ],
   "source": [
    "print (f\"Dataframe shape is {df.shape}\")\n",
    "num_matches, num_columns = df.shape\n",
    "print (f\"The number of matches is {num_matches}\")"
   ]
  },
  {
   "cell_type": "markdown",
   "metadata": {
    "id": "N06iifpOLdiU",
    "pycharm": {
     "name": "#%% md\n"
    }
   },
   "source": [
    "### Names\n",
    "\n",
    "Both index and columns have an attribute `name` to specify their names.\n"
   ]
  },
  {
   "cell_type": "code",
   "execution_count": 7,
   "metadata": {
    "id": "em40_hghLdiU",
    "colab": {
     "base_uri": "https://localhost:8080/",
     "height": 522
    },
    "executionInfo": {
     "status": "ok",
     "timestamp": 1670229814493,
     "user_tz": -60,
     "elapsed": 8,
     "user": {
      "displayName": "Diego Chinellato",
      "userId": "17373725090461795110"
     }
    },
    "outputId": "083e2303-adcf-431c-c3b1-ad1a6c053490",
    "pycharm": {
     "name": "#%%\n"
    }
   },
   "outputs": [
    {
     "output_type": "execute_result",
     "data": {
      "text/plain": [
       "Attributes  ATP  Location                Tournament       Date  Series  \\\n",
       "Match ID                                                                 \n",
       "0             1  Adelaide  Adelaide International 1 2022-01-03  ATP250   \n",
       "1             1  Adelaide  Adelaide International 1 2022-01-03  ATP250   \n",
       "2             1  Adelaide  Adelaide International 1 2022-01-03  ATP250   \n",
       "3             1  Adelaide  Adelaide International 1 2022-01-03  ATP250   \n",
       "4             1  Adelaide  Adelaide International 1 2022-01-04  ATP250   \n",
       "\n",
       "Attributes    Court Surface      Round  Best of       Winner  ... Lsets  \\\n",
       "Match ID                                                      ...         \n",
       "0           Outdoor    Hard  1st Round      3.0    Kwon S.W.  ...   0.0   \n",
       "1           Outdoor    Hard  1st Round      3.0  Monteiro T.  ...   1.0   \n",
       "2           Outdoor    Hard  1st Round      3.0     Djere L.  ...   0.0   \n",
       "3           Outdoor    Hard  1st Round      3.0   Johnson S.  ...   1.0   \n",
       "4           Outdoor    Hard  1st Round      3.0    Moutet C.  ...   0.0   \n",
       "\n",
       "Attributes    Comment  B365W  B365L   PSW   PSL  MaxW  MaxL  AvgW  AvgL  \n",
       "Match ID                                                                 \n",
       "0           Completed   1.61   2.30  1.70  2.26  1.76  2.50  1.64  2.22  \n",
       "1           Completed   2.30   1.61  2.49  1.60  2.60  1.62  2.38  1.57  \n",
       "2           Completed   1.66   2.20  1.81  2.10  1.83  2.26  1.70  2.12  \n",
       "3           Completed   2.00   1.80  2.21  1.74  2.30  1.80  2.10  1.72  \n",
       "4           Completed   2.75   1.44  2.66  1.53  2.81  1.54  2.64  1.47  \n",
       "\n",
       "[5 rows x 36 columns]"
      ],
      "text/html": [
       "\n",
       "  <div id=\"df-0c1231d1-61bd-446b-8a38-e6567281d075\">\n",
       "    <div class=\"colab-df-container\">\n",
       "      <div>\n",
       "<style scoped>\n",
       "    .dataframe tbody tr th:only-of-type {\n",
       "        vertical-align: middle;\n",
       "    }\n",
       "\n",
       "    .dataframe tbody tr th {\n",
       "        vertical-align: top;\n",
       "    }\n",
       "\n",
       "    .dataframe thead th {\n",
       "        text-align: right;\n",
       "    }\n",
       "</style>\n",
       "<table border=\"1\" class=\"dataframe\">\n",
       "  <thead>\n",
       "    <tr style=\"text-align: right;\">\n",
       "      <th>Attributes</th>\n",
       "      <th>ATP</th>\n",
       "      <th>Location</th>\n",
       "      <th>Tournament</th>\n",
       "      <th>Date</th>\n",
       "      <th>Series</th>\n",
       "      <th>Court</th>\n",
       "      <th>Surface</th>\n",
       "      <th>Round</th>\n",
       "      <th>Best of</th>\n",
       "      <th>Winner</th>\n",
       "      <th>...</th>\n",
       "      <th>Lsets</th>\n",
       "      <th>Comment</th>\n",
       "      <th>B365W</th>\n",
       "      <th>B365L</th>\n",
       "      <th>PSW</th>\n",
       "      <th>PSL</th>\n",
       "      <th>MaxW</th>\n",
       "      <th>MaxL</th>\n",
       "      <th>AvgW</th>\n",
       "      <th>AvgL</th>\n",
       "    </tr>\n",
       "    <tr>\n",
       "      <th>Match ID</th>\n",
       "      <th></th>\n",
       "      <th></th>\n",
       "      <th></th>\n",
       "      <th></th>\n",
       "      <th></th>\n",
       "      <th></th>\n",
       "      <th></th>\n",
       "      <th></th>\n",
       "      <th></th>\n",
       "      <th></th>\n",
       "      <th></th>\n",
       "      <th></th>\n",
       "      <th></th>\n",
       "      <th></th>\n",
       "      <th></th>\n",
       "      <th></th>\n",
       "      <th></th>\n",
       "      <th></th>\n",
       "      <th></th>\n",
       "      <th></th>\n",
       "      <th></th>\n",
       "    </tr>\n",
       "  </thead>\n",
       "  <tbody>\n",
       "    <tr>\n",
       "      <th>0</th>\n",
       "      <td>1</td>\n",
       "      <td>Adelaide</td>\n",
       "      <td>Adelaide International 1</td>\n",
       "      <td>2022-01-03</td>\n",
       "      <td>ATP250</td>\n",
       "      <td>Outdoor</td>\n",
       "      <td>Hard</td>\n",
       "      <td>1st Round</td>\n",
       "      <td>3.0</td>\n",
       "      <td>Kwon S.W.</td>\n",
       "      <td>...</td>\n",
       "      <td>0.0</td>\n",
       "      <td>Completed</td>\n",
       "      <td>1.61</td>\n",
       "      <td>2.30</td>\n",
       "      <td>1.70</td>\n",
       "      <td>2.26</td>\n",
       "      <td>1.76</td>\n",
       "      <td>2.50</td>\n",
       "      <td>1.64</td>\n",
       "      <td>2.22</td>\n",
       "    </tr>\n",
       "    <tr>\n",
       "      <th>1</th>\n",
       "      <td>1</td>\n",
       "      <td>Adelaide</td>\n",
       "      <td>Adelaide International 1</td>\n",
       "      <td>2022-01-03</td>\n",
       "      <td>ATP250</td>\n",
       "      <td>Outdoor</td>\n",
       "      <td>Hard</td>\n",
       "      <td>1st Round</td>\n",
       "      <td>3.0</td>\n",
       "      <td>Monteiro T.</td>\n",
       "      <td>...</td>\n",
       "      <td>1.0</td>\n",
       "      <td>Completed</td>\n",
       "      <td>2.30</td>\n",
       "      <td>1.61</td>\n",
       "      <td>2.49</td>\n",
       "      <td>1.60</td>\n",
       "      <td>2.60</td>\n",
       "      <td>1.62</td>\n",
       "      <td>2.38</td>\n",
       "      <td>1.57</td>\n",
       "    </tr>\n",
       "    <tr>\n",
       "      <th>2</th>\n",
       "      <td>1</td>\n",
       "      <td>Adelaide</td>\n",
       "      <td>Adelaide International 1</td>\n",
       "      <td>2022-01-03</td>\n",
       "      <td>ATP250</td>\n",
       "      <td>Outdoor</td>\n",
       "      <td>Hard</td>\n",
       "      <td>1st Round</td>\n",
       "      <td>3.0</td>\n",
       "      <td>Djere L.</td>\n",
       "      <td>...</td>\n",
       "      <td>0.0</td>\n",
       "      <td>Completed</td>\n",
       "      <td>1.66</td>\n",
       "      <td>2.20</td>\n",
       "      <td>1.81</td>\n",
       "      <td>2.10</td>\n",
       "      <td>1.83</td>\n",
       "      <td>2.26</td>\n",
       "      <td>1.70</td>\n",
       "      <td>2.12</td>\n",
       "    </tr>\n",
       "    <tr>\n",
       "      <th>3</th>\n",
       "      <td>1</td>\n",
       "      <td>Adelaide</td>\n",
       "      <td>Adelaide International 1</td>\n",
       "      <td>2022-01-03</td>\n",
       "      <td>ATP250</td>\n",
       "      <td>Outdoor</td>\n",
       "      <td>Hard</td>\n",
       "      <td>1st Round</td>\n",
       "      <td>3.0</td>\n",
       "      <td>Johnson S.</td>\n",
       "      <td>...</td>\n",
       "      <td>1.0</td>\n",
       "      <td>Completed</td>\n",
       "      <td>2.00</td>\n",
       "      <td>1.80</td>\n",
       "      <td>2.21</td>\n",
       "      <td>1.74</td>\n",
       "      <td>2.30</td>\n",
       "      <td>1.80</td>\n",
       "      <td>2.10</td>\n",
       "      <td>1.72</td>\n",
       "    </tr>\n",
       "    <tr>\n",
       "      <th>4</th>\n",
       "      <td>1</td>\n",
       "      <td>Adelaide</td>\n",
       "      <td>Adelaide International 1</td>\n",
       "      <td>2022-01-04</td>\n",
       "      <td>ATP250</td>\n",
       "      <td>Outdoor</td>\n",
       "      <td>Hard</td>\n",
       "      <td>1st Round</td>\n",
       "      <td>3.0</td>\n",
       "      <td>Moutet C.</td>\n",
       "      <td>...</td>\n",
       "      <td>0.0</td>\n",
       "      <td>Completed</td>\n",
       "      <td>2.75</td>\n",
       "      <td>1.44</td>\n",
       "      <td>2.66</td>\n",
       "      <td>1.53</td>\n",
       "      <td>2.81</td>\n",
       "      <td>1.54</td>\n",
       "      <td>2.64</td>\n",
       "      <td>1.47</td>\n",
       "    </tr>\n",
       "  </tbody>\n",
       "</table>\n",
       "<p>5 rows × 36 columns</p>\n",
       "</div>\n",
       "      <button class=\"colab-df-convert\" onclick=\"convertToInteractive('df-0c1231d1-61bd-446b-8a38-e6567281d075')\"\n",
       "              title=\"Convert this dataframe to an interactive table.\"\n",
       "              style=\"display:none;\">\n",
       "        \n",
       "  <svg xmlns=\"http://www.w3.org/2000/svg\" height=\"24px\"viewBox=\"0 0 24 24\"\n",
       "       width=\"24px\">\n",
       "    <path d=\"M0 0h24v24H0V0z\" fill=\"none\"/>\n",
       "    <path d=\"M18.56 5.44l.94 2.06.94-2.06 2.06-.94-2.06-.94-.94-2.06-.94 2.06-2.06.94zm-11 1L8.5 8.5l.94-2.06 2.06-.94-2.06-.94L8.5 2.5l-.94 2.06-2.06.94zm10 10l.94 2.06.94-2.06 2.06-.94-2.06-.94-.94-2.06-.94 2.06-2.06.94z\"/><path d=\"M17.41 7.96l-1.37-1.37c-.4-.4-.92-.59-1.43-.59-.52 0-1.04.2-1.43.59L10.3 9.45l-7.72 7.72c-.78.78-.78 2.05 0 2.83L4 21.41c.39.39.9.59 1.41.59.51 0 1.02-.2 1.41-.59l7.78-7.78 2.81-2.81c.8-.78.8-2.07 0-2.86zM5.41 20L4 18.59l7.72-7.72 1.47 1.35L5.41 20z\"/>\n",
       "  </svg>\n",
       "      </button>\n",
       "      \n",
       "  <style>\n",
       "    .colab-df-container {\n",
       "      display:flex;\n",
       "      flex-wrap:wrap;\n",
       "      gap: 12px;\n",
       "    }\n",
       "\n",
       "    .colab-df-convert {\n",
       "      background-color: #E8F0FE;\n",
       "      border: none;\n",
       "      border-radius: 50%;\n",
       "      cursor: pointer;\n",
       "      display: none;\n",
       "      fill: #1967D2;\n",
       "      height: 32px;\n",
       "      padding: 0 0 0 0;\n",
       "      width: 32px;\n",
       "    }\n",
       "\n",
       "    .colab-df-convert:hover {\n",
       "      background-color: #E2EBFA;\n",
       "      box-shadow: 0px 1px 2px rgba(60, 64, 67, 0.3), 0px 1px 3px 1px rgba(60, 64, 67, 0.15);\n",
       "      fill: #174EA6;\n",
       "    }\n",
       "\n",
       "    [theme=dark] .colab-df-convert {\n",
       "      background-color: #3B4455;\n",
       "      fill: #D2E3FC;\n",
       "    }\n",
       "\n",
       "    [theme=dark] .colab-df-convert:hover {\n",
       "      background-color: #434B5C;\n",
       "      box-shadow: 0px 1px 3px 1px rgba(0, 0, 0, 0.15);\n",
       "      filter: drop-shadow(0px 1px 2px rgba(0, 0, 0, 0.3));\n",
       "      fill: #FFFFFF;\n",
       "    }\n",
       "  </style>\n",
       "\n",
       "      <script>\n",
       "        const buttonEl =\n",
       "          document.querySelector('#df-0c1231d1-61bd-446b-8a38-e6567281d075 button.colab-df-convert');\n",
       "        buttonEl.style.display =\n",
       "          google.colab.kernel.accessAllowed ? 'block' : 'none';\n",
       "\n",
       "        async function convertToInteractive(key) {\n",
       "          const element = document.querySelector('#df-0c1231d1-61bd-446b-8a38-e6567281d075');\n",
       "          const dataTable =\n",
       "            await google.colab.kernel.invokeFunction('convertToInteractive',\n",
       "                                                     [key], {});\n",
       "          if (!dataTable) return;\n",
       "\n",
       "          const docLinkHtml = 'Like what you see? Visit the ' +\n",
       "            '<a target=\"_blank\" href=https://colab.research.google.com/notebooks/data_table.ipynb>data table notebook</a>'\n",
       "            + ' to learn more about interactive tables.';\n",
       "          element.innerHTML = '';\n",
       "          dataTable['output_type'] = 'display_data';\n",
       "          await google.colab.output.renderOutput(dataTable, element);\n",
       "          const docLink = document.createElement('div');\n",
       "          docLink.innerHTML = docLinkHtml;\n",
       "          element.appendChild(docLink);\n",
       "        }\n",
       "      </script>\n",
       "    </div>\n",
       "  </div>\n",
       "  "
      ]
     },
     "metadata": {},
     "execution_count": 7
    }
   ],
   "source": [
    "df.index.name   = \"Match ID\"\n",
    "df.columns.name = \"Attributes\"\n",
    "\n",
    "df.head()"
   ]
  },
  {
   "cell_type": "markdown",
   "metadata": {
    "id": "Zhi4bHxnLdiU",
    "pycharm": {
     "name": "#%% md\n"
    }
   },
   "source": [
    "## Statistical summary\n",
    "\n",
    "We can get a statistical summary for numerical columns."
   ]
  },
  {
   "cell_type": "code",
   "execution_count": 8,
   "metadata": {
    "id": "yy7DQ2vBLdiU",
    "colab": {
     "base_uri": "https://localhost:8080/",
     "height": 393
    },
    "executionInfo": {
     "status": "ok",
     "timestamp": 1670229828018,
     "user_tz": -60,
     "elapsed": 8,
     "user": {
      "displayName": "Diego Chinellato",
      "userId": "17373725090461795110"
     }
    },
    "outputId": "3f331ec1-37cb-4ece-b52c-c80734438b70",
    "pycharm": {
     "name": "#%%\n"
    }
   },
   "outputs": [
    {
     "output_type": "execute_result",
     "data": {
      "text/plain": [
       "Attributes          ATP      Best of        WRank        LRank         WPts  \\\n",
       "count       2632.000000  2617.000000  2632.000000  2630.000000  2632.000000   \n",
       "mean          33.829027     3.387467    57.719985    85.994297  1832.012158   \n",
       "std           18.708237     0.790596    59.178670    96.957930  1748.613308   \n",
       "min            1.000000     3.000000     1.000000     1.000000    18.000000   \n",
       "25%           19.000000     3.000000    17.000000    34.000000   744.000000   \n",
       "50%           32.000000     3.000000    43.000000    63.000000  1101.000000   \n",
       "75%           50.000000     3.000000    78.250000   104.000000  2280.000000   \n",
       "max           68.000000     5.000000   862.000000  1545.000000  8935.000000   \n",
       "\n",
       "Attributes         LPts           W1           L1           W2           L2  \\\n",
       "count       2630.000000  2615.000000  2615.000000  2600.000000  2600.000000   \n",
       "mean        1213.692776     5.812237     4.142639     5.790385     4.006923   \n",
       "std         1220.292691     1.227835     1.818442     1.231990     1.863759   \n",
       "min            2.000000     0.000000     0.000000     0.000000     0.000000   \n",
       "25%          592.250000     6.000000     3.000000     6.000000     3.000000   \n",
       "50%          863.000000     6.000000     4.000000     6.000000     4.000000   \n",
       "75%         1300.750000     6.000000     6.000000     6.000000     6.000000   \n",
       "max         8935.000000     7.000000     7.000000     7.000000     7.000000   \n",
       "\n",
       "Attributes  ...        Wsets        Lsets        B365W        B365L  \\\n",
       "count       ...  2615.000000  2615.000000  2622.000000  2622.000000   \n",
       "mean        ...     2.157935     0.437859     1.851135     3.241880   \n",
       "std         ...     0.450186     0.568105     0.969379     2.745631   \n",
       "min         ...     0.000000     0.000000     1.005000     1.040000   \n",
       "25%         ...     2.000000     0.000000     1.280000     1.720000   \n",
       "50%         ...     2.000000     0.000000     1.530000     2.500000   \n",
       "75%         ...     2.000000     1.000000     2.100000     3.750000   \n",
       "max         ...     3.000000     2.000000    13.000000    34.000000   \n",
       "\n",
       "Attributes          PSW          PSL         MaxW         MaxL         AvgW  \\\n",
       "count       2617.000000  2617.000000  2628.000000  2628.000000  2628.000000   \n",
       "mean           1.916802     3.523817     1.984167     3.743820     1.909711   \n",
       "std            1.089461     3.400541     1.195776     3.867822     3.252568   \n",
       "min            0.972000     1.040000     1.010000     1.050000     1.010000   \n",
       "25%            1.310000     1.760000     1.330000     1.800000     1.280000   \n",
       "50%            1.580000     2.550000     1.620000     2.650000     1.540000   \n",
       "75%            2.180000     3.840000     2.280000     4.000000     2.130000   \n",
       "max           15.340000    35.590000    20.160000    41.000000   161.000000   \n",
       "\n",
       "Attributes         AvgL  \n",
       "count       2628.000000  \n",
       "mean           3.210411  \n",
       "std            2.558307  \n",
       "min            1.030000  \n",
       "25%            1.710000  \n",
       "50%            2.460000  \n",
       "75%            3.592500  \n",
       "max           22.460000  \n",
       "\n",
       "[8 rows x 26 columns]"
      ],
      "text/html": [
       "\n",
       "  <div id=\"df-bf20bcd5-3a52-450a-9451-8b83874911f1\">\n",
       "    <div class=\"colab-df-container\">\n",
       "      <div>\n",
       "<style scoped>\n",
       "    .dataframe tbody tr th:only-of-type {\n",
       "        vertical-align: middle;\n",
       "    }\n",
       "\n",
       "    .dataframe tbody tr th {\n",
       "        vertical-align: top;\n",
       "    }\n",
       "\n",
       "    .dataframe thead th {\n",
       "        text-align: right;\n",
       "    }\n",
       "</style>\n",
       "<table border=\"1\" class=\"dataframe\">\n",
       "  <thead>\n",
       "    <tr style=\"text-align: right;\">\n",
       "      <th>Attributes</th>\n",
       "      <th>ATP</th>\n",
       "      <th>Best of</th>\n",
       "      <th>WRank</th>\n",
       "      <th>LRank</th>\n",
       "      <th>WPts</th>\n",
       "      <th>LPts</th>\n",
       "      <th>W1</th>\n",
       "      <th>L1</th>\n",
       "      <th>W2</th>\n",
       "      <th>L2</th>\n",
       "      <th>...</th>\n",
       "      <th>Wsets</th>\n",
       "      <th>Lsets</th>\n",
       "      <th>B365W</th>\n",
       "      <th>B365L</th>\n",
       "      <th>PSW</th>\n",
       "      <th>PSL</th>\n",
       "      <th>MaxW</th>\n",
       "      <th>MaxL</th>\n",
       "      <th>AvgW</th>\n",
       "      <th>AvgL</th>\n",
       "    </tr>\n",
       "  </thead>\n",
       "  <tbody>\n",
       "    <tr>\n",
       "      <th>count</th>\n",
       "      <td>2632.000000</td>\n",
       "      <td>2617.000000</td>\n",
       "      <td>2632.000000</td>\n",
       "      <td>2630.000000</td>\n",
       "      <td>2632.000000</td>\n",
       "      <td>2630.000000</td>\n",
       "      <td>2615.000000</td>\n",
       "      <td>2615.000000</td>\n",
       "      <td>2600.000000</td>\n",
       "      <td>2600.000000</td>\n",
       "      <td>...</td>\n",
       "      <td>2615.000000</td>\n",
       "      <td>2615.000000</td>\n",
       "      <td>2622.000000</td>\n",
       "      <td>2622.000000</td>\n",
       "      <td>2617.000000</td>\n",
       "      <td>2617.000000</td>\n",
       "      <td>2628.000000</td>\n",
       "      <td>2628.000000</td>\n",
       "      <td>2628.000000</td>\n",
       "      <td>2628.000000</td>\n",
       "    </tr>\n",
       "    <tr>\n",
       "      <th>mean</th>\n",
       "      <td>33.829027</td>\n",
       "      <td>3.387467</td>\n",
       "      <td>57.719985</td>\n",
       "      <td>85.994297</td>\n",
       "      <td>1832.012158</td>\n",
       "      <td>1213.692776</td>\n",
       "      <td>5.812237</td>\n",
       "      <td>4.142639</td>\n",
       "      <td>5.790385</td>\n",
       "      <td>4.006923</td>\n",
       "      <td>...</td>\n",
       "      <td>2.157935</td>\n",
       "      <td>0.437859</td>\n",
       "      <td>1.851135</td>\n",
       "      <td>3.241880</td>\n",
       "      <td>1.916802</td>\n",
       "      <td>3.523817</td>\n",
       "      <td>1.984167</td>\n",
       "      <td>3.743820</td>\n",
       "      <td>1.909711</td>\n",
       "      <td>3.210411</td>\n",
       "    </tr>\n",
       "    <tr>\n",
       "      <th>std</th>\n",
       "      <td>18.708237</td>\n",
       "      <td>0.790596</td>\n",
       "      <td>59.178670</td>\n",
       "      <td>96.957930</td>\n",
       "      <td>1748.613308</td>\n",
       "      <td>1220.292691</td>\n",
       "      <td>1.227835</td>\n",
       "      <td>1.818442</td>\n",
       "      <td>1.231990</td>\n",
       "      <td>1.863759</td>\n",
       "      <td>...</td>\n",
       "      <td>0.450186</td>\n",
       "      <td>0.568105</td>\n",
       "      <td>0.969379</td>\n",
       "      <td>2.745631</td>\n",
       "      <td>1.089461</td>\n",
       "      <td>3.400541</td>\n",
       "      <td>1.195776</td>\n",
       "      <td>3.867822</td>\n",
       "      <td>3.252568</td>\n",
       "      <td>2.558307</td>\n",
       "    </tr>\n",
       "    <tr>\n",
       "      <th>min</th>\n",
       "      <td>1.000000</td>\n",
       "      <td>3.000000</td>\n",
       "      <td>1.000000</td>\n",
       "      <td>1.000000</td>\n",
       "      <td>18.000000</td>\n",
       "      <td>2.000000</td>\n",
       "      <td>0.000000</td>\n",
       "      <td>0.000000</td>\n",
       "      <td>0.000000</td>\n",
       "      <td>0.000000</td>\n",
       "      <td>...</td>\n",
       "      <td>0.000000</td>\n",
       "      <td>0.000000</td>\n",
       "      <td>1.005000</td>\n",
       "      <td>1.040000</td>\n",
       "      <td>0.972000</td>\n",
       "      <td>1.040000</td>\n",
       "      <td>1.010000</td>\n",
       "      <td>1.050000</td>\n",
       "      <td>1.010000</td>\n",
       "      <td>1.030000</td>\n",
       "    </tr>\n",
       "    <tr>\n",
       "      <th>25%</th>\n",
       "      <td>19.000000</td>\n",
       "      <td>3.000000</td>\n",
       "      <td>17.000000</td>\n",
       "      <td>34.000000</td>\n",
       "      <td>744.000000</td>\n",
       "      <td>592.250000</td>\n",
       "      <td>6.000000</td>\n",
       "      <td>3.000000</td>\n",
       "      <td>6.000000</td>\n",
       "      <td>3.000000</td>\n",
       "      <td>...</td>\n",
       "      <td>2.000000</td>\n",
       "      <td>0.000000</td>\n",
       "      <td>1.280000</td>\n",
       "      <td>1.720000</td>\n",
       "      <td>1.310000</td>\n",
       "      <td>1.760000</td>\n",
       "      <td>1.330000</td>\n",
       "      <td>1.800000</td>\n",
       "      <td>1.280000</td>\n",
       "      <td>1.710000</td>\n",
       "    </tr>\n",
       "    <tr>\n",
       "      <th>50%</th>\n",
       "      <td>32.000000</td>\n",
       "      <td>3.000000</td>\n",
       "      <td>43.000000</td>\n",
       "      <td>63.000000</td>\n",
       "      <td>1101.000000</td>\n",
       "      <td>863.000000</td>\n",
       "      <td>6.000000</td>\n",
       "      <td>4.000000</td>\n",
       "      <td>6.000000</td>\n",
       "      <td>4.000000</td>\n",
       "      <td>...</td>\n",
       "      <td>2.000000</td>\n",
       "      <td>0.000000</td>\n",
       "      <td>1.530000</td>\n",
       "      <td>2.500000</td>\n",
       "      <td>1.580000</td>\n",
       "      <td>2.550000</td>\n",
       "      <td>1.620000</td>\n",
       "      <td>2.650000</td>\n",
       "      <td>1.540000</td>\n",
       "      <td>2.460000</td>\n",
       "    </tr>\n",
       "    <tr>\n",
       "      <th>75%</th>\n",
       "      <td>50.000000</td>\n",
       "      <td>3.000000</td>\n",
       "      <td>78.250000</td>\n",
       "      <td>104.000000</td>\n",
       "      <td>2280.000000</td>\n",
       "      <td>1300.750000</td>\n",
       "      <td>6.000000</td>\n",
       "      <td>6.000000</td>\n",
       "      <td>6.000000</td>\n",
       "      <td>6.000000</td>\n",
       "      <td>...</td>\n",
       "      <td>2.000000</td>\n",
       "      <td>1.000000</td>\n",
       "      <td>2.100000</td>\n",
       "      <td>3.750000</td>\n",
       "      <td>2.180000</td>\n",
       "      <td>3.840000</td>\n",
       "      <td>2.280000</td>\n",
       "      <td>4.000000</td>\n",
       "      <td>2.130000</td>\n",
       "      <td>3.592500</td>\n",
       "    </tr>\n",
       "    <tr>\n",
       "      <th>max</th>\n",
       "      <td>68.000000</td>\n",
       "      <td>5.000000</td>\n",
       "      <td>862.000000</td>\n",
       "      <td>1545.000000</td>\n",
       "      <td>8935.000000</td>\n",
       "      <td>8935.000000</td>\n",
       "      <td>7.000000</td>\n",
       "      <td>7.000000</td>\n",
       "      <td>7.000000</td>\n",
       "      <td>7.000000</td>\n",
       "      <td>...</td>\n",
       "      <td>3.000000</td>\n",
       "      <td>2.000000</td>\n",
       "      <td>13.000000</td>\n",
       "      <td>34.000000</td>\n",
       "      <td>15.340000</td>\n",
       "      <td>35.590000</td>\n",
       "      <td>20.160000</td>\n",
       "      <td>41.000000</td>\n",
       "      <td>161.000000</td>\n",
       "      <td>22.460000</td>\n",
       "    </tr>\n",
       "  </tbody>\n",
       "</table>\n",
       "<p>8 rows × 26 columns</p>\n",
       "</div>\n",
       "      <button class=\"colab-df-convert\" onclick=\"convertToInteractive('df-bf20bcd5-3a52-450a-9451-8b83874911f1')\"\n",
       "              title=\"Convert this dataframe to an interactive table.\"\n",
       "              style=\"display:none;\">\n",
       "        \n",
       "  <svg xmlns=\"http://www.w3.org/2000/svg\" height=\"24px\"viewBox=\"0 0 24 24\"\n",
       "       width=\"24px\">\n",
       "    <path d=\"M0 0h24v24H0V0z\" fill=\"none\"/>\n",
       "    <path d=\"M18.56 5.44l.94 2.06.94-2.06 2.06-.94-2.06-.94-.94-2.06-.94 2.06-2.06.94zm-11 1L8.5 8.5l.94-2.06 2.06-.94-2.06-.94L8.5 2.5l-.94 2.06-2.06.94zm10 10l.94 2.06.94-2.06 2.06-.94-2.06-.94-.94-2.06-.94 2.06-2.06.94z\"/><path d=\"M17.41 7.96l-1.37-1.37c-.4-.4-.92-.59-1.43-.59-.52 0-1.04.2-1.43.59L10.3 9.45l-7.72 7.72c-.78.78-.78 2.05 0 2.83L4 21.41c.39.39.9.59 1.41.59.51 0 1.02-.2 1.41-.59l7.78-7.78 2.81-2.81c.8-.78.8-2.07 0-2.86zM5.41 20L4 18.59l7.72-7.72 1.47 1.35L5.41 20z\"/>\n",
       "  </svg>\n",
       "      </button>\n",
       "      \n",
       "  <style>\n",
       "    .colab-df-container {\n",
       "      display:flex;\n",
       "      flex-wrap:wrap;\n",
       "      gap: 12px;\n",
       "    }\n",
       "\n",
       "    .colab-df-convert {\n",
       "      background-color: #E8F0FE;\n",
       "      border: none;\n",
       "      border-radius: 50%;\n",
       "      cursor: pointer;\n",
       "      display: none;\n",
       "      fill: #1967D2;\n",
       "      height: 32px;\n",
       "      padding: 0 0 0 0;\n",
       "      width: 32px;\n",
       "    }\n",
       "\n",
       "    .colab-df-convert:hover {\n",
       "      background-color: #E2EBFA;\n",
       "      box-shadow: 0px 1px 2px rgba(60, 64, 67, 0.3), 0px 1px 3px 1px rgba(60, 64, 67, 0.15);\n",
       "      fill: #174EA6;\n",
       "    }\n",
       "\n",
       "    [theme=dark] .colab-df-convert {\n",
       "      background-color: #3B4455;\n",
       "      fill: #D2E3FC;\n",
       "    }\n",
       "\n",
       "    [theme=dark] .colab-df-convert:hover {\n",
       "      background-color: #434B5C;\n",
       "      box-shadow: 0px 1px 3px 1px rgba(0, 0, 0, 0.15);\n",
       "      filter: drop-shadow(0px 1px 2px rgba(0, 0, 0, 0.3));\n",
       "      fill: #FFFFFF;\n",
       "    }\n",
       "  </style>\n",
       "\n",
       "      <script>\n",
       "        const buttonEl =\n",
       "          document.querySelector('#df-bf20bcd5-3a52-450a-9451-8b83874911f1 button.colab-df-convert');\n",
       "        buttonEl.style.display =\n",
       "          google.colab.kernel.accessAllowed ? 'block' : 'none';\n",
       "\n",
       "        async function convertToInteractive(key) {\n",
       "          const element = document.querySelector('#df-bf20bcd5-3a52-450a-9451-8b83874911f1');\n",
       "          const dataTable =\n",
       "            await google.colab.kernel.invokeFunction('convertToInteractive',\n",
       "                                                     [key], {});\n",
       "          if (!dataTable) return;\n",
       "\n",
       "          const docLinkHtml = 'Like what you see? Visit the ' +\n",
       "            '<a target=\"_blank\" href=https://colab.research.google.com/notebooks/data_table.ipynb>data table notebook</a>'\n",
       "            + ' to learn more about interactive tables.';\n",
       "          element.innerHTML = '';\n",
       "          dataTable['output_type'] = 'display_data';\n",
       "          await google.colab.output.renderOutput(dataTable, element);\n",
       "          const docLink = document.createElement('div');\n",
       "          docLink.innerHTML = docLinkHtml;\n",
       "          element.appendChild(docLink);\n",
       "        }\n",
       "      </script>\n",
       "    </div>\n",
       "  </div>\n",
       "  "
      ]
     },
     "metadata": {},
     "execution_count": 8
    }
   ],
   "source": [
    "df.describe()"
   ]
  },
  {
   "cell_type": "markdown",
   "metadata": {
    "id": "UDuMQ5BkLdiV",
    "pycharm": {
     "name": "#%% md\n"
    }
   },
   "source": [
    "## Data Types\n",
    "\n",
    "A specific data type is used to store and manage the information in the dataframe. This is important to understand which operations can be performed on the different columns.\n",
    "\n",
    "Note that also the non-null values are reported. It is not uncommon to have missing values in our dataset."
   ]
  },
  {
   "cell_type": "code",
   "execution_count": 9,
   "metadata": {
    "scrolled": false,
    "id": "EDh8enFqLdiV",
    "colab": {
     "base_uri": "https://localhost:8080/"
    },
    "executionInfo": {
     "status": "ok",
     "timestamp": 1670229903433,
     "user_tz": -60,
     "elapsed": 281,
     "user": {
      "displayName": "Diego Chinellato",
      "userId": "17373725090461795110"
     }
    },
    "outputId": "ba632d34-84d9-4c26-b532-12143b4ce48e",
    "pycharm": {
     "name": "#%%\n"
    }
   },
   "outputs": [
    {
     "output_type": "stream",
     "name": "stdout",
     "text": [
      "<class 'pandas.core.frame.DataFrame'>\n",
      "RangeIndex: 2632 entries, 0 to 2631\n",
      "Data columns (total 36 columns):\n",
      " #   Column      Non-Null Count  Dtype         \n",
      "---  ------      --------------  -----         \n",
      " 0   ATP         2632 non-null   int64         \n",
      " 1   Location    2632 non-null   object        \n",
      " 2   Tournament  2632 non-null   object        \n",
      " 3   Date        2632 non-null   datetime64[ns]\n",
      " 4   Series      2632 non-null   object        \n",
      " 5   Court       2632 non-null   object        \n",
      " 6   Surface     2632 non-null   object        \n",
      " 7   Round       2632 non-null   object        \n",
      " 8   Best of     2617 non-null   float64       \n",
      " 9   Winner      2632 non-null   object        \n",
      " 10  Loser       2632 non-null   object        \n",
      " 11  WRank       2632 non-null   int64         \n",
      " 12  LRank       2630 non-null   float64       \n",
      " 13  WPts        2632 non-null   int64         \n",
      " 14  LPts        2630 non-null   float64       \n",
      " 15  W1          2615 non-null   float64       \n",
      " 16  L1          2615 non-null   float64       \n",
      " 17  W2          2600 non-null   float64       \n",
      " 18  L2          2600 non-null   float64       \n",
      " 19  W3          1264 non-null   float64       \n",
      " 20  L3          1264 non-null   float64       \n",
      " 21  W4          268 non-null    float64       \n",
      " 22  L4          268 non-null    float64       \n",
      " 23  W5          99 non-null     float64       \n",
      " 24  L5          99 non-null     float64       \n",
      " 25  Wsets       2615 non-null   float64       \n",
      " 26  Lsets       2615 non-null   float64       \n",
      " 27  Comment     2632 non-null   object        \n",
      " 28  B365W       2622 non-null   float64       \n",
      " 29  B365L       2622 non-null   float64       \n",
      " 30  PSW         2617 non-null   float64       \n",
      " 31  PSL         2617 non-null   float64       \n",
      " 32  MaxW        2628 non-null   float64       \n",
      " 33  MaxL        2628 non-null   float64       \n",
      " 34  AvgW        2628 non-null   float64       \n",
      " 35  AvgL        2628 non-null   float64       \n",
      "dtypes: datetime64[ns](1), float64(23), int64(3), object(9)\n",
      "memory usage: 740.4+ KB\n"
     ]
    }
   ],
   "source": [
    "df.info()"
   ]
  },
  {
   "cell_type": "markdown",
   "metadata": {
    "id": "_oOUOVuQLdiV",
    "pycharm": {
     "name": "#%% md\n"
    }
   },
   "source": [
    "## Column selection, addition, and deletion\n",
    "\n",
    "See: https://pandas.pydata.org/pandas-docs/stable/indexing.html.\n",
    "\n",
    "Pandas provides several (sometimes confusing) ways to access the columns of a data frame."
   ]
  },
  {
   "cell_type": "markdown",
   "metadata": {
    "id": "2zBucfHBLdia",
    "pycharm": {
     "name": "#%% md\n"
    }
   },
   "source": [
    "#### Example (Selection)\n",
    "We can select a column by specifying its name. \n",
    "\n",
    "This operation gives us Pandas Series.\n",
    "\n",
    "Note that the index is preserved."
   ]
  },
  {
   "cell_type": "code",
   "execution_count": 10,
   "metadata": {
    "scrolled": false,
    "id": "HOK6fcMQLdib",
    "colab": {
     "base_uri": "https://localhost:8080/"
    },
    "executionInfo": {
     "status": "ok",
     "timestamp": 1670229970020,
     "user_tz": -60,
     "elapsed": 944,
     "user": {
      "displayName": "Diego Chinellato",
      "userId": "17373725090461795110"
     }
    },
    "outputId": "109917ef-6b51-4ee4-cec5-d3c60044af8f",
    "pycharm": {
     "name": "#%%\n"
    }
   },
   "outputs": [
    {
     "output_type": "stream",
     "name": "stdout",
     "text": [
      "Winners:\n",
      "Match ID\n",
      "0         Kwon S.W.\n",
      "1       Monteiro T.\n",
      "2          Djere L.\n",
      "3        Johnson S.\n",
      "4         Moutet C.\n",
      "           ...     \n",
      "2627    Djokovic N.\n",
      "2628      Rublev A.\n",
      "2629    Djokovic N.\n",
      "2630        Ruud C.\n",
      "2631    Djokovic N.\n",
      "Name: Winner, Length: 2632, dtype: object\n",
      "Type is <class 'pandas.core.series.Series'>\n",
      "\n",
      "Winners:\n",
      "Match ID\n",
      "0         Kwon S.W.\n",
      "1       Monteiro T.\n",
      "2          Djere L.\n",
      "3        Johnson S.\n",
      "4         Moutet C.\n",
      "           ...     \n",
      "2627    Djokovic N.\n",
      "2628      Rublev A.\n",
      "2629    Djokovic N.\n",
      "2630        Ruud C.\n",
      "2631    Djokovic N.\n",
      "Name: Winner, Length: 2632, dtype: object\n",
      "Type is <class 'pandas.core.series.Series'>\n",
      "\n"
     ]
    }
   ],
   "source": [
    "a = df[\"Winner\"] \n",
    "\n",
    "print(f\"Winners:\\n{a}\")\n",
    "print(f\"Type is {type(a)}\\n\")\n",
    "\n",
    "# Equivalent to\n",
    "\n",
    "a = df.Winner\n",
    "print(f\"Winners:\\n{a}\")\n",
    "print(f\"Type is {type(a)}\\n\")"
   ]
  },
  {
   "cell_type": "markdown",
   "metadata": {
    "id": "-tmaqdAmLdib",
    "pycharm": {
     "name": "#%% md\n"
    }
   },
   "source": [
    "You can also select multiple columns. In this case you need to use a list.\n",
    "\n",
    "Note that the result is a dataframe."
   ]
  },
  {
   "cell_type": "code",
   "execution_count": 11,
   "metadata": {
    "id": "gxMOA8gYLdib",
    "colab": {
     "base_uri": "https://localhost:8080/",
     "height": 237
    },
    "executionInfo": {
     "status": "ok",
     "timestamp": 1670229979181,
     "user_tz": -60,
     "elapsed": 264,
     "user": {
      "displayName": "Diego Chinellato",
      "userId": "17373725090461795110"
     }
    },
    "outputId": "6a691707-d862-4ff9-bc2a-0b2e655dec87",
    "pycharm": {
     "name": "#%%\n"
    }
   },
   "outputs": [
    {
     "output_type": "execute_result",
     "data": {
      "text/plain": [
       "Attributes       Winner               Loser\n",
       "Match ID                                   \n",
       "0             Kwon S.W.         Nishioka Y.\n",
       "1           Monteiro T.         Altmaier D.\n",
       "2              Djere L.  Carballes Baena R.\n",
       "3            Johnson S.            Vukic A.\n",
       "4             Moutet C.             Rune H."
      ],
      "text/html": [
       "\n",
       "  <div id=\"df-b4a2d149-eacf-4816-9c44-d99aed50f99e\">\n",
       "    <div class=\"colab-df-container\">\n",
       "      <div>\n",
       "<style scoped>\n",
       "    .dataframe tbody tr th:only-of-type {\n",
       "        vertical-align: middle;\n",
       "    }\n",
       "\n",
       "    .dataframe tbody tr th {\n",
       "        vertical-align: top;\n",
       "    }\n",
       "\n",
       "    .dataframe thead th {\n",
       "        text-align: right;\n",
       "    }\n",
       "</style>\n",
       "<table border=\"1\" class=\"dataframe\">\n",
       "  <thead>\n",
       "    <tr style=\"text-align: right;\">\n",
       "      <th>Attributes</th>\n",
       "      <th>Winner</th>\n",
       "      <th>Loser</th>\n",
       "    </tr>\n",
       "    <tr>\n",
       "      <th>Match ID</th>\n",
       "      <th></th>\n",
       "      <th></th>\n",
       "    </tr>\n",
       "  </thead>\n",
       "  <tbody>\n",
       "    <tr>\n",
       "      <th>0</th>\n",
       "      <td>Kwon S.W.</td>\n",
       "      <td>Nishioka Y.</td>\n",
       "    </tr>\n",
       "    <tr>\n",
       "      <th>1</th>\n",
       "      <td>Monteiro T.</td>\n",
       "      <td>Altmaier D.</td>\n",
       "    </tr>\n",
       "    <tr>\n",
       "      <th>2</th>\n",
       "      <td>Djere L.</td>\n",
       "      <td>Carballes Baena R.</td>\n",
       "    </tr>\n",
       "    <tr>\n",
       "      <th>3</th>\n",
       "      <td>Johnson S.</td>\n",
       "      <td>Vukic A.</td>\n",
       "    </tr>\n",
       "    <tr>\n",
       "      <th>4</th>\n",
       "      <td>Moutet C.</td>\n",
       "      <td>Rune H.</td>\n",
       "    </tr>\n",
       "  </tbody>\n",
       "</table>\n",
       "</div>\n",
       "      <button class=\"colab-df-convert\" onclick=\"convertToInteractive('df-b4a2d149-eacf-4816-9c44-d99aed50f99e')\"\n",
       "              title=\"Convert this dataframe to an interactive table.\"\n",
       "              style=\"display:none;\">\n",
       "        \n",
       "  <svg xmlns=\"http://www.w3.org/2000/svg\" height=\"24px\"viewBox=\"0 0 24 24\"\n",
       "       width=\"24px\">\n",
       "    <path d=\"M0 0h24v24H0V0z\" fill=\"none\"/>\n",
       "    <path d=\"M18.56 5.44l.94 2.06.94-2.06 2.06-.94-2.06-.94-.94-2.06-.94 2.06-2.06.94zm-11 1L8.5 8.5l.94-2.06 2.06-.94-2.06-.94L8.5 2.5l-.94 2.06-2.06.94zm10 10l.94 2.06.94-2.06 2.06-.94-2.06-.94-.94-2.06-.94 2.06-2.06.94z\"/><path d=\"M17.41 7.96l-1.37-1.37c-.4-.4-.92-.59-1.43-.59-.52 0-1.04.2-1.43.59L10.3 9.45l-7.72 7.72c-.78.78-.78 2.05 0 2.83L4 21.41c.39.39.9.59 1.41.59.51 0 1.02-.2 1.41-.59l7.78-7.78 2.81-2.81c.8-.78.8-2.07 0-2.86zM5.41 20L4 18.59l7.72-7.72 1.47 1.35L5.41 20z\"/>\n",
       "  </svg>\n",
       "      </button>\n",
       "      \n",
       "  <style>\n",
       "    .colab-df-container {\n",
       "      display:flex;\n",
       "      flex-wrap:wrap;\n",
       "      gap: 12px;\n",
       "    }\n",
       "\n",
       "    .colab-df-convert {\n",
       "      background-color: #E8F0FE;\n",
       "      border: none;\n",
       "      border-radius: 50%;\n",
       "      cursor: pointer;\n",
       "      display: none;\n",
       "      fill: #1967D2;\n",
       "      height: 32px;\n",
       "      padding: 0 0 0 0;\n",
       "      width: 32px;\n",
       "    }\n",
       "\n",
       "    .colab-df-convert:hover {\n",
       "      background-color: #E2EBFA;\n",
       "      box-shadow: 0px 1px 2px rgba(60, 64, 67, 0.3), 0px 1px 3px 1px rgba(60, 64, 67, 0.15);\n",
       "      fill: #174EA6;\n",
       "    }\n",
       "\n",
       "    [theme=dark] .colab-df-convert {\n",
       "      background-color: #3B4455;\n",
       "      fill: #D2E3FC;\n",
       "    }\n",
       "\n",
       "    [theme=dark] .colab-df-convert:hover {\n",
       "      background-color: #434B5C;\n",
       "      box-shadow: 0px 1px 3px 1px rgba(0, 0, 0, 0.15);\n",
       "      filter: drop-shadow(0px 1px 2px rgba(0, 0, 0, 0.3));\n",
       "      fill: #FFFFFF;\n",
       "    }\n",
       "  </style>\n",
       "\n",
       "      <script>\n",
       "        const buttonEl =\n",
       "          document.querySelector('#df-b4a2d149-eacf-4816-9c44-d99aed50f99e button.colab-df-convert');\n",
       "        buttonEl.style.display =\n",
       "          google.colab.kernel.accessAllowed ? 'block' : 'none';\n",
       "\n",
       "        async function convertToInteractive(key) {\n",
       "          const element = document.querySelector('#df-b4a2d149-eacf-4816-9c44-d99aed50f99e');\n",
       "          const dataTable =\n",
       "            await google.colab.kernel.invokeFunction('convertToInteractive',\n",
       "                                                     [key], {});\n",
       "          if (!dataTable) return;\n",
       "\n",
       "          const docLinkHtml = 'Like what you see? Visit the ' +\n",
       "            '<a target=\"_blank\" href=https://colab.research.google.com/notebooks/data_table.ipynb>data table notebook</a>'\n",
       "            + ' to learn more about interactive tables.';\n",
       "          element.innerHTML = '';\n",
       "          dataTable['output_type'] = 'display_data';\n",
       "          await google.colab.output.renderOutput(dataTable, element);\n",
       "          const docLink = document.createElement('div');\n",
       "          docLink.innerHTML = docLinkHtml;\n",
       "          element.appendChild(docLink);\n",
       "        }\n",
       "      </script>\n",
       "    </div>\n",
       "  </div>\n",
       "  "
      ]
     },
     "metadata": {},
     "execution_count": 11
    }
   ],
   "source": [
    "wl = df[ [\"Winner\",\"Loser\"] ] \n",
    "\n",
    "wl.head()"
   ]
  },
  {
   "cell_type": "markdown",
   "metadata": {
    "id": "Sdk2JdoFLdib",
    "pycharm": {
     "name": "#%% md\n"
    }
   },
   "source": [
    "#### Example (Addition)\n",
    "We can add a new column by passing a NumPy array (or a list, Pandas Series, and more) or a single number.\n",
    "\n",
    "In case of a list/array, the length of the array must equal the number of rows (otherwise a ValueError exception is raised)!"
   ]
  },
  {
   "cell_type": "code",
   "execution_count": 13,
   "metadata": {
    "id": "wmxG7teqLdib",
    "colab": {
     "base_uri": "https://localhost:8080/",
     "height": 540
    },
    "executionInfo": {
     "status": "ok",
     "timestamp": 1670230022454,
     "user_tz": -60,
     "elapsed": 316,
     "user": {
      "displayName": "Diego Chinellato",
      "userId": "17373725090461795110"
     }
    },
    "outputId": "6139bfdf-8867-4dc9-d7cf-f5073e0e2b75",
    "pycharm": {
     "name": "#%%\n"
    }
   },
   "outputs": [
    {
     "output_type": "stream",
     "name": "stdout",
     "text": [
      "df.shape is (2632, 36)\n"
     ]
    },
    {
     "output_type": "execute_result",
     "data": {
      "text/plain": [
       "Attributes  ATP  Location                Tournament       Date  Series  \\\n",
       "Match ID                                                                 \n",
       "0             1  Adelaide  Adelaide International 1 2022-01-03  ATP250   \n",
       "1             1  Adelaide  Adelaide International 1 2022-01-03  ATP250   \n",
       "2             1  Adelaide  Adelaide International 1 2022-01-03  ATP250   \n",
       "3             1  Adelaide  Adelaide International 1 2022-01-03  ATP250   \n",
       "4             1  Adelaide  Adelaide International 1 2022-01-04  ATP250   \n",
       "\n",
       "Attributes    Court Surface      Round  Best of       Winner  ... B365L   PSW  \\\n",
       "Match ID                                                      ...               \n",
       "0           Outdoor    Hard  1st Round      3.0    Kwon S.W.  ...  2.30  1.70   \n",
       "1           Outdoor    Hard  1st Round      3.0  Monteiro T.  ...  1.61  2.49   \n",
       "2           Outdoor    Hard  1st Round      3.0     Djere L.  ...  2.20  1.81   \n",
       "3           Outdoor    Hard  1st Round      3.0   Johnson S.  ...  1.80  2.21   \n",
       "4           Outdoor    Hard  1st Round      3.0    Moutet C.  ...  1.44  2.66   \n",
       "\n",
       "Attributes   PSL  MaxW  MaxL  AvgW  AvgL  meaning-less  meaning-less-2  \\\n",
       "Match ID                                                                 \n",
       "0           2.26  1.76  2.50  1.64  2.22           1.0               2   \n",
       "1           1.60  2.60  1.62  2.38  1.57           1.0               2   \n",
       "2           2.10  1.83  2.26  1.70  2.12           1.0               2   \n",
       "3           1.74  2.30  1.80  2.10  1.72           1.0               2   \n",
       "4           1.53  2.81  1.54  2.64  1.47           1.0               2   \n",
       "\n",
       "Attributes  meaning-less-3  \n",
       "Match ID                    \n",
       "0                     3.22  \n",
       "1                     4.60  \n",
       "2                     3.32  \n",
       "3                     4.00  \n",
       "4                     5.50  \n",
       "\n",
       "[5 rows x 39 columns]"
      ],
      "text/html": [
       "\n",
       "  <div id=\"df-22e3ed20-01b4-41d9-8c80-7ba6cbfb9d90\">\n",
       "    <div class=\"colab-df-container\">\n",
       "      <div>\n",
       "<style scoped>\n",
       "    .dataframe tbody tr th:only-of-type {\n",
       "        vertical-align: middle;\n",
       "    }\n",
       "\n",
       "    .dataframe tbody tr th {\n",
       "        vertical-align: top;\n",
       "    }\n",
       "\n",
       "    .dataframe thead th {\n",
       "        text-align: right;\n",
       "    }\n",
       "</style>\n",
       "<table border=\"1\" class=\"dataframe\">\n",
       "  <thead>\n",
       "    <tr style=\"text-align: right;\">\n",
       "      <th>Attributes</th>\n",
       "      <th>ATP</th>\n",
       "      <th>Location</th>\n",
       "      <th>Tournament</th>\n",
       "      <th>Date</th>\n",
       "      <th>Series</th>\n",
       "      <th>Court</th>\n",
       "      <th>Surface</th>\n",
       "      <th>Round</th>\n",
       "      <th>Best of</th>\n",
       "      <th>Winner</th>\n",
       "      <th>...</th>\n",
       "      <th>B365L</th>\n",
       "      <th>PSW</th>\n",
       "      <th>PSL</th>\n",
       "      <th>MaxW</th>\n",
       "      <th>MaxL</th>\n",
       "      <th>AvgW</th>\n",
       "      <th>AvgL</th>\n",
       "      <th>meaning-less</th>\n",
       "      <th>meaning-less-2</th>\n",
       "      <th>meaning-less-3</th>\n",
       "    </tr>\n",
       "    <tr>\n",
       "      <th>Match ID</th>\n",
       "      <th></th>\n",
       "      <th></th>\n",
       "      <th></th>\n",
       "      <th></th>\n",
       "      <th></th>\n",
       "      <th></th>\n",
       "      <th></th>\n",
       "      <th></th>\n",
       "      <th></th>\n",
       "      <th></th>\n",
       "      <th></th>\n",
       "      <th></th>\n",
       "      <th></th>\n",
       "      <th></th>\n",
       "      <th></th>\n",
       "      <th></th>\n",
       "      <th></th>\n",
       "      <th></th>\n",
       "      <th></th>\n",
       "      <th></th>\n",
       "      <th></th>\n",
       "    </tr>\n",
       "  </thead>\n",
       "  <tbody>\n",
       "    <tr>\n",
       "      <th>0</th>\n",
       "      <td>1</td>\n",
       "      <td>Adelaide</td>\n",
       "      <td>Adelaide International 1</td>\n",
       "      <td>2022-01-03</td>\n",
       "      <td>ATP250</td>\n",
       "      <td>Outdoor</td>\n",
       "      <td>Hard</td>\n",
       "      <td>1st Round</td>\n",
       "      <td>3.0</td>\n",
       "      <td>Kwon S.W.</td>\n",
       "      <td>...</td>\n",
       "      <td>2.30</td>\n",
       "      <td>1.70</td>\n",
       "      <td>2.26</td>\n",
       "      <td>1.76</td>\n",
       "      <td>2.50</td>\n",
       "      <td>1.64</td>\n",
       "      <td>2.22</td>\n",
       "      <td>1.0</td>\n",
       "      <td>2</td>\n",
       "      <td>3.22</td>\n",
       "    </tr>\n",
       "    <tr>\n",
       "      <th>1</th>\n",
       "      <td>1</td>\n",
       "      <td>Adelaide</td>\n",
       "      <td>Adelaide International 1</td>\n",
       "      <td>2022-01-03</td>\n",
       "      <td>ATP250</td>\n",
       "      <td>Outdoor</td>\n",
       "      <td>Hard</td>\n",
       "      <td>1st Round</td>\n",
       "      <td>3.0</td>\n",
       "      <td>Monteiro T.</td>\n",
       "      <td>...</td>\n",
       "      <td>1.61</td>\n",
       "      <td>2.49</td>\n",
       "      <td>1.60</td>\n",
       "      <td>2.60</td>\n",
       "      <td>1.62</td>\n",
       "      <td>2.38</td>\n",
       "      <td>1.57</td>\n",
       "      <td>1.0</td>\n",
       "      <td>2</td>\n",
       "      <td>4.60</td>\n",
       "    </tr>\n",
       "    <tr>\n",
       "      <th>2</th>\n",
       "      <td>1</td>\n",
       "      <td>Adelaide</td>\n",
       "      <td>Adelaide International 1</td>\n",
       "      <td>2022-01-03</td>\n",
       "      <td>ATP250</td>\n",
       "      <td>Outdoor</td>\n",
       "      <td>Hard</td>\n",
       "      <td>1st Round</td>\n",
       "      <td>3.0</td>\n",
       "      <td>Djere L.</td>\n",
       "      <td>...</td>\n",
       "      <td>2.20</td>\n",
       "      <td>1.81</td>\n",
       "      <td>2.10</td>\n",
       "      <td>1.83</td>\n",
       "      <td>2.26</td>\n",
       "      <td>1.70</td>\n",
       "      <td>2.12</td>\n",
       "      <td>1.0</td>\n",
       "      <td>2</td>\n",
       "      <td>3.32</td>\n",
       "    </tr>\n",
       "    <tr>\n",
       "      <th>3</th>\n",
       "      <td>1</td>\n",
       "      <td>Adelaide</td>\n",
       "      <td>Adelaide International 1</td>\n",
       "      <td>2022-01-03</td>\n",
       "      <td>ATP250</td>\n",
       "      <td>Outdoor</td>\n",
       "      <td>Hard</td>\n",
       "      <td>1st Round</td>\n",
       "      <td>3.0</td>\n",
       "      <td>Johnson S.</td>\n",
       "      <td>...</td>\n",
       "      <td>1.80</td>\n",
       "      <td>2.21</td>\n",
       "      <td>1.74</td>\n",
       "      <td>2.30</td>\n",
       "      <td>1.80</td>\n",
       "      <td>2.10</td>\n",
       "      <td>1.72</td>\n",
       "      <td>1.0</td>\n",
       "      <td>2</td>\n",
       "      <td>4.00</td>\n",
       "    </tr>\n",
       "    <tr>\n",
       "      <th>4</th>\n",
       "      <td>1</td>\n",
       "      <td>Adelaide</td>\n",
       "      <td>Adelaide International 1</td>\n",
       "      <td>2022-01-04</td>\n",
       "      <td>ATP250</td>\n",
       "      <td>Outdoor</td>\n",
       "      <td>Hard</td>\n",
       "      <td>1st Round</td>\n",
       "      <td>3.0</td>\n",
       "      <td>Moutet C.</td>\n",
       "      <td>...</td>\n",
       "      <td>1.44</td>\n",
       "      <td>2.66</td>\n",
       "      <td>1.53</td>\n",
       "      <td>2.81</td>\n",
       "      <td>1.54</td>\n",
       "      <td>2.64</td>\n",
       "      <td>1.47</td>\n",
       "      <td>1.0</td>\n",
       "      <td>2</td>\n",
       "      <td>5.50</td>\n",
       "    </tr>\n",
       "  </tbody>\n",
       "</table>\n",
       "<p>5 rows × 39 columns</p>\n",
       "</div>\n",
       "      <button class=\"colab-df-convert\" onclick=\"convertToInteractive('df-22e3ed20-01b4-41d9-8c80-7ba6cbfb9d90')\"\n",
       "              title=\"Convert this dataframe to an interactive table.\"\n",
       "              style=\"display:none;\">\n",
       "        \n",
       "  <svg xmlns=\"http://www.w3.org/2000/svg\" height=\"24px\"viewBox=\"0 0 24 24\"\n",
       "       width=\"24px\">\n",
       "    <path d=\"M0 0h24v24H0V0z\" fill=\"none\"/>\n",
       "    <path d=\"M18.56 5.44l.94 2.06.94-2.06 2.06-.94-2.06-.94-.94-2.06-.94 2.06-2.06.94zm-11 1L8.5 8.5l.94-2.06 2.06-.94-2.06-.94L8.5 2.5l-.94 2.06-2.06.94zm10 10l.94 2.06.94-2.06 2.06-.94-2.06-.94-.94-2.06-.94 2.06-2.06.94z\"/><path d=\"M17.41 7.96l-1.37-1.37c-.4-.4-.92-.59-1.43-.59-.52 0-1.04.2-1.43.59L10.3 9.45l-7.72 7.72c-.78.78-.78 2.05 0 2.83L4 21.41c.39.39.9.59 1.41.59.51 0 1.02-.2 1.41-.59l7.78-7.78 2.81-2.81c.8-.78.8-2.07 0-2.86zM5.41 20L4 18.59l7.72-7.72 1.47 1.35L5.41 20z\"/>\n",
       "  </svg>\n",
       "      </button>\n",
       "      \n",
       "  <style>\n",
       "    .colab-df-container {\n",
       "      display:flex;\n",
       "      flex-wrap:wrap;\n",
       "      gap: 12px;\n",
       "    }\n",
       "\n",
       "    .colab-df-convert {\n",
       "      background-color: #E8F0FE;\n",
       "      border: none;\n",
       "      border-radius: 50%;\n",
       "      cursor: pointer;\n",
       "      display: none;\n",
       "      fill: #1967D2;\n",
       "      height: 32px;\n",
       "      padding: 0 0 0 0;\n",
       "      width: 32px;\n",
       "    }\n",
       "\n",
       "    .colab-df-convert:hover {\n",
       "      background-color: #E2EBFA;\n",
       "      box-shadow: 0px 1px 2px rgba(60, 64, 67, 0.3), 0px 1px 3px 1px rgba(60, 64, 67, 0.15);\n",
       "      fill: #174EA6;\n",
       "    }\n",
       "\n",
       "    [theme=dark] .colab-df-convert {\n",
       "      background-color: #3B4455;\n",
       "      fill: #D2E3FC;\n",
       "    }\n",
       "\n",
       "    [theme=dark] .colab-df-convert:hover {\n",
       "      background-color: #434B5C;\n",
       "      box-shadow: 0px 1px 3px 1px rgba(0, 0, 0, 0.15);\n",
       "      filter: drop-shadow(0px 1px 2px rgba(0, 0, 0, 0.3));\n",
       "      fill: #FFFFFF;\n",
       "    }\n",
       "  </style>\n",
       "\n",
       "      <script>\n",
       "        const buttonEl =\n",
       "          document.querySelector('#df-22e3ed20-01b4-41d9-8c80-7ba6cbfb9d90 button.colab-df-convert');\n",
       "        buttonEl.style.display =\n",
       "          google.colab.kernel.accessAllowed ? 'block' : 'none';\n",
       "\n",
       "        async function convertToInteractive(key) {\n",
       "          const element = document.querySelector('#df-22e3ed20-01b4-41d9-8c80-7ba6cbfb9d90');\n",
       "          const dataTable =\n",
       "            await google.colab.kernel.invokeFunction('convertToInteractive',\n",
       "                                                     [key], {});\n",
       "          if (!dataTable) return;\n",
       "\n",
       "          const docLinkHtml = 'Like what you see? Visit the ' +\n",
       "            '<a target=\"_blank\" href=https://colab.research.google.com/notebooks/data_table.ipynb>data table notebook</a>'\n",
       "            + ' to learn more about interactive tables.';\n",
       "          element.innerHTML = '';\n",
       "          dataTable['output_type'] = 'display_data';\n",
       "          await google.colab.output.renderOutput(dataTable, element);\n",
       "          const docLink = document.createElement('div');\n",
       "          docLink.innerHTML = docLinkHtml;\n",
       "          element.appendChild(docLink);\n",
       "        }\n",
       "      </script>\n",
       "    </div>\n",
       "  </div>\n",
       "  "
      ]
     },
     "metadata": {},
     "execution_count": 13
    }
   ],
   "source": [
    "import numpy as np\n",
    "print(f\"df.shape is {df.shape}\")\n",
    "\n",
    "# note that len gives us the number of rows\n",
    "df['meaning-less']   = np.ones(len(df)) \n",
    "df['meaning-less-2'] = 2\n",
    "df['meaning-less-3'] = df['B365W']*2\n",
    "\n",
    "df.head()"
   ]
  },
  {
   "cell_type": "markdown",
   "metadata": {
    "id": "GikVAdleLdib",
    "pycharm": {
     "name": "#%% md\n"
    }
   },
   "source": [
    "#### Example (Deletion)\n",
    "\n",
    "Method `drop()` can be used to remove a column. We need to specify axis=1 (axis=0 are the rows).\n",
    "The built-in `del` can also be used.\n",
    "\n",
    "`inplace` argument (default is False)  is common in several Pandas' functions that modify the DataFrame. \n",
    "If True, it says that the function has to modify the DataFrame itself instead of returning a new one."
   ]
  },
  {
   "cell_type": "code",
   "execution_count": 14,
   "metadata": {
    "scrolled": true,
    "id": "FdyXE5QhLdib",
    "colab": {
     "base_uri": "https://localhost:8080/",
     "height": 522
    },
    "executionInfo": {
     "status": "ok",
     "timestamp": 1670230052996,
     "user_tz": -60,
     "elapsed": 241,
     "user": {
      "displayName": "Diego Chinellato",
      "userId": "17373725090461795110"
     }
    },
    "outputId": "3d393250-19b2-4291-c38b-08ceac320bd2",
    "pycharm": {
     "name": "#%%\n"
    }
   },
   "outputs": [
    {
     "output_type": "execute_result",
     "data": {
      "text/plain": [
       "Attributes  ATP  Location                Tournament       Date  Series  \\\n",
       "Match ID                                                                 \n",
       "0             1  Adelaide  Adelaide International 1 2022-01-03  ATP250   \n",
       "1             1  Adelaide  Adelaide International 1 2022-01-03  ATP250   \n",
       "2             1  Adelaide  Adelaide International 1 2022-01-03  ATP250   \n",
       "3             1  Adelaide  Adelaide International 1 2022-01-03  ATP250   \n",
       "4             1  Adelaide  Adelaide International 1 2022-01-04  ATP250   \n",
       "\n",
       "Attributes    Court Surface      Round  Best of       Winner  ... Lsets  \\\n",
       "Match ID                                                      ...         \n",
       "0           Outdoor    Hard  1st Round      3.0    Kwon S.W.  ...   0.0   \n",
       "1           Outdoor    Hard  1st Round      3.0  Monteiro T.  ...   1.0   \n",
       "2           Outdoor    Hard  1st Round      3.0     Djere L.  ...   0.0   \n",
       "3           Outdoor    Hard  1st Round      3.0   Johnson S.  ...   1.0   \n",
       "4           Outdoor    Hard  1st Round      3.0    Moutet C.  ...   0.0   \n",
       "\n",
       "Attributes    Comment  B365W  B365L   PSW   PSL  MaxW  MaxL  AvgW  AvgL  \n",
       "Match ID                                                                 \n",
       "0           Completed   1.61   2.30  1.70  2.26  1.76  2.50  1.64  2.22  \n",
       "1           Completed   2.30   1.61  2.49  1.60  2.60  1.62  2.38  1.57  \n",
       "2           Completed   1.66   2.20  1.81  2.10  1.83  2.26  1.70  2.12  \n",
       "3           Completed   2.00   1.80  2.21  1.74  2.30  1.80  2.10  1.72  \n",
       "4           Completed   2.75   1.44  2.66  1.53  2.81  1.54  2.64  1.47  \n",
       "\n",
       "[5 rows x 36 columns]"
      ],
      "text/html": [
       "\n",
       "  <div id=\"df-c04c8cf2-6f7b-4751-9839-69a86ce5fee1\">\n",
       "    <div class=\"colab-df-container\">\n",
       "      <div>\n",
       "<style scoped>\n",
       "    .dataframe tbody tr th:only-of-type {\n",
       "        vertical-align: middle;\n",
       "    }\n",
       "\n",
       "    .dataframe tbody tr th {\n",
       "        vertical-align: top;\n",
       "    }\n",
       "\n",
       "    .dataframe thead th {\n",
       "        text-align: right;\n",
       "    }\n",
       "</style>\n",
       "<table border=\"1\" class=\"dataframe\">\n",
       "  <thead>\n",
       "    <tr style=\"text-align: right;\">\n",
       "      <th>Attributes</th>\n",
       "      <th>ATP</th>\n",
       "      <th>Location</th>\n",
       "      <th>Tournament</th>\n",
       "      <th>Date</th>\n",
       "      <th>Series</th>\n",
       "      <th>Court</th>\n",
       "      <th>Surface</th>\n",
       "      <th>Round</th>\n",
       "      <th>Best of</th>\n",
       "      <th>Winner</th>\n",
       "      <th>...</th>\n",
       "      <th>Lsets</th>\n",
       "      <th>Comment</th>\n",
       "      <th>B365W</th>\n",
       "      <th>B365L</th>\n",
       "      <th>PSW</th>\n",
       "      <th>PSL</th>\n",
       "      <th>MaxW</th>\n",
       "      <th>MaxL</th>\n",
       "      <th>AvgW</th>\n",
       "      <th>AvgL</th>\n",
       "    </tr>\n",
       "    <tr>\n",
       "      <th>Match ID</th>\n",
       "      <th></th>\n",
       "      <th></th>\n",
       "      <th></th>\n",
       "      <th></th>\n",
       "      <th></th>\n",
       "      <th></th>\n",
       "      <th></th>\n",
       "      <th></th>\n",
       "      <th></th>\n",
       "      <th></th>\n",
       "      <th></th>\n",
       "      <th></th>\n",
       "      <th></th>\n",
       "      <th></th>\n",
       "      <th></th>\n",
       "      <th></th>\n",
       "      <th></th>\n",
       "      <th></th>\n",
       "      <th></th>\n",
       "      <th></th>\n",
       "      <th></th>\n",
       "    </tr>\n",
       "  </thead>\n",
       "  <tbody>\n",
       "    <tr>\n",
       "      <th>0</th>\n",
       "      <td>1</td>\n",
       "      <td>Adelaide</td>\n",
       "      <td>Adelaide International 1</td>\n",
       "      <td>2022-01-03</td>\n",
       "      <td>ATP250</td>\n",
       "      <td>Outdoor</td>\n",
       "      <td>Hard</td>\n",
       "      <td>1st Round</td>\n",
       "      <td>3.0</td>\n",
       "      <td>Kwon S.W.</td>\n",
       "      <td>...</td>\n",
       "      <td>0.0</td>\n",
       "      <td>Completed</td>\n",
       "      <td>1.61</td>\n",
       "      <td>2.30</td>\n",
       "      <td>1.70</td>\n",
       "      <td>2.26</td>\n",
       "      <td>1.76</td>\n",
       "      <td>2.50</td>\n",
       "      <td>1.64</td>\n",
       "      <td>2.22</td>\n",
       "    </tr>\n",
       "    <tr>\n",
       "      <th>1</th>\n",
       "      <td>1</td>\n",
       "      <td>Adelaide</td>\n",
       "      <td>Adelaide International 1</td>\n",
       "      <td>2022-01-03</td>\n",
       "      <td>ATP250</td>\n",
       "      <td>Outdoor</td>\n",
       "      <td>Hard</td>\n",
       "      <td>1st Round</td>\n",
       "      <td>3.0</td>\n",
       "      <td>Monteiro T.</td>\n",
       "      <td>...</td>\n",
       "      <td>1.0</td>\n",
       "      <td>Completed</td>\n",
       "      <td>2.30</td>\n",
       "      <td>1.61</td>\n",
       "      <td>2.49</td>\n",
       "      <td>1.60</td>\n",
       "      <td>2.60</td>\n",
       "      <td>1.62</td>\n",
       "      <td>2.38</td>\n",
       "      <td>1.57</td>\n",
       "    </tr>\n",
       "    <tr>\n",
       "      <th>2</th>\n",
       "      <td>1</td>\n",
       "      <td>Adelaide</td>\n",
       "      <td>Adelaide International 1</td>\n",
       "      <td>2022-01-03</td>\n",
       "      <td>ATP250</td>\n",
       "      <td>Outdoor</td>\n",
       "      <td>Hard</td>\n",
       "      <td>1st Round</td>\n",
       "      <td>3.0</td>\n",
       "      <td>Djere L.</td>\n",
       "      <td>...</td>\n",
       "      <td>0.0</td>\n",
       "      <td>Completed</td>\n",
       "      <td>1.66</td>\n",
       "      <td>2.20</td>\n",
       "      <td>1.81</td>\n",
       "      <td>2.10</td>\n",
       "      <td>1.83</td>\n",
       "      <td>2.26</td>\n",
       "      <td>1.70</td>\n",
       "      <td>2.12</td>\n",
       "    </tr>\n",
       "    <tr>\n",
       "      <th>3</th>\n",
       "      <td>1</td>\n",
       "      <td>Adelaide</td>\n",
       "      <td>Adelaide International 1</td>\n",
       "      <td>2022-01-03</td>\n",
       "      <td>ATP250</td>\n",
       "      <td>Outdoor</td>\n",
       "      <td>Hard</td>\n",
       "      <td>1st Round</td>\n",
       "      <td>3.0</td>\n",
       "      <td>Johnson S.</td>\n",
       "      <td>...</td>\n",
       "      <td>1.0</td>\n",
       "      <td>Completed</td>\n",
       "      <td>2.00</td>\n",
       "      <td>1.80</td>\n",
       "      <td>2.21</td>\n",
       "      <td>1.74</td>\n",
       "      <td>2.30</td>\n",
       "      <td>1.80</td>\n",
       "      <td>2.10</td>\n",
       "      <td>1.72</td>\n",
       "    </tr>\n",
       "    <tr>\n",
       "      <th>4</th>\n",
       "      <td>1</td>\n",
       "      <td>Adelaide</td>\n",
       "      <td>Adelaide International 1</td>\n",
       "      <td>2022-01-04</td>\n",
       "      <td>ATP250</td>\n",
       "      <td>Outdoor</td>\n",
       "      <td>Hard</td>\n",
       "      <td>1st Round</td>\n",
       "      <td>3.0</td>\n",
       "      <td>Moutet C.</td>\n",
       "      <td>...</td>\n",
       "      <td>0.0</td>\n",
       "      <td>Completed</td>\n",
       "      <td>2.75</td>\n",
       "      <td>1.44</td>\n",
       "      <td>2.66</td>\n",
       "      <td>1.53</td>\n",
       "      <td>2.81</td>\n",
       "      <td>1.54</td>\n",
       "      <td>2.64</td>\n",
       "      <td>1.47</td>\n",
       "    </tr>\n",
       "  </tbody>\n",
       "</table>\n",
       "<p>5 rows × 36 columns</p>\n",
       "</div>\n",
       "      <button class=\"colab-df-convert\" onclick=\"convertToInteractive('df-c04c8cf2-6f7b-4751-9839-69a86ce5fee1')\"\n",
       "              title=\"Convert this dataframe to an interactive table.\"\n",
       "              style=\"display:none;\">\n",
       "        \n",
       "  <svg xmlns=\"http://www.w3.org/2000/svg\" height=\"24px\"viewBox=\"0 0 24 24\"\n",
       "       width=\"24px\">\n",
       "    <path d=\"M0 0h24v24H0V0z\" fill=\"none\"/>\n",
       "    <path d=\"M18.56 5.44l.94 2.06.94-2.06 2.06-.94-2.06-.94-.94-2.06-.94 2.06-2.06.94zm-11 1L8.5 8.5l.94-2.06 2.06-.94-2.06-.94L8.5 2.5l-.94 2.06-2.06.94zm10 10l.94 2.06.94-2.06 2.06-.94-2.06-.94-.94-2.06-.94 2.06-2.06.94z\"/><path d=\"M17.41 7.96l-1.37-1.37c-.4-.4-.92-.59-1.43-.59-.52 0-1.04.2-1.43.59L10.3 9.45l-7.72 7.72c-.78.78-.78 2.05 0 2.83L4 21.41c.39.39.9.59 1.41.59.51 0 1.02-.2 1.41-.59l7.78-7.78 2.81-2.81c.8-.78.8-2.07 0-2.86zM5.41 20L4 18.59l7.72-7.72 1.47 1.35L5.41 20z\"/>\n",
       "  </svg>\n",
       "      </button>\n",
       "      \n",
       "  <style>\n",
       "    .colab-df-container {\n",
       "      display:flex;\n",
       "      flex-wrap:wrap;\n",
       "      gap: 12px;\n",
       "    }\n",
       "\n",
       "    .colab-df-convert {\n",
       "      background-color: #E8F0FE;\n",
       "      border: none;\n",
       "      border-radius: 50%;\n",
       "      cursor: pointer;\n",
       "      display: none;\n",
       "      fill: #1967D2;\n",
       "      height: 32px;\n",
       "      padding: 0 0 0 0;\n",
       "      width: 32px;\n",
       "    }\n",
       "\n",
       "    .colab-df-convert:hover {\n",
       "      background-color: #E2EBFA;\n",
       "      box-shadow: 0px 1px 2px rgba(60, 64, 67, 0.3), 0px 1px 3px 1px rgba(60, 64, 67, 0.15);\n",
       "      fill: #174EA6;\n",
       "    }\n",
       "\n",
       "    [theme=dark] .colab-df-convert {\n",
       "      background-color: #3B4455;\n",
       "      fill: #D2E3FC;\n",
       "    }\n",
       "\n",
       "    [theme=dark] .colab-df-convert:hover {\n",
       "      background-color: #434B5C;\n",
       "      box-shadow: 0px 1px 3px 1px rgba(0, 0, 0, 0.15);\n",
       "      filter: drop-shadow(0px 1px 2px rgba(0, 0, 0, 0.3));\n",
       "      fill: #FFFFFF;\n",
       "    }\n",
       "  </style>\n",
       "\n",
       "      <script>\n",
       "        const buttonEl =\n",
       "          document.querySelector('#df-c04c8cf2-6f7b-4751-9839-69a86ce5fee1 button.colab-df-convert');\n",
       "        buttonEl.style.display =\n",
       "          google.colab.kernel.accessAllowed ? 'block' : 'none';\n",
       "\n",
       "        async function convertToInteractive(key) {\n",
       "          const element = document.querySelector('#df-c04c8cf2-6f7b-4751-9839-69a86ce5fee1');\n",
       "          const dataTable =\n",
       "            await google.colab.kernel.invokeFunction('convertToInteractive',\n",
       "                                                     [key], {});\n",
       "          if (!dataTable) return;\n",
       "\n",
       "          const docLinkHtml = 'Like what you see? Visit the ' +\n",
       "            '<a target=\"_blank\" href=https://colab.research.google.com/notebooks/data_table.ipynb>data table notebook</a>'\n",
       "            + ' to learn more about interactive tables.';\n",
       "          element.innerHTML = '';\n",
       "          dataTable['output_type'] = 'display_data';\n",
       "          await google.colab.output.renderOutput(dataTable, element);\n",
       "          const docLink = document.createElement('div');\n",
       "          docLink.innerHTML = docLinkHtml;\n",
       "          element.appendChild(docLink);\n",
       "        }\n",
       "      </script>\n",
       "    </div>\n",
       "  </div>\n",
       "  "
      ]
     },
     "metadata": {},
     "execution_count": 14
    }
   ],
   "source": [
    "# drop returns a new dataframe\n",
    "df = df.drop('meaning-less', axis=1)   \n",
    "# unless inplace is set to True\n",
    "df.drop('meaning-less-2', axis=1, inplace=True)\n",
    "# alternative\n",
    "del df['meaning-less-3']\n",
    "\n",
    "df.head()"
   ]
  },
  {
   "cell_type": "markdown",
   "metadata": {
    "id": "J_b1xv0JLdib",
    "pycharm": {
     "name": "#%% md\n"
    }
   },
   "source": [
    "## Index\n",
    "\n",
    "Index does not need to be in integer, and it does not need to be unique.\n",
    "We can choose one of the column to be the index with function `set_index()`. \n",
    "\n",
    "Note that the old index is lost!"
   ]
  },
  {
   "cell_type": "code",
   "execution_count": null,
   "metadata": {
    "scrolled": false,
    "id": "URLM3otCLdic",
    "pycharm": {
     "name": "#%%\n"
    }
   },
   "outputs": [],
   "source": [
    "df.set_index(\"Location\", inplace=True) # Alternative to df = df.set_index(\"Location\")\n",
    "\n",
    "# Note the new name of the index\n",
    "df.head()"
   ]
  },
  {
   "cell_type": "markdown",
   "metadata": {
    "id": "-vbmDYFiLdic",
    "pycharm": {
     "name": "#%% md\n"
    }
   },
   "source": [
    "## Question: List the tournament names"
   ]
  },
  {
   "cell_type": "code",
   "execution_count": 17,
   "metadata": {
    "id": "okaQWRWBLdic",
    "colab": {
     "base_uri": "https://localhost:8080/"
    },
    "executionInfo": {
     "status": "ok",
     "timestamp": 1670230119875,
     "user_tz": -60,
     "elapsed": 763,
     "user": {
      "displayName": "Diego Chinellato",
      "userId": "17373725090461795110"
     }
    },
    "outputId": "a3325a86-c32d-426a-9612-959018e4f6d9",
    "pycharm": {
     "name": "#%%\n"
    }
   },
   "outputs": [
    {
     "output_type": "execute_result",
     "data": {
      "text/plain": [
       "0       Adelaide International 1\n",
       "1       Adelaide International 1\n",
       "2       Adelaide International 1\n",
       "3       Adelaide International 1\n",
       "4       Adelaide International 1\n",
       "                  ...           \n",
       "2627                 Masters Cup\n",
       "2628                 Masters Cup\n",
       "2629                 Masters Cup\n",
       "2630                 Masters Cup\n",
       "2631                 Masters Cup\n",
       "Name: Tournament, Length: 2632, dtype: object"
      ]
     },
     "metadata": {},
     "execution_count": 17
    }
   ],
   "source": [
    "import pandas as pd\n",
    "\n",
    "df = pd.read_excel('http://tennis-data.co.uk/2022/2022.xlsx')\n",
    "\n",
    "df['Tournament']"
   ]
  },
  {
   "cell_type": "code",
   "execution_count": null,
   "metadata": {
    "id": "TXg9PvReLdic",
    "pycharm": {
     "name": "#%%\n"
    }
   },
   "outputs": [],
   "source": [
    "set(df['Tournament'])"
   ]
  },
  {
   "cell_type": "markdown",
   "metadata": {
    "id": "H40xfxj6Ldic",
    "pycharm": {
     "name": "#%% md\n"
    }
   },
   "source": [
    "You can do this because a pandas Series is iterable, and a python set can be build from any iterable.\n",
    "\n",
    "You can iterate in two ways."
   ]
  },
  {
   "cell_type": "code",
   "execution_count": null,
   "metadata": {
    "scrolled": true,
    "id": "nACuCWkmLdic",
    "pycharm": {
     "name": "#%%\n"
    }
   },
   "outputs": [],
   "source": [
    "for v in df['Tournament']:\n",
    "    print(v)"
   ]
  },
  {
   "cell_type": "code",
   "execution_count": null,
   "metadata": {
    "id": "v9clAArlLdic",
    "pycharm": {
     "name": "#%%\n"
    }
   },
   "outputs": [],
   "source": [
    "# similar to enumerate\n",
    "for index, v in df['Tournament'].iteritems():\n",
    "    print(index, v)"
   ]
  },
  {
   "cell_type": "markdown",
   "metadata": {
    "id": "TyAXq4bULdic",
    "pycharm": {
     "name": "#%% md\n"
    }
   },
   "source": [
    "Pandas allows to do better than using python sets."
   ]
  },
  {
   "cell_type": "code",
   "execution_count": null,
   "metadata": {
    "id": "z4jgBZX2Ldic",
    "pycharm": {
     "name": "#%%\n"
    }
   },
   "outputs": [],
   "source": [
    "df['Tournament'].unique()\n",
    "# see https://pandas.pydata.org/pandas-docs/stable/reference/api/pandas.unique.html"
   ]
  },
  {
   "cell_type": "code",
   "execution_count": null,
   "metadata": {
    "scrolled": false,
    "id": "Cqrcy-GuLdid",
    "pycharm": {
     "name": "#%%\n"
    }
   },
   "outputs": [],
   "source": [
    "df['Tournament'].value_counts()\n",
    "# see: https://pandas.pydata.org/pandas-docs/stable/reference/api/pandas.Series.value_counts.html"
   ]
  },
  {
   "cell_type": "code",
   "execution_count": null,
   "metadata": {
    "scrolled": false,
    "id": "Znj2Nz6HLdid",
    "pycharm": {
     "name": "#%%\n"
    }
   },
   "outputs": [],
   "source": [
    "# Note it returns a Series\n",
    "for tournament, count in df['Tournament'].value_counts().iteritems():\n",
    "    print(f\"During the {tournament} there were {count} matches.\")"
   ]
  },
  {
   "cell_type": "markdown",
   "metadata": {
    "id": "M21OD8kuLdid",
    "pycharm": {
     "name": "#%% md\n"
    }
   },
   "source": [
    "# Question: Find player with most wins"
   ]
  },
  {
   "cell_type": "code",
   "execution_count": 22,
   "metadata": {
    "id": "xmaLJvPvLdid",
    "colab": {
     "base_uri": "https://localhost:8080/",
     "height": 35
    },
    "executionInfo": {
     "status": "ok",
     "timestamp": 1670230206714,
     "user_tz": -60,
     "elapsed": 872,
     "user": {
      "displayName": "Diego Chinellato",
      "userId": "17373725090461795110"
     }
    },
    "outputId": "f4de2a8f-83d3-4519-bcad-8bb76dd976db",
    "pycharm": {
     "name": "#%%\n"
    }
   },
   "outputs": [
    {
     "output_type": "execute_result",
     "data": {
      "text/plain": [
       "'Tsitsipas S.'"
      ],
      "application/vnd.google.colaboratory.intrinsic+json": {
       "type": "string"
      }
     },
     "metadata": {},
     "execution_count": 22
    }
   ],
   "source": [
    "import pandas as pd\n",
    "\n",
    "df = pd.read_excel('http://tennis-data.co.uk/2022/2022.xlsx')\n",
    "\n",
    "winners = df['Winner'].value_counts()\n",
    "most_winner = winners.index[0]\n",
    "most_winner"
   ]
  },
  {
   "cell_type": "markdown",
   "metadata": {
    "id": "NmSiYYhlLdid",
    "pycharm": {
     "name": "#%% md\n"
    }
   },
   "source": [
    "## A focus  on Series\n",
    "\n",
    "- **Series** is a one-dimensional array-like object containing a sequence of values (of similar types to NumPy types) and an associated array of data labels, called its *index*.\n",
    "\n",
    "It provides functionalities similar to that of python lists and python dictionaries.\n",
    "\n",
    "As for Dataframes, Series have an index. The default index is made by numbers from 0-1, otherwise we can specify it, and we can use arbitrary labels as index.\n"
   ]
  },
  {
   "cell_type": "code",
   "execution_count": null,
   "metadata": {
    "id": "xnY-kZrjLdid",
    "pycharm": {
     "name": "#%%\n",
     "is_executing": true
    }
   },
   "outputs": [],
   "source": [
    "import pandas as pd\n",
    "\n",
    "pds = pd.Series([4, 7, -5, -3])\n",
    "\n",
    "print(pds)"
   ]
  },
  {
   "cell_type": "code",
   "execution_count": null,
   "metadata": {
    "id": "ulOxiXVrLdid",
    "pycharm": {
     "name": "#%%\n",
     "is_executing": true
    }
   },
   "outputs": [],
   "source": [
    "pds = pd.Series( [4, 7, -5, -3], \n",
    "                 index=[\"George\", \"John\", \"Paul\", \"Ringo\"])\n",
    "\n",
    "# Series my have a name and its index may also have a name\n",
    "pds.name = \"The Beatles\"\n",
    "pds.index.name = \"Member\"\n",
    "\n",
    "print(pds)"
   ]
  },
  {
   "cell_type": "markdown",
   "metadata": {
    "id": "8Y_w_BkxLdid",
    "pycharm": {
     "name": "#%% md\n"
    }
   },
   "source": [
    "### Indexing and slicing\n",
    "\n",
    "Series indexing works analogously to Python list if you want to access by position, or similar to python dictionaries if you want to access by index value."
   ]
  },
  {
   "cell_type": "code",
   "execution_count": null,
   "metadata": {
    "id": "0tWq9ltSLdid",
    "pycharm": {
     "name": "#%%\n"
    }
   },
   "outputs": [],
   "source": [
    "# access by position\n",
    "print(pds[2])\n",
    "\n",
    "# access by index value\n",
    "print(pds['Paul'])"
   ]
  },
  {
   "cell_type": "code",
   "execution_count": null,
   "metadata": {
    "id": "oOrjC9WELdid",
    "pycharm": {
     "name": "#%%\n"
    }
   },
   "outputs": [],
   "source": [
    "# Fancy indexing by position\n",
    "print(pds[ [0,3] ])\n",
    "\n",
    "# Fancy indexing by index calue\n",
    "p = pds[  ['John', 'Ringo']  ]\n",
    "print(p)\n",
    "\n",
    "# note: they return pands series\n",
    "print(type(p))"
   ]
  },
  {
   "cell_type": "code",
   "execution_count": null,
   "metadata": {
    "id": "wZsbchTeLdie",
    "pycharm": {
     "name": "#%%\n"
    }
   },
   "outputs": [],
   "source": [
    "# We also have Boolean Indexing\n",
    "print(pds[ [True, False, False, True] ])"
   ]
  },
  {
   "cell_type": "markdown",
   "metadata": {
    "id": "nIcVy6TDLdie",
    "pycharm": {
     "name": "#%% md\n"
    }
   },
   "source": [
    "## Slicing, loc and iloc\n",
    "\n",
    "Pandas tries to understand whether you are using a position or an index value. (What if they are both integers?)\n",
    "\n",
    "To avoid confusion, one good recommendation is to use `loc` and `iloc`."
   ]
  },
  {
   "cell_type": "markdown",
   "metadata": {
    "id": "V8O_McddLdie",
    "pycharm": {
     "name": "#%% md\n"
    }
   },
   "source": [
    "#### Example\n",
    "As in Python, we can use slicing with positions. **Right extreme is NOT included**.\n",
    "\n",
    "Recommendation: use `iloc`"
   ]
  },
  {
   "cell_type": "code",
   "execution_count": null,
   "metadata": {
    "id": "XkA5M31QLdie",
    "pycharm": {
     "name": "#%%\n"
    }
   },
   "outputs": [],
   "source": [
    "print(pds)\n",
    "\n",
    "print(pds[1:3])\n",
    "\n",
    "print(pds.iloc[1:3])"
   ]
  },
  {
   "cell_type": "markdown",
   "metadata": {
    "id": "lJWdVd0WLdie",
    "pycharm": {
     "name": "#%% md\n"
    }
   },
   "source": [
    "#### Example\n",
    "But we can also use slicing with labels. **Right extreme is included**. Index must be sorted !\n",
    "\n",
    "Recommendation: use `loc`"
   ]
  },
  {
   "cell_type": "code",
   "execution_count": 5,
   "metadata": {
    "id": "blLR-ozaLdie",
    "pycharm": {
     "name": "#%%\n"
    }
   },
   "outputs": [
    {
     "name": "stdout",
     "output_type": "stream",
     "text": [
      "Member\n",
      "George    4\n",
      "John      7\n",
      "Name: The Beatles, dtype: int64\n",
      "Member\n",
      "George    4\n",
      "John      7\n",
      "Paul     -5\n",
      "Name: The Beatles, dtype: int64\n",
      "Member\n",
      "George    4\n",
      "John      7\n",
      "Paul     -5\n",
      "Name: The Beatles, dtype: int64\n"
     ]
    }
   ],
   "source": [
    "print(pds['George':'Paul'])\n",
    "\n",
    "print(pds.loc['George':'Paul'])"
   ]
  },
  {
   "cell_type": "markdown",
   "metadata": {
    "id": "p3L_VOOsLdie",
    "pycharm": {
     "name": "#%% md\n"
    }
   },
   "source": [
    "As for a dictionary you can check for presence."
   ]
  },
  {
   "cell_type": "code",
   "execution_count": null,
   "metadata": {
    "id": "lTQ-cSpFLdie",
    "pycharm": {
     "name": "#%%\n"
    }
   },
   "outputs": [],
   "source": [
    "print(f\"'John' in pds: {'John' in pds}\")\n",
    "print(f\"'Mark' in pds: {'Mark' in pds}\")\n",
    "\n",
    "# try\n",
    "# pds[\"Mark\"] # KeyError exception if not present"
   ]
  },
  {
   "cell_type": "markdown",
   "metadata": {
    "id": "xCi-i0g2Ldie",
    "pycharm": {
     "name": "#%% md\n"
    }
   },
   "source": [
    "### Series are mutable\n",
    "\n",
    "We can change its values with an assignment (also with slicing). "
   ]
  },
  {
   "cell_type": "code",
   "execution_count": null,
   "metadata": {
    "id": "kHR8DvQ-Ldie",
    "pycharm": {
     "name": "#%%\n"
    }
   },
   "outputs": [],
   "source": [
    "print(pds)\n",
    "\n",
    "pds['Paul'] = 42\n",
    "\n",
    "pds['George':'Paul'] = 5\n",
    "\n",
    "print(pds)"
   ]
  },
  {
   "cell_type": "code",
   "execution_count": null,
   "metadata": {
    "id": "y7f61NbVLdif",
    "pycharm": {
     "name": "#%%\n"
    }
   },
   "outputs": [],
   "source": [
    "pds['Gennaro'] = 12 # It's an honor be part of this group\n",
    "\n",
    "print(pds)"
   ]
  },
  {
   "cell_type": "markdown",
   "metadata": {
    "id": "5DeEnFSlLdif",
    "pycharm": {
     "name": "#%% md\n"
    }
   },
   "source": [
    "### Filtering + Boolean Indexing\n",
    "\n",
    "We can filter entries of a Series.\n",
    "\n",
    "(You have the same in NumPy's Boolean indexing).\n",
    "\n",
    "#### Example\n",
    "Here we get only rows with a positive value. "
   ]
  },
  {
   "cell_type": "code",
   "execution_count": null,
   "metadata": {
    "id": "8GzUUufxLdif",
    "pycharm": {
     "name": "#%%\n"
    }
   },
   "outputs": [],
   "source": [
    "a = pds > 0\n",
    "print(f\"pds > 0\\n{a}\")\n",
    "\n",
    "print(f\"pds[ pds > 0]:\\n{pds[a]}\") # get only positive values of pds\n",
    "print(\"Fab Four are back!\")"
   ]
  },
  {
   "cell_type": "code",
   "execution_count": null,
   "metadata": {
    "id": "ruUNXeOSLdif",
    "pycharm": {
     "name": "#%%\n"
    }
   },
   "outputs": [],
   "source": [
    "# Bye-bye gennaro\n",
    "\n",
    "psd = pds.drop('Gennaro')"
   ]
  },
  {
   "cell_type": "markdown",
   "metadata": {
    "id": "gLyJUTlELdif",
    "pycharm": {
     "name": "#%% md\n"
    }
   },
   "source": [
    "### Operations\n",
    "We can perform NumPy operations on a Series. "
   ]
  },
  {
   "cell_type": "code",
   "execution_count": null,
   "metadata": {
    "id": "259A95MoLdif",
    "pycharm": {
     "name": "#%%\n"
    }
   },
   "outputs": [],
   "source": [
    "import numpy as np\n",
    "\n",
    "print(f\"pds*2:\\n{pds*2}\",)\n",
    "\n",
    "print(f\"np.exp(pds):\\n{np.exp(pds)}\")"
   ]
  },
  {
   "cell_type": "markdown",
   "metadata": {
    "id": "F6kk277_Ldif",
    "pycharm": {
     "name": "#%% md\n"
    }
   },
   "source": []
  },
  {
   "cell_type": "code",
   "execution_count": null,
   "metadata": {
    "id": "UOoR5nDlLdif",
    "pycharm": {
     "name": "#%%\n"
    }
   },
   "outputs": [],
   "source": [
    "sdata = {'Ohio': 35000, 'Texas': 71000, 'Oregon': 16000, 'Utah': 5000}\n",
    "pds = pd.Series(sdata)\n",
    "\n",
    "print(pds)"
   ]
  },
  {
   "cell_type": "markdown",
   "metadata": {
    "id": "bDI9SCtJLdif",
    "pycharm": {
     "name": "#%% md\n"
    }
   },
   "source": [
    "When passing also an index, this is used to filter matching entries of the dictionary."
   ]
  },
  {
   "cell_type": "code",
   "execution_count": null,
   "metadata": {
    "id": "gt54dUQGLdig",
    "pycharm": {
     "name": "#%%\n"
    }
   },
   "outputs": [],
   "source": [
    "states = ['California', 'Ohio', 'Oregon', 'Texas']\n",
    "pds = pd.Series(sdata, index=states) # California is not in sdata\n",
    "\n",
    "print(pds) # Welcome missing values"
   ]
  },
  {
   "cell_type": "markdown",
   "metadata": {
    "id": "HY9XJU0LLdig",
    "pycharm": {
     "name": "#%% md\n"
    }
   },
   "source": [
    "Note that `'Utah'` was not included, and that a special value `NaN` is used for the index `California`.\n",
    "\n",
    "Missing data is common, (e.g., movies withouth ratings), and usually `NaN` is used to represent them. \n",
    "\n",
    "It is possible to use `isnull` to find null values, and to replace them."
   ]
  },
  {
   "cell_type": "code",
   "execution_count": null,
   "metadata": {
    "id": "mg6rE_4BLdig",
    "pycharm": {
     "name": "#%%\n"
    }
   },
   "outputs": [],
   "source": [
    "obj = pd.Series({'Ohio': 35000, 'Texas': 71000, \n",
    "                 'Oregon': 16000, 'Utah': 5000},\n",
    "               index=['Ohio', 'Texas', 'California'])\n",
    "\n",
    "print(pd.isnull(obj))\n",
    "print()\n",
    "\n",
    "obj[pd.isnull(obj)] = 0.0\n",
    "\n",
    "print(obj)"
   ]
  },
  {
   "cell_type": "markdown",
   "metadata": {
    "id": "6YvCd_iLLdig",
    "pycharm": {
     "name": "#%% md\n"
    }
   },
   "source": [
    "Alternatively one can use the `fillna` method."
   ]
  },
  {
   "cell_type": "code",
   "execution_count": null,
   "metadata": {
    "id": "cLP8naWwLdig",
    "pycharm": {
     "name": "#%%\n"
    }
   },
   "outputs": [],
   "source": [
    "obj = pd.Series({'Ohio': 35000, 'Texas': 71000, \n",
    "                 'Oregon': 16000, 'Utah': 5000},\n",
    "               index=['Ohio', 'Texas', 'California'])\n",
    "\n",
    "obj2 = obj.fillna(0.0) # returns a new data frame\n",
    "print(obj)\n",
    "print(obj2)"
   ]
  },
  {
   "cell_type": "code",
   "execution_count": null,
   "metadata": {
    "scrolled": true,
    "id": "xJDkOXswLdig",
    "pycharm": {
     "name": "#%%\n"
    }
   },
   "outputs": [],
   "source": [
    "obj = pd.Series({'Ohio': 35000, 'Texas': 71000, \n",
    "                 'Oregon': 16000, 'Utah': 5000},\n",
    "               index=['Ohio', 'Texas', 'California'])\n",
    "\n",
    "obj.fillna(0.0, inplace=True) # inplace modification\n",
    "print(obj)"
   ]
  },
  {
   "cell_type": "markdown",
   "metadata": {
    "id": "5ctV-QQeLdig",
    "pycharm": {
     "name": "#%% md\n"
    }
   },
   "source": [
    "### Allignment by index\n",
    "\n",
    "A useful Series feature for many applications is that it automatically aligns by index\n",
    "label in arithmetic operations. "
   ]
  },
  {
   "cell_type": "code",
   "execution_count": null,
   "metadata": {
    "id": "nvFMA70QLdig",
    "pycharm": {
     "name": "#%%\n"
    }
   },
   "outputs": [],
   "source": [
    "pds1 = pd.Series({'Ohio': 35000, 'Texas': 71000, 'Oregon': 16000, 'Utah': 5000})  # California is missing\n",
    "  \n",
    "pds2 = pd.Series({'California': 40000, 'Texas': 555, 'Oregon': 111, 'Utah': 222}) # Ohio is missing\n",
    "\n",
    "pds1 + pds2"
   ]
  },
  {
   "cell_type": "code",
   "execution_count": null,
   "metadata": {
    "id": "P-y1s0rULdih",
    "pycharm": {
     "name": "#%%\n"
    }
   },
   "outputs": [],
   "source": [
    "pds1 = pd.Series({'Ohio': 35000, 'Texas': 71000, 'Oregon': 16000, 'Utah': 5000})  # California is missing\n",
    "  \n",
    "pds2 = pd.Series({'California': 40000, 'Texas': 555, 'Oregon': 111, 'Utah': 222}) # Ohio is missing\n",
    "\n",
    "pds1.add(pds2, fill_value=0)"
   ]
  },
  {
   "cell_type": "markdown",
   "metadata": {
    "id": "hoaq8cjeLdih",
    "pycharm": {
     "name": "#%% md\n"
    }
   },
   "source": [
    "## Question: List the player names, and count the number of matches they had\n"
   ]
  },
  {
   "cell_type": "code",
   "execution_count": null,
   "metadata": {
    "scrolled": false,
    "id": "iB-s_KY7Ldih",
    "pycharm": {
     "name": "#%%\n"
    }
   },
   "outputs": [],
   "source": [
    "import pandas as pd\n",
    "\n",
    "df = pd.read_excel('http://tennis-data.co.uk/2022/2022.xlsx')\n",
    "\n",
    "players = df['Winner'].value_counts() + df['Loser'].value_counts()\n",
    "players.sort_values()"
   ]
  },
  {
   "cell_type": "code",
   "execution_count": null,
   "metadata": {
    "scrolled": false,
    "id": "ugJunbIcLdih",
    "pycharm": {
     "name": "#%%\n"
    }
   },
   "outputs": [],
   "source": [
    "players = df['Winner'].value_counts().add(df['Loser'].value_counts(), fill_value=0)\n",
    "\n",
    "# Note: you can sort!\n",
    "players.sort_values(ascending=False)"
   ]
  },
  {
   "cell_type": "markdown",
   "metadata": {
    "id": "Nv3r6YHSLdih",
    "pycharm": {
     "name": "#%% md\n"
    }
   },
   "source": [
    "## Row Selection, Addition, and Deletion\n",
    "\n",
    "Very similar to column operation , with a different way of specifying rows.\n",
    "\n",
    "More details at https://pandas.pydata.org/pandas-docs/stable/indexing.html."
   ]
  },
  {
   "cell_type": "markdown",
   "metadata": {
    "id": "O8ytS5y4Ldih",
    "pycharm": {
     "name": "#%% md\n"
    }
   },
   "source": [
    "#### Example (Selection)\n",
    "We can access rows by using the index value in the special `loc` attribute.\n",
    "\n",
    "Note that the result is a dataframe."
   ]
  },
  {
   "cell_type": "code",
   "execution_count": null,
   "metadata": {
    "id": "FUCyuXpyLdih",
    "pycharm": {
     "name": "#%%\n"
    }
   },
   "outputs": [],
   "source": [
    "df.set_index(\"Location\", inplace=True) # Alternative to df = df.set_index(\"Location\")\n",
    "\n",
    "df.loc['Brisbane'] # get all the mathing rows"
   ]
  },
  {
   "cell_type": "markdown",
   "metadata": {
    "id": "uWu-9oIJLdih",
    "pycharm": {
     "name": "#%% md\n"
    }
   },
   "source": [
    "#### Example (Selection)\n",
    "We can access rows by using a list of index values."
   ]
  },
  {
   "cell_type": "code",
   "execution_count": null,
   "metadata": {
    "id": "2usLcgC_Ldih",
    "pycharm": {
     "name": "#%%\n"
    }
   },
   "outputs": [],
   "source": [
    "df.loc[ ['Paris','London'] ] "
   ]
  },
  {
   "cell_type": "markdown",
   "metadata": {
    "id": "tvpvPys7Ldih",
    "pycharm": {
     "name": "#%% md\n"
    }
   },
   "source": [
    "#### Example (Selection)\n",
    "Rows can be selected by using integer location with the special `iloc` attribute."
   ]
  },
  {
   "cell_type": "code",
   "execution_count": null,
   "metadata": {
    "id": "nuXkfDNSLdih",
    "pycharm": {
     "name": "#%%\n"
    }
   },
   "outputs": [],
   "source": [
    "df.iloc[2]"
   ]
  },
  {
   "cell_type": "markdown",
   "metadata": {
    "id": "clazAfIpLdii",
    "pycharm": {
     "name": "#%% md\n"
    }
   },
   "source": [
    "#### Example (Selection)\n",
    "Slicing over the rows with `iloc`."
   ]
  },
  {
   "cell_type": "code",
   "execution_count": null,
   "metadata": {
    "id": "bTDw77woLdii",
    "pycharm": {
     "name": "#%%\n"
    }
   },
   "outputs": [],
   "source": [
    "df.iloc[1:10]"
   ]
  },
  {
   "cell_type": "markdown",
   "metadata": {
    "id": "xVORDg7tLdii",
    "pycharm": {
     "name": "#%% md\n"
    }
   },
   "source": [
    "#### Example (Addition)\n",
    "We can add a new row by using `loc` attribute.\n",
    "\n",
    "Pandas also `append` has function (see https://pandas.pydata.org/pandas-docs/stable/generated/pandas.DataFrame.append.html)."
   ]
  },
  {
   "cell_type": "code",
   "execution_count": null,
   "metadata": {
    "id": "Y4ZATcLeLdii",
    "pycharm": {
     "name": "#%%\n"
    }
   },
   "outputs": [],
   "source": [
    "# Make a smaller copy\n",
    "small_df = pd.DataFrame( df[ ['Surface', 'Winner', 'Loser'] ] ) \n",
    "small_df = small_df.loc[['London', 'Paris']]\n",
    "\n",
    "small_df.loc['Mestre'] = ['Clay', 'Claudio L.', 'Nadal R.']\n",
    "small_df.loc['Mestre'] = ['Clay', 'Claudio L.', 'Federer R.'] # This is a replace\n",
    "\n",
    "small_df"
   ]
  },
  {
   "cell_type": "markdown",
   "metadata": {
    "id": "SWM9-y41Ldii",
    "pycharm": {
     "name": "#%% md\n"
    }
   },
   "source": [
    "#### Example (Deletion)\n",
    "We can remove a row (or more) with `drop()` function."
   ]
  },
  {
   "cell_type": "code",
   "execution_count": null,
   "metadata": {
    "scrolled": true,
    "id": "DrUaa_aKLdii",
    "pycharm": {
     "name": "#%%\n"
    }
   },
   "outputs": [],
   "source": [
    "small_df.drop(\"Mestre\", inplace=True) # axis=0 is the default\n",
    "small_df"
   ]
  },
  {
   "cell_type": "code",
   "execution_count": null,
   "metadata": {
    "id": "0aK9qLn5Ldii",
    "pycharm": {
     "name": "#%%\n"
    }
   },
   "outputs": [],
   "source": [
    "# Make a smaller copy\n",
    "small_df = pd.DataFrame( df[ ['Surface', 'Winner', 'Loser'] ] ) \n",
    "small_df = small_df.loc[['London', 'Paris']]\n",
    "\n",
    "small_df.loc['Mestre'] = ['Clay', 'Claudio L.', 'Nadal R.']\n",
    "small_df.loc['Mestre'] = ['Clay', 'Claudio L.', 'Federer R.'] # This is a replace\n",
    "\n",
    "# Remove all matching rows\n",
    "small_df.drop([\"London\", \"Paris\"], inplace=True)\n",
    "small_df"
   ]
  },
  {
   "cell_type": "markdown",
   "metadata": {
    "id": "7m3Q3ZswLdii",
    "pycharm": {
     "name": "#%% md\n"
    }
   },
   "source": [
    "### Creating a DataFrame\n",
    "\n",
    "There are many ways to construct a DataFrame, though one of the most common is from a dictionary of equal-length lists (or NumPy arrays)."
   ]
  },
  {
   "cell_type": "code",
   "execution_count": null,
   "metadata": {
    "id": "F1WtnGHWLdii",
    "pycharm": {
     "name": "#%%\n"
    }
   },
   "outputs": [],
   "source": [
    "data = {'state': ['Ohio', 'Ohio', 'Ohio', 'Nevada', 'Nevada', 'Nevada'],\n",
    "        'year': [2000, 2001, 2002, 2001, 2002, 2003],\n",
    "        'population': [1.5, 1.7, 3.6, 2.4, 2.9, 3.2]}\n",
    "\n",
    "df = pd.DataFrame(data) \n",
    "\n",
    "df.index.name = \"Progressive\"   # Set index name\n",
    "df.columns.name = 'Attributes'  # Set columns name\n",
    "\n",
    "df # Default index is 0...N-1 "
   ]
  },
  {
   "cell_type": "code",
   "execution_count": null,
   "metadata": {
    "id": "LSRiDv67Ldij",
    "pycharm": {
     "name": "#%%\n"
    }
   },
   "outputs": [],
   "source": [
    "data = {'state': ['Ohio', 'Ohio', 'Ohio', 'Nevada', 'Nevada', 'Nevada'],\n",
    "        'year': [2000, 2001, 2002, 2001, 2002, 2003],\n",
    "        'population': [1.5, 1.7, 3.6, 2.4, 2.9, 3.2]}\n",
    "\n",
    "df = pd.DataFrame(data,\n",
    "                 index = ['xxx1','xxx2','xxx3','xxx4','xxx5','xxx6']) \n",
    "\n",
    "df.index.name   = \"Custom ID\"   # Set index name\n",
    "df.columns.name = 'Attributes'  # Set columns name\n",
    "\n",
    "df"
   ]
  },
  {
   "cell_type": "markdown",
   "metadata": {
    "id": "xYEWBveyLdik",
    "pycharm": {
     "name": "#%% md\n"
    }
   },
   "source": [
    "## From pandas to numpy\n",
    "\n",
    "If you prefer working with numpy"
   ]
  },
  {
   "cell_type": "code",
   "execution_count": null,
   "metadata": {
    "id": "BV8t_Nz2Ldik",
    "pycharm": {
     "name": "#%%\n"
    }
   },
   "outputs": [],
   "source": [
    "m = df.values\n",
    "print(type(m))\n",
    "\n",
    "print(m)"
   ]
  },
  {
   "cell_type": "markdown",
   "metadata": {
    "id": "XXV-NkZdLdik",
    "pycharm": {
     "name": "#%% md\n"
    }
   },
   "source": [
    "# Question: Find Most unexpected result by Nadal"
   ]
  },
  {
   "cell_type": "code",
   "execution_count": null,
   "metadata": {
    "id": "HJMB0P_eLdik",
    "pycharm": {
     "name": "#%%\n"
    }
   },
   "outputs": [],
   "source": [
    "import pandas as pd\n",
    "\n",
    "df = pd.read_excel('http://tennis-data.co.uk/2022/2022.xlsx')"
   ]
  },
  {
   "cell_type": "code",
   "execution_count": null,
   "metadata": {
    "id": "T5HHJS7uLdik",
    "pycharm": {
     "name": "#%%\n"
    }
   },
   "outputs": [],
   "source": [
    "nadal_winner = df[ df['Winner']=='Nadal R.' ]\n",
    "nadal_winner = nadal_winner[['Winner', 'B365W']]\n",
    "nadal_winner.columns = ['Player','bet'] # see also rename function\n",
    "nadal_winner.head()"
   ]
  },
  {
   "cell_type": "code",
   "execution_count": null,
   "metadata": {
    "id": "E2lmWHyGLdik",
    "pycharm": {
     "name": "#%%\n"
    }
   },
   "outputs": [],
   "source": [
    "nadal_loser = df[ df['Loser']=='Nadal R.' ]\n",
    "nadal_loser = nadal_loser[['Loser', 'B365W']]\n",
    "nadal_loser.columns = ['Player','bet'] \n",
    "nadal_loser.head()"
   ]
  },
  {
   "cell_type": "code",
   "execution_count": null,
   "metadata": {
    "id": "HeiQ0GU6Ldik",
    "pycharm": {
     "name": "#%%\n"
    }
   },
   "outputs": [],
   "source": [
    "nadal_matches = pd.concat([nadal_winner, nadal_loser])\n",
    "nadal_matches"
   ]
  },
  {
   "cell_type": "code",
   "execution_count": null,
   "metadata": {
    "id": "k3hFJofoLdik",
    "pycharm": {
     "name": "#%%\n"
    }
   },
   "outputs": [],
   "source": [
    "nadal_matches.sort_values(by='bet',ascending=False, inplace=True)\n",
    "nadal_matches.head()"
   ]
  },
  {
   "cell_type": "code",
   "execution_count": null,
   "metadata": {
    "id": "aHUKinawLdil",
    "pycharm": {
     "name": "#%%\n"
    }
   },
   "outputs": [],
   "source": [
    "match_id = nadal_matches.index[0]\n",
    "print(df.loc[match_id])"
   ]
  },
  {
   "cell_type": "markdown",
   "metadata": {
    "id": "4L_3QNh0Ldil",
    "pycharm": {
     "name": "#%% md\n"
    }
   },
   "source": [
    "# Question: how many times the player with the best ranking won the match?\n"
   ]
  },
  {
   "cell_type": "code",
   "execution_count": null,
   "metadata": {
    "id": "QvzSWssjLdil",
    "pycharm": {
     "name": "#%%\n"
    }
   },
   "outputs": [],
   "source": [
    "import pandas as pd\n",
    "\n",
    "df = pd.read_excel('http://tennis-data.co.uk/2022/2022.xlsx')"
   ]
  },
  {
   "cell_type": "code",
   "execution_count": null,
   "metadata": {
    "id": "tG_q8RegLdil",
    "pycharm": {
     "name": "#%%\n"
    }
   },
   "outputs": [],
   "source": [
    "df.columns"
   ]
  },
  {
   "cell_type": "code",
   "execution_count": null,
   "metadata": {
    "id": "AKepmYmQLdil",
    "pycharm": {
     "name": "#%%\n"
    }
   },
   "outputs": [],
   "source": [
    "w_gt_r = df['WRank'] > df['LRank']\n",
    "\n",
    "w_gt_r.head()"
   ]
  },
  {
   "cell_type": "code",
   "execution_count": null,
   "metadata": {
    "id": "6UiUWHnmLdil",
    "pycharm": {
     "name": "#%%\n"
    }
   },
   "outputs": [],
   "source": [
    "w_gt_r = w_gt_r.astype(int)\n",
    "\n",
    "w_gt_r.head()"
   ]
  },
  {
   "cell_type": "code",
   "execution_count": null,
   "metadata": {
    "id": "RnrRhXnoLdil",
    "pycharm": {
     "name": "#%%\n"
    }
   },
   "outputs": [],
   "source": [
    "total_wins = w_gt_r.sum()\n",
    "\n",
    "total_wins"
   ]
  },
  {
   "cell_type": "code",
   "execution_count": null,
   "metadata": {
    "id": "jkiSnRcYLdil",
    "pycharm": {
     "name": "#%%\n"
    }
   },
   "outputs": [],
   "source": [
    "total_matches, _ = df.shape\n",
    "\n",
    "total_matches"
   ]
  },
  {
   "cell_type": "code",
   "execution_count": null,
   "metadata": {
    "id": "49l_WbB8Ldil",
    "pycharm": {
     "name": "#%%\n"
    }
   },
   "outputs": [],
   "source": [
    "print (f\"The success rate of the best ranked player is {round(100.0 * total_wins / total_matches, 2)}%\" )"
   ]
  },
  {
   "cell_type": "markdown",
   "metadata": {
    "id": "_9MgBjVoLdim",
    "pycharm": {
     "name": "#%% md\n"
    }
   },
   "source": [
    "# Question: how much would you gain or lose by always betting 10€ on the best ranked player?"
   ]
  },
  {
   "cell_type": "code",
   "execution_count": null,
   "metadata": {
    "id": "3SJpmmUBLdim",
    "pycharm": {
     "name": "#%%\n"
    }
   },
   "outputs": [],
   "source": [
    "import pandas as pd\n",
    "\n",
    "df = pd.read_excel('http://tennis-data.co.uk/2022/2022.xlsx')"
   ]
  },
  {
   "cell_type": "code",
   "execution_count": null,
   "metadata": {
    "id": "rbHvpPO9Ldim",
    "pycharm": {
     "name": "#%%\n"
    }
   },
   "outputs": [],
   "source": [
    "w_gt_r = df['WRank'] > df['LRank']"
   ]
  },
  {
   "cell_type": "code",
   "execution_count": null,
   "metadata": {
    "id": "2Ed46VKALdim",
    "pycharm": {
     "name": "#%%\n"
    }
   },
   "outputs": [],
   "source": [
    "# decompose the following to understand each singles setps\n",
    "gains = ( (df['B365W'][w_gt_r]-1.0) * 5.0).sum()"
   ]
  },
  {
   "cell_type": "code",
   "execution_count": null,
   "metadata": {
    "id": "rzLiUpMKLdim",
    "pycharm": {
     "name": "#%%\n"
    }
   },
   "outputs": [],
   "source": [
    "losses = (~w_gt_r).sum() * 5.0"
   ]
  },
  {
   "cell_type": "code",
   "execution_count": null,
   "metadata": {
    "id": "R5IIF8r_Ldim",
    "pycharm": {
     "name": "#%%\n"
    }
   },
   "outputs": [],
   "source": [
    "total = gains - losses\n",
    "\n",
    "print (\"If always betting on the best ranked, the profit would be\", total)"
   ]
  },
  {
   "cell_type": "markdown",
   "metadata": {
    "id": "JixDfPa6Ldim",
    "pycharm": {
     "name": "#%% md\n"
    }
   },
   "source": [
    "## Additional useful manipulation\n",
    "\n",
    "Suppose, for some reason, you want to invert name/surname order.\n",
    "\n",
    "That is, suppose you want to apply the same &custom* function to every element of a dataframe/series."
   ]
  },
  {
   "cell_type": "code",
   "execution_count": null,
   "metadata": {
    "id": "Aoio7aXGLdim",
    "pycharm": {
     "name": "#%%\n"
    }
   },
   "outputs": [],
   "source": [
    "def my_fun(x):\n",
    "    tokens = x.split()\n",
    "    tokens = tokens[::-1]\n",
    "    new_x  = ' '.join(tokens)\n",
    "    return new_x\n",
    "\n",
    "# note the re-assiggnment\n",
    "df['Winner'] = df['Winner'].map(my_fun)\n",
    "\n",
    "df['Winner']"
   ]
  },
  {
   "cell_type": "markdown",
   "metadata": {
    "id": "jwqbxhz0Ldim",
    "pycharm": {
     "name": "#%% md\n"
    }
   },
   "source": [
    "## Question: What is the surface with longest matches on average (more games)?"
   ]
  },
  {
   "cell_type": "code",
   "execution_count": null,
   "metadata": {
    "id": "lR7xGU-zLdin",
    "pycharm": {
     "name": "#%%\n"
    }
   },
   "outputs": [],
   "source": [
    "df.columns"
   ]
  },
  {
   "cell_type": "code",
   "execution_count": 7,
   "metadata": {
    "id": "zghsi1EwLdin",
    "pycharm": {
     "name": "#%%\n"
    }
   },
   "outputs": [
    {
     "data": {
      "text/plain": "    W1   L1   W2   L2   W3   L3  W4  L4  W5  L5\n0  6.0  1.0  6.0  2.0  NaN  NaN NaN NaN NaN NaN\n1  6.0  2.0  3.0  6.0  7.0  6.0 NaN NaN NaN NaN\n2  7.0  5.0  7.0  6.0  NaN  NaN NaN NaN NaN NaN\n3  6.0  4.0  2.0  6.0  6.0  4.0 NaN NaN NaN NaN\n4  7.0  6.0  6.0  4.0  NaN  NaN NaN NaN NaN NaN",
      "text/html": "<div>\n<style scoped>\n    .dataframe tbody tr th:only-of-type {\n        vertical-align: middle;\n    }\n\n    .dataframe tbody tr th {\n        vertical-align: top;\n    }\n\n    .dataframe thead th {\n        text-align: right;\n    }\n</style>\n<table border=\"1\" class=\"dataframe\">\n  <thead>\n    <tr style=\"text-align: right;\">\n      <th></th>\n      <th>W1</th>\n      <th>L1</th>\n      <th>W2</th>\n      <th>L2</th>\n      <th>W3</th>\n      <th>L3</th>\n      <th>W4</th>\n      <th>L4</th>\n      <th>W5</th>\n      <th>L5</th>\n    </tr>\n  </thead>\n  <tbody>\n    <tr>\n      <th>0</th>\n      <td>6.0</td>\n      <td>1.0</td>\n      <td>6.0</td>\n      <td>2.0</td>\n      <td>NaN</td>\n      <td>NaN</td>\n      <td>NaN</td>\n      <td>NaN</td>\n      <td>NaN</td>\n      <td>NaN</td>\n    </tr>\n    <tr>\n      <th>1</th>\n      <td>6.0</td>\n      <td>2.0</td>\n      <td>3.0</td>\n      <td>6.0</td>\n      <td>7.0</td>\n      <td>6.0</td>\n      <td>NaN</td>\n      <td>NaN</td>\n      <td>NaN</td>\n      <td>NaN</td>\n    </tr>\n    <tr>\n      <th>2</th>\n      <td>7.0</td>\n      <td>5.0</td>\n      <td>7.0</td>\n      <td>6.0</td>\n      <td>NaN</td>\n      <td>NaN</td>\n      <td>NaN</td>\n      <td>NaN</td>\n      <td>NaN</td>\n      <td>NaN</td>\n    </tr>\n    <tr>\n      <th>3</th>\n      <td>6.0</td>\n      <td>4.0</td>\n      <td>2.0</td>\n      <td>6.0</td>\n      <td>6.0</td>\n      <td>4.0</td>\n      <td>NaN</td>\n      <td>NaN</td>\n      <td>NaN</td>\n      <td>NaN</td>\n    </tr>\n    <tr>\n      <th>4</th>\n      <td>7.0</td>\n      <td>6.0</td>\n      <td>6.0</td>\n      <td>4.0</td>\n      <td>NaN</td>\n      <td>NaN</td>\n      <td>NaN</td>\n      <td>NaN</td>\n      <td>NaN</td>\n      <td>NaN</td>\n    </tr>\n  </tbody>\n</table>\n</div>"
     },
     "execution_count": 7,
     "metadata": {},
     "output_type": "execute_result"
    }
   ],
   "source": [
    "sub_df = df[ ['W1', 'L1', 'W2', 'L2', 'W3', 'L3', 'W4', 'L4', 'W5', 'L5'] ]\n",
    "sub_df.head()"
   ]
  },
  {
   "cell_type": "code",
   "execution_count": 8,
   "metadata": {
    "id": "IZ9IWZCCLdin",
    "pycharm": {
     "name": "#%%\n"
    }
   },
   "outputs": [
    {
     "data": {
      "text/plain": "    W1   L1   W2   L2   W3   L3   W4   L4   W5   L5\n0  6.0  1.0  6.0  2.0  0.0  0.0  0.0  0.0  0.0  0.0\n1  6.0  2.0  3.0  6.0  7.0  6.0  0.0  0.0  0.0  0.0\n2  7.0  5.0  7.0  6.0  0.0  0.0  0.0  0.0  0.0  0.0\n3  6.0  4.0  2.0  6.0  6.0  4.0  0.0  0.0  0.0  0.0\n4  7.0  6.0  6.0  4.0  0.0  0.0  0.0  0.0  0.0  0.0",
      "text/html": "<div>\n<style scoped>\n    .dataframe tbody tr th:only-of-type {\n        vertical-align: middle;\n    }\n\n    .dataframe tbody tr th {\n        vertical-align: top;\n    }\n\n    .dataframe thead th {\n        text-align: right;\n    }\n</style>\n<table border=\"1\" class=\"dataframe\">\n  <thead>\n    <tr style=\"text-align: right;\">\n      <th></th>\n      <th>W1</th>\n      <th>L1</th>\n      <th>W2</th>\n      <th>L2</th>\n      <th>W3</th>\n      <th>L3</th>\n      <th>W4</th>\n      <th>L4</th>\n      <th>W5</th>\n      <th>L5</th>\n    </tr>\n  </thead>\n  <tbody>\n    <tr>\n      <th>0</th>\n      <td>6.0</td>\n      <td>1.0</td>\n      <td>6.0</td>\n      <td>2.0</td>\n      <td>0.0</td>\n      <td>0.0</td>\n      <td>0.0</td>\n      <td>0.0</td>\n      <td>0.0</td>\n      <td>0.0</td>\n    </tr>\n    <tr>\n      <th>1</th>\n      <td>6.0</td>\n      <td>2.0</td>\n      <td>3.0</td>\n      <td>6.0</td>\n      <td>7.0</td>\n      <td>6.0</td>\n      <td>0.0</td>\n      <td>0.0</td>\n      <td>0.0</td>\n      <td>0.0</td>\n    </tr>\n    <tr>\n      <th>2</th>\n      <td>7.0</td>\n      <td>5.0</td>\n      <td>7.0</td>\n      <td>6.0</td>\n      <td>0.0</td>\n      <td>0.0</td>\n      <td>0.0</td>\n      <td>0.0</td>\n      <td>0.0</td>\n      <td>0.0</td>\n    </tr>\n    <tr>\n      <th>3</th>\n      <td>6.0</td>\n      <td>4.0</td>\n      <td>2.0</td>\n      <td>6.0</td>\n      <td>6.0</td>\n      <td>4.0</td>\n      <td>0.0</td>\n      <td>0.0</td>\n      <td>0.0</td>\n      <td>0.0</td>\n    </tr>\n    <tr>\n      <th>4</th>\n      <td>7.0</td>\n      <td>6.0</td>\n      <td>6.0</td>\n      <td>4.0</td>\n      <td>0.0</td>\n      <td>0.0</td>\n      <td>0.0</td>\n      <td>0.0</td>\n      <td>0.0</td>\n      <td>0.0</td>\n    </tr>\n  </tbody>\n</table>\n</div>"
     },
     "execution_count": 8,
     "metadata": {},
     "output_type": "execute_result"
    }
   ],
   "source": [
    "sub_df = sub_df.fillna(0.0)\n",
    "sub_df.head()"
   ]
  },
  {
   "cell_type": "code",
   "execution_count": 9,
   "metadata": {
    "id": "Lk9065QuLdin",
    "pycharm": {
     "name": "#%%\n"
    }
   },
   "outputs": [
    {
     "data": {
      "text/plain": "W1    15199.0\nL1    10833.0\nW2    15055.0\nL2    10418.0\nW3     7613.0\nL3     4718.0\nW4     1546.0\nL4     1058.0\nW5      619.0\nL5      354.0\ndtype: float64"
     },
     "execution_count": 9,
     "metadata": {},
     "output_type": "execute_result"
    }
   ],
   "source": [
    "sub_df.sum()"
   ]
  },
  {
   "cell_type": "code",
   "execution_count": 10,
   "metadata": {
    "id": "8awueB23Ldin",
    "pycharm": {
     "name": "#%%\n"
    }
   },
   "outputs": [
    {
     "data": {
      "text/plain": "0       15.0\n1       30.0\n2       25.0\n3       28.0\n4       23.0\n        ... \n2627    35.0\n2628    26.0\n2629    26.0\n2630    18.0\n2631    21.0\nLength: 2632, dtype: float64"
     },
     "execution_count": 10,
     "metadata": {},
     "output_type": "execute_result"
    }
   ],
   "source": [
    "sub_df.sum(axis=1)"
   ]
  },
  {
   "cell_type": "code",
   "execution_count": 11,
   "metadata": {
    "id": "bj3ljKEsLdin",
    "pycharm": {
     "name": "#%%\n"
    }
   },
   "outputs": [],
   "source": [
    "df['games'] = sub_df.sum(axis=1)"
   ]
  },
  {
   "cell_type": "code",
   "execution_count": 12,
   "metadata": {
    "id": "pQ1YLWrsLdin",
    "pycharm": {
     "name": "#%%\n"
    }
   },
   "outputs": [
    {
     "data": {
      "text/plain": "             games\nSurface           \nClay     24.920411\nGrass    28.580247\nHard     25.336821",
      "text/html": "<div>\n<style scoped>\n    .dataframe tbody tr th:only-of-type {\n        vertical-align: middle;\n    }\n\n    .dataframe tbody tr th {\n        vertical-align: top;\n    }\n\n    .dataframe thead th {\n        text-align: right;\n    }\n</style>\n<table border=\"1\" class=\"dataframe\">\n  <thead>\n    <tr style=\"text-align: right;\">\n      <th></th>\n      <th>games</th>\n    </tr>\n    <tr>\n      <th>Surface</th>\n      <th></th>\n    </tr>\n  </thead>\n  <tbody>\n    <tr>\n      <th>Clay</th>\n      <td>24.920411</td>\n    </tr>\n    <tr>\n      <th>Grass</th>\n      <td>28.580247</td>\n    </tr>\n    <tr>\n      <th>Hard</th>\n      <td>25.336821</td>\n    </tr>\n  </tbody>\n</table>\n</div>"
     },
     "execution_count": 12,
     "metadata": {},
     "output_type": "execute_result"
    }
   ],
   "source": [
    "df[ ['Surface','games'] ].groupby('Surface').mean()"
   ]
  },
  {
   "cell_type": "markdown",
   "metadata": {
    "id": "8iDfCPS_Ldin",
    "pycharm": {
     "name": "#%% md\n"
    }
   },
   "source": [
    "## Pivot Tables\n",
    "\n",
    "Similar to groupby, also columsn are grouped.\n",
    "\n",
    " - See https://pandas.pydata.org/pandas-docs/stable/generated/pandas.DataFrame.pivot_table.html\n",
    " \n",
    "The function `pivot_table` has the following main parameters.\n",
    "\n",
    "| Param name | Description|\n",
    "|-|:-|\n",
    "| values  | The column to be aggregated |\n",
    "| index   | Column names used to create rows of the Pivot Table |\n",
    "| columns | Column names used to create cols of the Pivot Table  |\n",
    "| aggfunc | Aggregation function (e.g., `np.sum`)\n"
   ]
  },
  {
   "cell_type": "markdown",
   "metadata": {
    "id": "Jfs9YJcDLdin",
    "pycharm": {
     "name": "#%% md\n"
    }
   },
   "source": [
    "# Question: Find the most successful player by surface "
   ]
  },
  {
   "cell_type": "code",
   "execution_count": null,
   "metadata": {
    "id": "GZJo74GJLdin",
    "pycharm": {
     "name": "#%%\n",
     "is_executing": true
    }
   },
   "outputs": [],
   "source": [
    "import pandas as pd\n",
    "df = pd.read_excel('http://tennis-data.co.uk/2022/2022.xlsx')\n",
    "\n",
    "\n",
    "df.pivot_table(values=\"ATP\", # irrelevant\n",
    "               index=\"Winner\",\n",
    "               columns=\"Surface\",\n",
    "               aggfunc=len)"
   ]
  },
  {
   "cell_type": "code",
   "execution_count": null,
   "metadata": {
    "id": "55egSIPtLdio",
    "pycharm": {
     "name": "#%%\n",
     "is_executing": true
    }
   },
   "outputs": [],
   "source": [
    "df.pivot_table(values=\"ATP\", # irrelevant\n",
    "               index=\"Winner\",\n",
    "               columns=\"Surface\",\n",
    "               aggfunc=len,\n",
    "               fill_value=0.0)"
   ]
  },
  {
   "cell_type": "code",
   "execution_count": null,
   "metadata": {
    "id": "Kicv5iwqLdio",
    "pycharm": {
     "name": "#%%\n",
     "is_executing": true
    }
   },
   "outputs": [],
   "source": [
    "wins = df.pivot_table(values=\"ATP\", # irrelevant\n",
    "               index=\"Winner\",\n",
    "               columns=\"Surface\",\n",
    "               aggfunc=len,\n",
    "               fill_value=0.0)\n",
    "wins.head()"
   ]
  },
  {
   "cell_type": "code",
   "execution_count": null,
   "metadata": {
    "id": "213EmQRBLdio",
    "pycharm": {
     "name": "#%%\n",
     "is_executing": true
    }
   },
   "outputs": [],
   "source": [
    "wins.columns"
   ]
  },
  {
   "cell_type": "code",
   "execution_count": null,
   "metadata": {
    "id": "QU-fe5t7Ldio",
    "pycharm": {
     "name": "#%%\n",
     "is_executing": true
    }
   },
   "outputs": [],
   "source": [
    "for surface in wins.columns:\n",
    "    print(wins[surface].sort_values(ascending=False).head(10), '\\n')"
   ]
  },
  {
   "cell_type": "markdown",
   "metadata": {
    "id": "q8zM8esrLdiq",
    "pycharm": {
     "name": "#%% md\n"
    }
   },
   "source": [
    "## Other Useful stuff\n",
    "\n"
   ]
  },
  {
   "cell_type": "markdown",
   "metadata": {
    "id": "C1ckmMHOLdiq",
    "pycharm": {
     "name": "#%% md\n"
    }
   },
   "source": [
    "### DataFrame Joins\n",
    "\n",
    "#### Many-to-One join\n",
    "Consider the following two DataFrames."
   ]
  },
  {
   "cell_type": "code",
   "execution_count": null,
   "metadata": {
    "id": "w8fCA1lILdiq",
    "pycharm": {
     "name": "#%%\n"
    }
   },
   "outputs": [],
   "source": [
    "df1 = pd.DataFrame({'key': ['b', 'b', 'a', 'c', 'a', 'a', 'b'], \n",
    "                    'data1': range(7)})\n",
    "\n",
    "df2 = pd.DataFrame({'key': ['a', 'b', 'd'], \n",
    "                    'data2': range(3)})\n",
    "\n",
    "print(df1)\n",
    "print(df2)"
   ]
  },
  {
   "cell_type": "markdown",
   "metadata": {
    "id": "jaoZJyE6Ldiq",
    "pycharm": {
     "name": "#%% md\n"
    }
   },
   "source": [
    "The data in df1 has multiple rows labeled a and b, whereas df2 has only one row for each value in the key column. \n",
    "\n",
    "The operation \n",
    "\n",
    "```\n",
    "pd.merge(df1, df2, on='key')\n",
    "```\n",
    "\n",
    "will produce a merged DataFrame with key the column to join on. \n"
   ]
  },
  {
   "cell_type": "code",
   "execution_count": null,
   "metadata": {
    "id": "vGMgsEbnLdir",
    "pycharm": {
     "name": "#%%\n"
    }
   },
   "outputs": [],
   "source": [
    "pd.merge(df1, df2, on='key')"
   ]
  },
  {
   "cell_type": "markdown",
   "metadata": {
    "id": "Sx8PgntoLdir",
    "pycharm": {
     "name": "#%% md\n"
    }
   },
   "source": [
    "Notice that \n",
    "- data2 of df2 is replicated everywhere key 'a' and 'b' occur in df1\n",
    "- rows with key 'c' in df1 and 'd' in df2 are not present in df\n",
    "\n",
    "The latter behavior is called **inner** join: the keys in the result are the intersection, or the common set found in both tables.\n",
    "\n",
    "Other possible approaches are: \n",
    "- **left**: keys of left DataFrame are kept\n",
    "- **right**: keys of right DataFrame are kept\n",
    "- **outer**: keys of both DataFrames are kept\n",
    "\n",
    "and can be chosen by setting parameter *how*"
   ]
  },
  {
   "cell_type": "markdown",
   "metadata": {
    "id": "pBrP10WaLdir",
    "pycharm": {
     "name": "#%% md\n"
    }
   },
   "source": [
    "#### left"
   ]
  },
  {
   "cell_type": "code",
   "execution_count": null,
   "metadata": {
    "id": "vXVN1ugYLdir",
    "pycharm": {
     "name": "#%%\n"
    }
   },
   "outputs": [],
   "source": [
    "pd.merge(df1, df2, on='key', how='left')"
   ]
  },
  {
   "cell_type": "markdown",
   "metadata": {
    "id": "cjIuk5voLdir",
    "pycharm": {
     "name": "#%% md\n"
    }
   },
   "source": [
    "#### right"
   ]
  },
  {
   "cell_type": "code",
   "execution_count": null,
   "metadata": {
    "id": "HZGdk2DoLdir",
    "pycharm": {
     "name": "#%%\n"
    }
   },
   "outputs": [],
   "source": [
    "pd.merge(df1, df2, on='key', how='right')"
   ]
  },
  {
   "cell_type": "markdown",
   "metadata": {
    "id": "tPdLVr21Ldir",
    "pycharm": {
     "name": "#%% md\n"
    }
   },
   "source": [
    "#### outer"
   ]
  },
  {
   "cell_type": "code",
   "execution_count": null,
   "metadata": {
    "id": "GNKnbr2gLdir",
    "pycharm": {
     "name": "#%%\n"
    }
   },
   "outputs": [],
   "source": [
    "pd.merge(df1, df2, on='key', how='outer')"
   ]
  },
  {
   "cell_type": "markdown",
   "metadata": {
    "id": "WPEU4AyMLdir",
    "pycharm": {
     "name": "#%% md\n"
    }
   },
   "source": [
    "#### Many-to-Many join\n",
    "Many-to-many merges happens when the same key has more than one occurrence in both DataFrames.\n",
    "\n",
    "Many-to-many joins form the Cartesian product of the rows having the same key. \n",
    "\n",
    "See the following example:"
   ]
  },
  {
   "cell_type": "code",
   "execution_count": null,
   "metadata": {
    "id": "OEZtHi97Ldir",
    "pycharm": {
     "name": "#%%\n"
    }
   },
   "outputs": [],
   "source": [
    "df1 = pd.DataFrame({'key': ['b', 'b', 'a',  'a', 'b'], \n",
    "                    'data1': range(5)})\n",
    "                    \n",
    "df2 = pd.DataFrame({'key': ['a', 'b', 'a', 'b', 'd'],\n",
    "                    'data2': range(5)})\n",
    "                    \n",
    "pd.merge(df1, df2, on='key', how='left')"
   ]
  },
  {
   "cell_type": "markdown",
   "metadata": {
    "id": "7tE68x8dLdis",
    "pycharm": {
     "name": "#%% md\n"
    }
   },
   "source": [
    "Note that, since there were three 'b' rows in df1 and two in df2, there are six 'b' rows in the result.\n",
    "\n",
    "The merge can be performed also respect to more than one variable. To determine which key combinations will appear in the result depending on the choice of merge method, **think of the multiple keys as forming an array of tuples** to be used as a single join key."
   ]
  },
  {
   "cell_type": "markdown",
   "metadata": {
    "id": "1pzH3gujLdit",
    "pycharm": {
     "name": "#%% md\n"
    }
   },
   "source": [
    "# References\n",
    "\n",
    " - **Python for Data Analysis**. O'Reilly. Wes McKinney.\n",
    "   - Section 5.1 (Indexing, Selection, and Filtering)\n",
    "   - Section 5.2 (Arithmetic and Data Alignment Function Application and Mapping Sorting and Ranking)\n",
    "   - Section 5.3 (Unique Values, Value Counts, and Membership)\n",
    "   - Section 10.4 (Pivot Tables)\n",
    "   - Section 14.5\n",
    "   - https://github.com/wesm/pydata-book\n"
   ]
  },
  {
   "cell_type": "markdown",
   "metadata": {
    "id": "OzOXQEgGoUj0",
    "pycharm": {
     "name": "#%% md\n"
    }
   },
   "source": [
    "## 7. Numpy"
   ]
  },
  {
   "cell_type": "markdown",
   "metadata": {
    "id": "qazOl76JoUj0",
    "pycharm": {
     "name": "#%% md\n"
    }
   },
   "source": [
    "Numpy is the core library for scientific computing in Python. It provides a high-performance multidimensional array object, and tools for working with these arrays.\n",
    "To use Numpy, we first need to import the `numpy` package:"
   ]
  },
  {
   "cell_type": "code",
   "execution_count": null,
   "metadata": {
    "id": "UDOVpPFToUj0",
    "pycharm": {
     "name": "#%%\n"
    }
   },
   "outputs": [],
   "source": [
    "import numpy as np"
   ]
  },
  {
   "cell_type": "markdown",
   "metadata": {
    "id": "VV2GC-exoUj0",
    "pycharm": {
     "name": "#%% md\n"
    }
   },
   "source": [
    "### Arrays"
   ]
  },
  {
   "cell_type": "markdown",
   "metadata": {
    "id": "i7LXc-bOoUj0",
    "pycharm": {
     "name": "#%% md\n"
    }
   },
   "source": [
    "An array object represents a multidimensional, homogeneous array of items of the same data-type. Numpy array can be accessed by index into square brackets."
   ]
  },
  {
   "cell_type": "code",
   "execution_count": null,
   "metadata": {
    "id": "S4Yj0Rc-oUj1",
    "outputId": "7fd8ae56-b8a7-4ebb-dd13-97ce16cd9843",
    "pycharm": {
     "name": "#%%\n"
    }
   },
   "outputs": [
    {
     "name": "stdout",
     "output_type": "stream",
     "text": [
      "<class 'numpy.ndarray'> (3,) 1 2 3\n"
     ]
    }
   ],
   "source": [
    "# Creating a rank 1 array\n",
    "a = np.array([1, 2, 3])  \n",
    "print(type(a), a.shape, a[0], a[1], a[2])"
   ]
  },
  {
   "cell_type": "code",
   "execution_count": null,
   "metadata": {
    "id": "NQ0URGjmoUj1",
    "outputId": "d0104363-e111-41eb-ad86-d23d551c24ce",
    "pycharm": {
     "name": "#%%\n"
    }
   },
   "outputs": [
    {
     "name": "stdout",
     "output_type": "stream",
     "text": [
      "[5 2 3]\n"
     ]
    }
   ],
   "source": [
    "# Changing an element of the array\n",
    "a[0] = 5                 \n",
    "print(a) "
   ]
  },
  {
   "cell_type": "code",
   "execution_count": null,
   "metadata": {
    "id": "XfcaHzB3oUj1",
    "outputId": "1e9eb949-3e94-484a-8f4e-415ffa8a2502",
    "pycharm": {
     "name": "#%%\n"
    }
   },
   "outputs": [
    {
     "name": "stdout",
     "output_type": "stream",
     "text": [
      "[[1 2 3]\n",
      " [4 5 6]]\n"
     ]
    }
   ],
   "source": [
    "# Create a rank 2 array\n",
    "b = np.array([[1, 2, 3], [4, 5, 6]])\n",
    "print(b)"
   ]
  },
  {
   "cell_type": "code",
   "execution_count": null,
   "metadata": {
    "id": "tsuGrVVYoUj1",
    "outputId": "eeacf2df-a470-461a-8da3-5a2a8c460ce2",
    "pycharm": {
     "name": "#%%\n"
    }
   },
   "outputs": [
    {
     "name": "stdout",
     "output_type": "stream",
     "text": [
      "(2, 3)\n"
     ]
    }
   ],
   "source": [
    "print(b.shape)"
   ]
  },
  {
   "cell_type": "code",
   "execution_count": null,
   "metadata": {
    "id": "PHoANYbLoUj1",
    "outputId": "c937861e-d417-4de0-ea77-982f84bb53b8",
    "pycharm": {
     "name": "#%%\n"
    }
   },
   "outputs": [
    {
     "name": "stdout",
     "output_type": "stream",
     "text": [
      "1 2 4\n"
     ]
    }
   ],
   "source": [
    "print(b[0, 0], b[0, 1], b[1, 0])"
   ]
  },
  {
   "cell_type": "markdown",
   "metadata": {
    "id": "PgShOU0QoUj2",
    "pycharm": {
     "name": "#%% md\n"
    }
   },
   "source": [
    "Numpy have methods to create several defaults arrays"
   ]
  },
  {
   "cell_type": "code",
   "execution_count": null,
   "metadata": {
    "id": "00trF56KoUj2",
    "outputId": "3449da43-e9d5-47af-c806-ad0f7f57ce15",
    "pycharm": {
     "name": "#%%\n"
    }
   },
   "outputs": [
    {
     "name": "stdout",
     "output_type": "stream",
     "text": [
      "Zeros array\n",
      "[[0. 0.]\n",
      " [0. 0.]]\n"
     ]
    }
   ],
   "source": [
    "# Create an array of all zeros\n",
    "print(\"Zeros array\")\n",
    "a = np.zeros((2,2))  \n",
    "print(a)"
   ]
  },
  {
   "cell_type": "code",
   "execution_count": null,
   "metadata": {
    "id": "6wCB9ZZPoUj2",
    "outputId": "67b12a8f-0f11-4de9-e76c-04943092a7a9",
    "pycharm": {
     "name": "#%%\n"
    }
   },
   "outputs": [
    {
     "name": "stdout",
     "output_type": "stream",
     "text": [
      "Ones array\n",
      "[[1. 1.]]\n"
     ]
    }
   ],
   "source": [
    "print(\"Ones array\")\n",
    "b = np.ones((1,2))   # Create an array of all ones\n",
    "print(b)"
   ]
  },
  {
   "cell_type": "code",
   "execution_count": null,
   "metadata": {
    "id": "5QaC-Bp8oUj2",
    "outputId": "54301e60-1b51-44fc-9420-96f91993ddf6",
    "pycharm": {
     "name": "#%%\n"
    }
   },
   "outputs": [
    {
     "name": "stdout",
     "output_type": "stream",
     "text": [
      "Full array\n",
      "[[7 7]\n",
      " [7 7]]\n"
     ]
    }
   ],
   "source": [
    "print(\"Full array\")\n",
    "c = np.full((2,2), 7) # Create an array of constants (7)\n",
    "print(c)"
   ]
  },
  {
   "cell_type": "code",
   "execution_count": null,
   "metadata": {
    "id": "dqaVacNKoUj2",
    "outputId": "2e8a50cd-0767-451d-c4e9-dd565a275069",
    "pycharm": {
     "name": "#%%\n"
    }
   },
   "outputs": [
    {
     "name": "stdout",
     "output_type": "stream",
     "text": [
      "Identity matrix\n",
      "[[1. 0.]\n",
      " [0. 1.]]\n"
     ]
    }
   ],
   "source": [
    "print(\"Identity matrix\")\n",
    "d = np.eye(2)        # Create a 2x2 identity matrix\n",
    "print(d)"
   ]
  },
  {
   "cell_type": "code",
   "execution_count": null,
   "metadata": {
    "id": "m_0u_EP_oUj2",
    "outputId": "281b565b-e984-4d8c-dab2-1bf6bf96fd6c",
    "pycharm": {
     "name": "#%%\n"
    }
   },
   "outputs": [
    {
     "name": "stdout",
     "output_type": "stream",
     "text": [
      "Random matrix\n",
      "[[0.45822103 0.33317945]\n",
      " [0.74673014 0.67493774]]\n"
     ]
    }
   ],
   "source": [
    "print(\"Random matrix\")\n",
    "e = np.random.random((2,2)) # Create an array filled with random values\n",
    "print(e)"
   ]
  },
  {
   "cell_type": "markdown",
   "metadata": {
    "id": "f36ZIJfqoUj2",
    "pycharm": {
     "name": "#%% md\n"
    }
   },
   "source": [
    "All the items of a numpy array have the same type. When you create an array, numpy guess which datatype fix better to your data, but you can set it when creating the numpy array. "
   ]
  },
  {
   "cell_type": "code",
   "execution_count": null,
   "metadata": {
    "id": "iqwmmJVpoUj3",
    "outputId": "ed192598-8e95-423d-c1ae-d34168e2bebf",
    "pycharm": {
     "name": "#%%\n"
    }
   },
   "outputs": [
    {
     "name": "stdout",
     "output_type": "stream",
     "text": [
      "[1 2]\n",
      "[1. 2.]\n",
      "[1. 2.]\n",
      "[1 2]\n"
     ]
    }
   ],
   "source": [
    "a = np.array([1, 2])                   # Let numpy choose the datatype\n",
    "b = np.array([1.0, 2.0])               # Let numpy choose the datatype\n",
    "c = np.array([1, 2], dtype=np.float32) #Force a particular datatype\n",
    "d = np.array([1, 2], dtype=np.int64)   #Force a particular datatype\n",
    "print(a)\n",
    "print(b)\n",
    "print(c)\n",
    "print(d)"
   ]
  },
  {
   "cell_type": "markdown",
   "metadata": {
    "id": "PreV0E9boUj3",
    "pycharm": {
     "name": "#%% md\n"
    }
   },
   "source": [
    "Numpy offers several ways to index into arrays.\n",
    "Similar to lists numpy arrays can be **sliced** specifing a slice for each dimension of the array."
   ]
  },
  {
   "cell_type": "code",
   "execution_count": null,
   "metadata": {
    "id": "PYIU6tkeoUj3",
    "outputId": "e554843f-fd2d-4091-e5a4-30dfba34f892",
    "pycharm": {
     "name": "#%%\n"
    }
   },
   "outputs": [
    {
     "name": "stdout",
     "output_type": "stream",
     "text": [
      "[[2 3]\n",
      " [6 7]]\n"
     ]
    }
   ],
   "source": [
    "import numpy as np\n",
    "a = np.array([[1, 2, 3, 4],\n",
    "              [5, 6, 7, 8], \n",
    "              [9, 10, 11, 12]])\n",
    "\n",
    "b = a[:2, 1:3] # rows 0,1 and columns 1,2\n",
    "print(b)"
   ]
  },
  {
   "cell_type": "markdown",
   "metadata": {
    "id": "NnY6KsmooUj3",
    "pycharm": {
     "name": "#%% md\n"
    }
   },
   "source": [
    "A slice of an array share the same memory area of the original array. Modifing it will modify also the original array"
   ]
  },
  {
   "cell_type": "code",
   "execution_count": null,
   "metadata": {
    "id": "2KLKdAbsoUj3",
    "outputId": "bc9a1bb7-f4ea-45b5-9198-4a9622e493ed",
    "pycharm": {
     "name": "#%%\n"
    }
   },
   "outputs": [
    {
     "name": "stdout",
     "output_type": "stream",
     "text": [
      "100\n"
     ]
    }
   ],
   "source": [
    "b[0, 0] = 100\n",
    "print(a[0,1])"
   ]
  },
  {
   "cell_type": "markdown",
   "metadata": {
    "id": "UX-jhOiOoUj3",
    "pycharm": {
     "name": "#%% md\n"
    }
   },
   "source": [
    "Integer arrays can be used as indexes of other arrays"
   ]
  },
  {
   "cell_type": "code",
   "execution_count": null,
   "metadata": {
    "id": "QZZCa3rFoUj3",
    "outputId": "1cf8e999-f482-4193-93b2-8720c6608123",
    "pycharm": {
     "name": "#%%\n"
    }
   },
   "outputs": [
    {
     "name": "stdout",
     "output_type": "stream",
     "text": [
      "[1 7 9]\n"
     ]
    }
   ],
   "source": [
    "# Create an array of indices\n",
    "b = np.array([0, 2, 0])\n",
    "# Select one element from each row of a using the indices in b\n",
    "print(a[np.arange(3), b])  # a[[0,1,2], [0,2,0]] ->  Prints a[0,0] , a[1,2], a[2,0]"
   ]
  },
  {
   "cell_type": "markdown",
   "metadata": {
    "id": "x98_6-8ioUj3",
    "pycharm": {
     "name": "#%% md\n"
    }
   },
   "source": [
    "Boolean array indexing: Boolean array indexing lets you pick out arbitrary elements of an array. Frequently this type of indexing is used to select the elements of an array that satisfies some condition. Here is an example:"
   ]
  },
  {
   "cell_type": "code",
   "execution_count": null,
   "metadata": {
    "id": "RxM5SpTCoUj4",
    "outputId": "72a84636-aab4-4e4f-aa48-a902ea5607e2",
    "colab": {
     "base_uri": "https://localhost:8080/"
    },
    "executionInfo": {
     "status": "ok",
     "timestamp": 1666165016295,
     "user_tz": -120,
     "elapsed": 6,
     "user": {
      "displayName": "Diego Chinellato",
      "userId": "17373725090461795110"
     }
    },
    "pycharm": {
     "name": "#%%\n"
    }
   },
   "outputs": [
    {
     "output_type": "stream",
     "name": "stdout",
     "text": [
      "[[1 2]\n",
      " [3 4]\n",
      " [5 6]]\n",
      "[[False False]\n",
      " [ True  True]\n",
      " [ True  True]]\n"
     ]
    }
   ],
   "source": [
    "import numpy as np\n",
    "\n",
    "a = np.array([[1,2], [3, 4], [5, 6]])\n",
    "\n",
    "idx = (a > 2)  # Find the elements of a that are bigger than 2;\n",
    "                    # this returns a numpy array of Booleans of the same\n",
    "                    # shape as a, where each slot of bool_idx tells\n",
    "                    # whether that element of a is > 2.\n",
    "print(a)\n",
    "print(idx)"
   ]
  },
  {
   "cell_type": "code",
   "execution_count": null,
   "metadata": {
    "id": "iYQMM5oToUj4",
    "outputId": "e9414546-68c0-424f-aeac-48b2f68ee19a",
    "pycharm": {
     "name": "#%%\n"
    }
   },
   "outputs": [
    {
     "name": "stdout",
     "output_type": "stream",
     "text": [
      "[3 4 5 6]\n"
     ]
    }
   ],
   "source": [
    "print(a[idx])"
   ]
  },
  {
   "cell_type": "markdown",
   "metadata": {
    "id": "T_NnhgVioUj4",
    "pycharm": {
     "name": "#%% md\n"
    }
   },
   "source": [
    "### Array math"
   ]
  },
  {
   "cell_type": "markdown",
   "metadata": {
    "id": "2nWE_vi8oUj4",
    "pycharm": {
     "name": "#%% md\n"
    }
   },
   "source": [
    "Basic mathematical functions operate elementwise on arrays, and are available both as operator overloads and as functions in the numpy module:"
   ]
  },
  {
   "cell_type": "code",
   "execution_count": null,
   "metadata": {
    "id": "aIbXEtORoUj4",
    "outputId": "fd0a1643-cdd5-4247-87cb-cc3fbad64672",
    "pycharm": {
     "name": "#%%\n"
    }
   },
   "outputs": [
    {
     "name": "stdout",
     "output_type": "stream",
     "text": [
      "x=\n",
      " [[-1. -2.]\n",
      " [-3. -4.]]\n",
      "y=\n",
      " [[5. 6.]\n",
      " [7. 8.]]\n"
     ]
    }
   ],
   "source": [
    "import numpy as np\n",
    "\n",
    "x = np.array([[-1,-2],[-3,-4]], dtype=np.float64)\n",
    "y = np.array([[5,6],[7,8]], dtype=np.float64)\n",
    "\n",
    "print(\"x=\\n\", x)\n",
    "print(\"y=\\n\",y)"
   ]
  },
  {
   "cell_type": "code",
   "execution_count": null,
   "metadata": {
    "id": "_1WHikwjoUj4",
    "outputId": "902e7ec2-556b-4ede-c756-cd1502a30451",
    "pycharm": {
     "name": "#%%\n"
    }
   },
   "outputs": [
    {
     "name": "stdout",
     "output_type": "stream",
     "text": [
      "Element-wise sum\n",
      "[[4. 4.]\n",
      " [4. 4.]]\n"
     ]
    }
   ],
   "source": [
    "print(\"Element-wise sum\")\n",
    "print(x + y)"
   ]
  },
  {
   "cell_type": "code",
   "execution_count": null,
   "metadata": {
    "id": "z8dUP8YooUj5",
    "outputId": "cbc92f63-2d48-4a52-9785-ee07ea7668c9",
    "pycharm": {
     "name": "#%%\n"
    }
   },
   "outputs": [
    {
     "name": "stdout",
     "output_type": "stream",
     "text": [
      "Element-wise difference\n",
      "[[ -6.  -8.]\n",
      " [-10. -12.]]\n"
     ]
    }
   ],
   "source": [
    "print(\"Element-wise difference\")\n",
    "print(x - y)"
   ]
  },
  {
   "cell_type": "code",
   "execution_count": null,
   "metadata": {
    "id": "WU_64_m-oUj5",
    "outputId": "9b046e14-58f0-4d76-dbaf-6ae714563584",
    "pycharm": {
     "name": "#%%\n"
    }
   },
   "outputs": [
    {
     "name": "stdout",
     "output_type": "stream",
     "text": [
      "Element-wise product\n",
      "[[ -5. -12.]\n",
      " [-21. -32.]]\n"
     ]
    }
   ],
   "source": [
    "print(\"Element-wise product\")\n",
    "print(x * y)"
   ]
  },
  {
   "cell_type": "code",
   "execution_count": null,
   "metadata": {
    "id": "2k8bYqFzoUj5",
    "outputId": "afbc4a58-14e2-49f8-9223-64720525cd7d",
    "pycharm": {
     "name": "#%%\n"
    }
   },
   "outputs": [
    {
     "name": "stdout",
     "output_type": "stream",
     "text": [
      "Element-wise division\n",
      "[[-0.2        -0.33333333]\n",
      " [-0.42857143 -0.5       ]]\n"
     ]
    }
   ],
   "source": [
    "print(\"Element-wise division\")\n",
    "print(x / y)"
   ]
  },
  {
   "cell_type": "code",
   "execution_count": null,
   "metadata": {
    "id": "o-3pO928oUj5",
    "outputId": "aba4aa0c-01bc-4b27-9943-66646badcdad",
    "pycharm": {
     "name": "#%%\n"
    }
   },
   "outputs": [
    {
     "name": "stdout",
     "output_type": "stream",
     "text": [
      "Element-wise absoulte value\n",
      "[[1. 2.]\n",
      " [3. 4.]]\n"
     ]
    }
   ],
   "source": [
    "print(\"Element-wise absoulte value\")\n",
    "print(np.abs(x))"
   ]
  },
  {
   "cell_type": "markdown",
   "metadata": {
    "id": "dHtzsQaboUj5",
    "pycharm": {
     "name": "#%% md\n"
    }
   },
   "source": [
    "Moreover, several mathematical operation between arrays are implemented in Numpy."
   ]
  },
  {
   "cell_type": "code",
   "execution_count": null,
   "metadata": {
    "id": "O8Z60SUQoUj5",
    "outputId": "b0a900b4-77b0-4714-ebcd-30a5d7e3f015",
    "pycharm": {
     "name": "#%%\n"
    }
   },
   "outputs": [
    {
     "name": "stdout",
     "output_type": "stream",
     "text": [
      "Elementwise square root\n",
      "[[2.23606798 2.44948974]\n",
      " [2.64575131 2.82842712]]\n"
     ]
    }
   ],
   "source": [
    "print(\"Elementwise square root\")\n",
    "print(np.sqrt(y))"
   ]
  },
  {
   "cell_type": "code",
   "execution_count": null,
   "metadata": {
    "id": "av38eWrLoUj5",
    "outputId": "94a7f3b9-256c-46df-fa96-24f41bcc4379",
    "pycharm": {
     "name": "#%%\n"
    }
   },
   "outputs": [
    {
     "name": "stdout",
     "output_type": "stream",
     "text": [
      "Dot product\n",
      "[[-19. -22.]\n",
      " [-43. -50.]]\n",
      "[[-19. -22.]\n",
      " [-43. -50.]]\n"
     ]
    }
   ],
   "source": [
    "print(\"Dot product\")\n",
    "print(x.dot(y))\n",
    "print(np.dot(x, y))"
   ]
  },
  {
   "cell_type": "markdown",
   "metadata": {
    "id": "GTvd6CWvoUj6",
    "pycharm": {
     "name": "#%% md\n"
    }
   },
   "source": [
    "Numpy provides several reduction functions."
   ]
  },
  {
   "cell_type": "code",
   "execution_count": null,
   "metadata": {
    "id": "JOabkKC7oUj6",
    "outputId": "11eac174-00a1-4f84-db0f-2dda3785a354",
    "pycharm": {
     "name": "#%%\n"
    }
   },
   "outputs": [
    {
     "name": "stdout",
     "output_type": "stream",
     "text": [
      "-10.0\n"
     ]
    }
   ],
   "source": [
    "# Compute sum of all elements; prints \"10\"\n",
    "print(np.sum(x))"
   ]
  },
  {
   "cell_type": "code",
   "execution_count": null,
   "metadata": {
    "id": "Z2ArqWD7oUj6",
    "outputId": "d7cdfe50-0d36-43f6-e509-f734ab9c3657",
    "pycharm": {
     "name": "#%%\n"
    }
   },
   "outputs": [
    {
     "name": "stdout",
     "output_type": "stream",
     "text": [
      "[-4. -6.]\n"
     ]
    }
   ],
   "source": [
    "# Compute sum of each column; prints \"[-4 -6]\"\n",
    "print(np.sum(x, axis=0))"
   ]
  },
  {
   "cell_type": "code",
   "execution_count": null,
   "metadata": {
    "id": "5liCVjkZoUj6",
    "outputId": "050f5b2d-8b09-4b97-cc41-143306d0c39a",
    "pycharm": {
     "name": "#%%\n"
    }
   },
   "outputs": [
    {
     "name": "stdout",
     "output_type": "stream",
     "text": [
      "[-3. -7.]\n"
     ]
    }
   ],
   "source": [
    " # Compute sum of each row; prints \"[-3 -7]\"\n",
    "print(np.sum(x, axis=1))"
   ]
  },
  {
   "cell_type": "code",
   "execution_count": null,
   "metadata": {
    "id": "6epKVK0BoUj6",
    "outputId": "38f81a52-8fa2-4170-96d1-393a33f414e3",
    "pycharm": {
     "name": "#%%\n"
    }
   },
   "outputs": [
    {
     "name": "stdout",
     "output_type": "stream",
     "text": [
      "-2.5\n"
     ]
    }
   ],
   "source": [
    "# Compute the mean of all elements\n",
    "print(np.mean(x))"
   ]
  },
  {
   "cell_type": "code",
   "execution_count": null,
   "metadata": {
    "id": "_bgiL7VZoUj6",
    "outputId": "8e252a13-9476-4028-b5b0-a7c5a0d4e982",
    "pycharm": {
     "name": "#%%\n"
    }
   },
   "outputs": [
    {
     "name": "stdout",
     "output_type": "stream",
     "text": [
      "[-2. -3.]\n"
     ]
    }
   ],
   "source": [
    "# Compute the mean of axis 0\n",
    "print(np.mean(x, axis= 0))"
   ]
  },
  {
   "cell_type": "code",
   "execution_count": null,
   "metadata": {
    "id": "zTaYC5iwoUj6",
    "outputId": "7010e5ef-4758-41a0-d50e-603a1d7db8b5",
    "pycharm": {
     "name": "#%%\n"
    }
   },
   "outputs": [
    {
     "name": "stdout",
     "output_type": "stream",
     "text": [
      "[-1.5 -3.5]\n"
     ]
    }
   ],
   "source": [
    "# Compute the mean of axis 1\n",
    "print(np.mean(x, axis=1))"
   ]
  },
  {
   "cell_type": "markdown",
   "metadata": {
    "id": "ZvzWzuhHoUj7",
    "pycharm": {
     "name": "#%% md\n"
    }
   },
   "source": [
    "Moreover, Numpy provides function to modify the shape of arrays."
   ]
  },
  {
   "cell_type": "code",
   "execution_count": null,
   "metadata": {
    "id": "ferHe1tfoUj7",
    "outputId": "2707d883-aa44-4b0e-91e4-1d006b156585",
    "pycharm": {
     "name": "#%%\n"
    }
   },
   "outputs": [
    {
     "name": "stdout",
     "output_type": "stream",
     "text": [
      "[[-1. -2.]\n",
      " [-3. -4.]]\n",
      "Transpose\n",
      "[[-1. -3.]\n",
      " [-2. -4.]]\n"
     ]
    }
   ],
   "source": [
    "print(x)\n",
    "print(\"Transpose\")\n",
    "print(x.T)"
   ]
  },
  {
   "cell_type": "code",
   "execution_count": null,
   "metadata": {
    "id": "kXxpfJ7toUj7",
    "outputId": "1de27e81-3ab0-45a8-d197-41161055b282",
    "pycharm": {
     "name": "#%%\n"
    }
   },
   "outputs": [
    {
     "name": "stdout",
     "output_type": "stream",
     "text": [
      "Reshape Shape source:  (2, 2) Shape target:  (1, 4)\n",
      "[[-1. -2. -3. -4.]]\n"
     ]
    }
   ],
   "source": [
    "print(\"Reshape Shape source: \", x.shape, \"Shape target: \", (1,4))\n",
    "print(x.reshape([1,4]))"
   ]
  },
  {
   "cell_type": "markdown",
   "metadata": {
    "id": "22OovumJoUj7",
    "pycharm": {
     "name": "#%% md\n"
    }
   },
   "source": [
    "You can find the full list functions provided by numpy in the [documentation](https://docs.scipy.org/doc/numpy-1.17.0/reference/)."
   ]
  },
  {
   "cell_type": "markdown",
   "metadata": {
    "id": "NLGWosz9oUj7",
    "pycharm": {
     "name": "#%% md\n"
    }
   },
   "source": [
    "### Broadcasting"
   ]
  },
  {
   "cell_type": "markdown",
   "metadata": {
    "id": "VFf5eJJIoUj7",
    "pycharm": {
     "name": "#%% md\n"
    }
   },
   "source": [
    "Broadcasting is the mechanism used by numpy to deal with arrays of different shapes during mathematical operations. This can be extremely useful in a variety of situation and expedites the computation time in matrix operations. Below an example of sum between arrays with different shapes implemented with for cycle and without broadcasting: "
   ]
  },
  {
   "cell_type": "code",
   "execution_count": null,
   "metadata": {
    "id": "Ux3GO3RYoUj7",
    "outputId": "c0f1deb3-10f9-489d-aa1d-4a9eb17d9fc7",
    "pycharm": {
     "name": "#%%\n"
    }
   },
   "outputs": [
    {
     "name": "stdout",
     "output_type": "stream",
     "text": [
      "x=\n",
      " [[ 1  2  3]\n",
      " [ 4  5  6]\n",
      " [ 7  8  9]\n",
      " [10 11 12]] Shape:  (4, 3)\n",
      "v=\n",
      " [0 0 1] Shape:  (3,)\n"
     ]
    }
   ],
   "source": [
    "x = np.array([[1,2,3], [4,5,6], [7,8,9], [10, 11, 12]])\n",
    "v = np.array([0, 0, 1])\n",
    "\n",
    "print(\"x=\\n\",x , \"Shape: \", x.shape)\n",
    "print(\"v=\\n\", v, \"Shape: \", v.shape)"
   ]
  },
  {
   "cell_type": "markdown",
   "metadata": {
    "id": "4vWIIOkAoUj7",
    "pycharm": {
     "name": "#%% md\n"
    }
   },
   "source": [
    "**x + v Cycling rows**"
   ]
  },
  {
   "cell_type": "code",
   "execution_count": null,
   "metadata": {
    "id": "oTbmRvhOoUj7",
    "outputId": "dfa584ca-6128-4e26-956a-c1701f0d4fce",
    "pycharm": {
     "name": "#%%\n"
    }
   },
   "outputs": [
    {
     "name": "stdout",
     "output_type": "stream",
     "text": [
      "[[ 1  2  4]\n",
      " [ 4  5  7]\n",
      " [ 7  8 10]\n",
      " [10 11 13]]\n"
     ]
    }
   ],
   "source": [
    "# We will add the vector v to each row of the matrix x,\n",
    "# storing the result in the matrix y\n",
    "y = np.empty_like(x)   # Create an empty matrix with the same shape as x\n",
    "\n",
    "# Add the vector v to each row of the matrix x with an explicit loop\n",
    "for i in range(4):\n",
    "    y[i, :] = x[i, :] + v\n",
    "\n",
    "print(y)"
   ]
  },
  {
   "cell_type": "markdown",
   "metadata": {
    "id": "NlhyWqepoUj8",
    "pycharm": {
     "name": "#%% md\n"
    }
   },
   "source": [
    "If the matrix _x_ is very large, computing loop cycles in Python is really slow. \n",
    "Another way to implement the same problem improving the perfomances could be stacking  multiple copies of v.\n",
    "\n",
    "**x+v Stacking**"
   ]
  },
  {
   "cell_type": "code",
   "execution_count": null,
   "metadata": {
    "id": "5GZFOXV6oUj8",
    "outputId": "d58706f9-df68-4153-c04c-61af13843cd8",
    "pycharm": {
     "name": "#%%\n"
    }
   },
   "outputs": [
    {
     "name": "stdout",
     "output_type": "stream",
     "text": [
      "x= \n",
      " [[ 1  2  3]\n",
      " [ 4  5  6]\n",
      " [ 7  8  9]\n",
      " [10 11 12]]\n",
      "vv = \n",
      " [[0 0 1]\n",
      " [0 0 1]\n",
      " [0 0 1]\n",
      " [0 0 1]]\n",
      "x + vv =\n",
      " [[ 1  2  4]\n",
      " [ 4  5  7]\n",
      " [ 7  8 10]\n",
      " [10 11 13]]\n"
     ]
    }
   ],
   "source": [
    "print(\"x= \\n\", x)\n",
    "vv = np.tile(v, (4, 1))  # Stack 4 copies of v on top of each other\n",
    "print(\"vv = \\n\", vv)\n",
    "y = x + vv\n",
    "print(\"x + vv =\\n\" , y)"
   ]
  },
  {
   "cell_type": "markdown",
   "metadata": {
    "id": "PXbUvZ31oUj8",
    "pycharm": {
     "name": "#%% md\n"
    }
   },
   "source": [
    "This version is computationally cheap but the code is not straightforward to write. Broadcasting allows to do it extremely easy automatically adressing shape compability problems.\n",
    "\n",
    "**x+v Numpy Broadcasting*"
   ]
  },
  {
   "cell_type": "code",
   "execution_count": null,
   "metadata": {
    "id": "jloLqavFoUj8",
    "outputId": "673f9fd6-dc2c-4544-9ed0-d883fe039cee",
    "pycharm": {
     "name": "#%%\n"
    }
   },
   "outputs": [
    {
     "name": "stdout",
     "output_type": "stream",
     "text": [
      "[[ 1  2  4]\n",
      " [ 4  5  7]\n",
      " [ 7  8 10]\n",
      " [10 11 13]]\n"
     ]
    }
   ],
   "source": [
    "# Add v to each row of x using broadcasting\n",
    "y = x + v  \n",
    "print(y)"
   ]
  },
  {
   "cell_type": "markdown",
   "metadata": {
    "id": "mBh2v7gnoUj8",
    "pycharm": {
     "name": "#%% md\n"
    }
   },
   "source": [
    "The line `y = x + v` works even though `x` has shape `(4, 3)` and `v` has shape `(3,)` due to broadcasting; this line works as if v actually had shape `(4, 3)`, where each row was a copy of `v`, and the sum was performed elementwise."
   ]
  },
  {
   "cell_type": "markdown",
   "metadata": {
    "id": "cgEDcj_JoUj8",
    "pycharm": {
     "name": "#%% md\n"
    }
   },
   "source": [
    "Example: multiply by a scalar:"
   ]
  },
  {
   "cell_type": "code",
   "execution_count": null,
   "metadata": {
    "id": "POrgj08NoUj8",
    "outputId": "b3926b5c-6a2c-428d-c6a9-b997c628d13d",
    "pycharm": {
     "name": "#%%\n"
    }
   },
   "outputs": [
    {
     "name": "stdout",
     "output_type": "stream",
     "text": [
      "[[ 2  4  6]\n",
      " [ 8 10 12]\n",
      " [14 16 18]\n",
      " [20 22 24]]\n"
     ]
    }
   ],
   "source": [
    "# Multiply a matrix by a constant:\n",
    "# x has shape (2, 3). Numpy treats scalars as arrays of shape () these can be broadcast together to shape (2, 3)\n",
    "print(x * 2)"
   ]
  },
  {
   "cell_type": "markdown",
   "metadata": {
    "id": "lCgMigkWoUj8",
    "pycharm": {
     "name": "#%% md\n"
    }
   },
   "source": [
    "**Broadcasting** two arrays together follows these **rules**:\n",
    "\n",
    "1. If the arrays do not have the same rank, prepend the shape of the lower rank array with 1s until both shapes have the same length.\n",
    "2. The two arrays are said to be compatible in a dimension if they have the same size in the dimension, or if one of the arrays has size 1 in that dimension.\n",
    "3. The arrays can be broadcast together if they are compatible in all dimensions.\n",
    "4. After broadcasting, each array behaves as if it had shape equal to the elementwise maximum of shapes of the two input arrays.\n",
    "5. In any dimension where one array had size 1 and the other array had size greater than 1, the first array behaves as if it were copied along that dimension\n",
    "\n",
    "Example of **compatible shapes** for broadcasting: "
   ]
  },
  {
   "cell_type": "markdown",
   "metadata": {
    "id": "kn_6ttKgoUj9",
    "pycharm": {
     "name": "#%% md\n"
    }
   },
   "source": [
    "A      (3d array):  15 x 3 x 5\n",
    "\n",
    "B      (2d array):       3 x 5\n",
    "\n",
    "**Result** (3d array):  15 x 3 x 5"
   ]
  },
  {
   "cell_type": "markdown",
   "metadata": {
    "id": "XUaWMTuvoUj9",
    "pycharm": {
     "name": "#%% md\n"
    }
   },
   "source": [
    "A      (3d array):  15 x 3 x 5\n",
    "\n",
    "B      (3d array):  15 x 1 x 5\n",
    "\n",
    "**Result** (3d array):  15 x 3 x 5"
   ]
  },
  {
   "cell_type": "markdown",
   "metadata": {
    "id": "1yw3YhHJoUj9",
    "pycharm": {
     "name": "#%% md\n"
    }
   },
   "source": [
    "A      (2d array):  5 x 4\n",
    "\n",
    "B      (1d array):      1\n",
    "\n",
    "**Result** (2d array):  5 x 4"
   ]
  },
  {
   "cell_type": "markdown",
   "metadata": {
    "id": "gu4rq9K8oUj9",
    "pycharm": {
     "name": "#%% md\n"
    }
   },
   "source": [
    "Example of **incompatible shapes** for broadcasting:"
   ]
  },
  {
   "cell_type": "markdown",
   "metadata": {
    "id": "6tPjk_SQoUj9",
    "pycharm": {
     "name": "#%% md\n"
    }
   },
   "source": [
    "A      (1d array):  3\n",
    "\n",
    "B      (1d array):  4\n",
    "\n",
    "**Trailing dimensions do not match**"
   ]
  },
  {
   "cell_type": "code",
   "execution_count": null,
   "metadata": {
    "id": "SJ_8UZtcoUj9",
    "outputId": "4339fc5a-29fb-4d79-f6cd-3dbb9b6566ac",
    "pycharm": {
     "name": "#%%\n"
    }
   },
   "outputs": [
    {
     "ename": "ValueError",
     "evalue": "operands could not be broadcast together with shapes (3,) (4,) ",
     "output_type": "error",
     "traceback": [
      "\u001B[0;31m---------------------------------------------------------------------------\u001B[0m",
      "\u001B[0;31mValueError\u001B[0m                                Traceback (most recent call last)",
      "\u001B[0;32m<ipython-input-94-775d8dd18893>\u001B[0m in \u001B[0;36m<module>\u001B[0;34m\u001B[0m\n\u001B[1;32m      1\u001B[0m \u001B[0ma\u001B[0m\u001B[0;34m=\u001B[0m\u001B[0mnp\u001B[0m\u001B[0;34m.\u001B[0m\u001B[0marray\u001B[0m\u001B[0;34m(\u001B[0m\u001B[0;34m[\u001B[0m\u001B[0;36m1\u001B[0m\u001B[0;34m,\u001B[0m\u001B[0;36m2\u001B[0m\u001B[0;34m,\u001B[0m\u001B[0;36m3\u001B[0m\u001B[0;34m]\u001B[0m\u001B[0;34m)\u001B[0m\u001B[0;34m\u001B[0m\u001B[0m\n\u001B[1;32m      2\u001B[0m \u001B[0mb\u001B[0m\u001B[0;34m=\u001B[0m\u001B[0mnp\u001B[0m\u001B[0;34m.\u001B[0m\u001B[0marray\u001B[0m\u001B[0;34m(\u001B[0m\u001B[0;34m[\u001B[0m\u001B[0;36m1\u001B[0m\u001B[0;34m,\u001B[0m\u001B[0;36m2\u001B[0m\u001B[0;34m,\u001B[0m\u001B[0;36m3\u001B[0m\u001B[0;34m,\u001B[0m\u001B[0;36m4\u001B[0m\u001B[0;34m]\u001B[0m\u001B[0;34m)\u001B[0m\u001B[0;34m\u001B[0m\u001B[0m\n\u001B[0;32m----> 3\u001B[0;31m \u001B[0mprint\u001B[0m\u001B[0;34m(\u001B[0m\u001B[0ma\u001B[0m\u001B[0;34m+\u001B[0m\u001B[0mb\u001B[0m\u001B[0;34m)\u001B[0m \u001B[0;31m# Throw Exception\u001B[0m\u001B[0;34m\u001B[0m\u001B[0m\n\u001B[0m",
      "\u001B[0;31mValueError\u001B[0m: operands could not be broadcast together with shapes (3,) (4,) "
     ]
    }
   ],
   "source": [
    "a=np.array([1,2,3])\n",
    "b=np.array([1,2,3,4])\n",
    "print(a+b) # Throw Exception"
   ]
  },
  {
   "cell_type": "markdown",
   "metadata": {
    "id": "HFUipQcWoUj9",
    "pycharm": {
     "name": "#%% md\n"
    }
   },
   "source": [
    "## 8. Plotting - Matplotlib"
   ]
  },
  {
   "cell_type": "markdown",
   "metadata": {
    "id": "EOSn05hjoUj9",
    "pycharm": {
     "name": "#%% md\n"
    }
   },
   "source": [
    "Matplotlib is a plotting library. In this section give a brief introduction to the matplotlib.pyplot module.\n",
    "\n",
    "The most important function in matplotlib is plot, which allows you to plot 2D data. Here is a simple example:"
   ]
  },
  {
   "cell_type": "code",
   "execution_count": null,
   "metadata": {
    "id": "ldxh9QKeoUj9",
    "outputId": "f73c9ea0-998a-4521-9bfe-99401aea777e",
    "pycharm": {
     "name": "#%%\n"
    }
   },
   "outputs": [
    {
     "data": {
      "image/png": "[encoded data removed]",
      "text/plain": [
       "<Figure size 432x288 with 1 Axes>"
      ]
     },
     "metadata": {
      "needs_background": "light"
     },
     "output_type": "display_data"
    }
   ],
   "source": [
    "import numpy as np\n",
    "import matplotlib.pyplot as plt\n",
    "\n",
    "# Compute the x and y coordinates for points on sine and cosine curves\n",
    "x = np.arange(0, 2 * np.pi, 0.1)\n",
    "y_sin = np.sin(x)\n",
    "y_cos = np.cos(x)\n",
    "\n",
    "# Plot the points using matplotlib\n",
    "plt.plot(x, y_sin)\n",
    "plt.plot(x, y_cos)\n",
    "plt.xlabel('x axis label')\n",
    "plt.ylabel('y axis label')\n",
    "plt.title('Sine and Cosine')\n",
    "plt.legend(['Sine', 'Cosine'])\n",
    "plt.show()"
   ]
  },
  {
   "cell_type": "markdown",
   "metadata": {
    "id": "SDWvbjHMoUj-",
    "pycharm": {
     "name": "#%% md\n"
    }
   },
   "source": [
    "In case we want to show two separate plots:"
   ]
  },
  {
   "cell_type": "code",
   "execution_count": null,
   "metadata": {
    "id": "aZ92IlZFoUj-",
    "outputId": "39a01d3e-a767-4af7-e77d-8a0d9447d964",
    "pycharm": {
     "name": "#%%\n"
    }
   },
   "outputs": [
    {
     "data": {
      "image/png": "[encoded data removed]",
      "text/plain": [
       "<Figure size 432x288 with 2 Axes>"
      ]
     },
     "metadata": {
      "needs_background": "light"
     },
     "output_type": "display_data"
    }
   ],
   "source": [
    "# Set up a subplot grid that has height 2 and width 1,\n",
    "# and set the first such subplot as active.\n",
    "plt.subplot(2, 1, 1)\n",
    "\n",
    "# Make the first plot.\n",
    "plt.plot(x, y_sin)\n",
    "plt.title('Sine')\n",
    "\n",
    "# Set the second subplot as active, and make the second plot.\n",
    "plt.subplot(2, 1, 2)\n",
    "plt.plot(x, y_cos)\n",
    "plt.title('Cosine')\n",
    "\n",
    "# Show the figure.\n",
    "plt.show()"
   ]
  }
 ],
 "metadata": {
  "kernelspec": {
   "display_name": "Python 3",
   "language": "python",
   "name": "python3"
  },
  "language_info": {
   "codemirror_mode": {
    "name": "ipython",
    "version": 3
   },
   "file_extension": ".py",
   "mimetype": "text/x-python",
   "name": "python",
   "nbconvert_exporter": "python",
   "pygments_lexer": "ipython3",
   "version": "3.7.3"
  },
  "latex_envs": {
   "LaTeX_envs_menu_present": true,
   "autoclose": false,
   "autocomplete": true,
   "bibliofile": "biblio.bib",
   "cite_by": "apalike",
   "current_citInitial": 1,
   "eqLabelWithNumbers": true,
   "eqNumInitial": 1,
   "hotkeys": {
    "equation": "Ctrl-E",
    "itemize": "Ctrl-I"
   },
   "labels_anchors": false,
   "latex_user_defs": false,
   "report_style_numbering": false,
   "user_envs_cfg": false
  },
  "varInspector": {
   "cols": {
    "lenName": 16,
    "lenType": 16,
    "lenVar": 40
   },
   "kernels_config": {
    "python": {
     "delete_cmd_postfix": "",
     "delete_cmd_prefix": "del ",
     "library": "var_list.py",
     "varRefreshCmd": "print(var_dic_list())"
    },
    "r": {
     "delete_cmd_postfix": ") ",
     "delete_cmd_prefix": "rm(",
     "library": "var_list.r",
     "varRefreshCmd": "cat(var_dic_list()) "
    }
   },
   "types_to_exclude": [
    "module",
    "function",
    "builtin_function_or_method",
    "instance",
    "_Feature"
   ],
   "window_display": false
  },
  "colab": {
   "provenance": [],
   "collapsed_sections": [
    "nQeQLh1JIy7b",
    "00NTd28CLdiR",
    "XHXkWkHELdiR",
    "0hAUbKErLdiR",
    "b2ZROpiPLdiS",
    "XtL_GvUZLdiU",
    "N06iifpOLdiU",
    "Zhi4bHxnLdiU",
    "UDuMQ5BkLdiV",
    "_oOUOVuQLdiV",
    "2zBucfHBLdia",
    "Sdk2JdoFLdib",
    "GikVAdleLdib",
    "J_b1xv0JLdib",
    "-vbmDYFiLdic",
    "M21OD8kuLdid",
    "NmSiYYhlLdid",
    "8Y_w_BkxLdid",
    "nIcVy6TDLdie",
    "V8O_McddLdie",
    "lJWdVd0WLdie",
    "xCi-i0g2Ldie",
    "5DeEnFSlLdif",
    "gLyJUTlELdif",
    "F6kk277_Ldif",
    "5ctV-QQeLdig",
    "hoaq8cjeLdih",
    "Nv3r6YHSLdih",
    "O8ytS5y4Ldih",
    "uWu-9oIJLdih",
    "tvpvPys7Ldih",
    "clazAfIpLdii",
    "xVORDg7tLdii",
    "SWM9-y41Ldii",
    "7m3Q3ZswLdii",
    "xYEWBveyLdik",
    "XXV-NkZdLdik",
    "4L_3QNh0Ldil",
    "_9MgBjVoLdim",
    "JixDfPa6Ldim",
    "jwqbxhz0Ldim",
    "8iDfCPS_Ldin",
    "Jfs9YJcDLdin",
    "9NbAJB2-Ldio",
    "q8zM8esrLdiq",
    "C1ckmMHOLdiq",
    "pBrP10WaLdir",
    "cjIuk5voLdir",
    "tPdLVr21Ldir",
    "WPEU4AyMLdir",
    "1pzH3gujLdit",
    "OzOXQEgGoUj0",
    "VV2GC-exoUj0",
    "T_NnhgVioUj4",
    "NLGWosz9oUj7",
    "HFUipQcWoUj9"
   ]
  }
 },
 "nbformat": 4,
 "nbformat_minor": 0
}