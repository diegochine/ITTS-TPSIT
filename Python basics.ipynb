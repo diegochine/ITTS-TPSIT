{
 "cells": [
  {
   "cell_type": "markdown",
   "metadata": {
    "id": "IP8dmoiMoUje",
    "pycharm": {
     "name": "#%% md\n"
    }
   },
   "source": [
    "# Python from Scratch\n",
    "\n",
    "*Chinellato Diego - TPSIT*\n",
    "\n",
    "*ITTS V. Volterra*\n",
    "\n",
    "*A.S. 2022/2023*"
   ]
  },
  {
   "cell_type": "markdown",
   "source": [
    "## How can I run my Python code ?\n",
    "\n",
    "In this course we use **Jupyter notebooks** as provided by **Anaconda for Python 3.0**\n",
    " - You can use **Anaconda** (or **Miniconda**) for a wheels-included Python installation, see instructions: https://www.anaconda.com/distribution/\n",
    " - Google Colaboratory also provides a cloub-based environment for running notebooks (save on your electricity bills by using Google's compute power): https://colab.research.google.com/\n",
    "\n",
    "Jupyter notebooks allow \n",
    " - to write slides like this.\n",
    " - to write complex documents interleaving text with programs\n",
    " - it is basically an interactive interpreter accessed via browser\n",
    " \n",
    " \n",
    "Additional tools:\n",
    " - PyCharm by JetBrains https://www.jetbrains.com/pycharm/\n",
    " - PyCharm Pro included in GitHub Student Developer Pack\n",
    "\n",
    "## Your best friends in learning Python\n",
    "\n",
    "1. The Python website:\n",
    "    - plenty of links to books and tutorials!\n",
    "        - e.g., https://docs.python.org/3/tutorial/\n",
    "0. The official Python documentation:\n",
    "    - https://docs.python.org/3/library/index.html\n",
    "0. Google & **StackOverflow**:\n",
    "    - try googling for `TypeError: can't multiply sequence by non-int of type 'float'`\n",
    "0. Python Tutor\n",
    "    - visualizes the execution of python code\n",
    "    - http://pythontutor.com/\n",
    "0. Tons of practical guides and tutorials: https://realpython.com/ \n",
    " \n",
    "0. advanced notes: https://github.com/satwikkansal/wtfpython\n",
    "\n",
    "\n",
    "## Who uses python\n",
    "\n",
    " - The popular *YouTube* video sharing service is largely written in Python\n",
    " - The *Dropbox* storage service codes both its server and desktop client software primarily in Python\n",
    " - The widespread *BitTorrent* peer-to-peer file sharing system began its life as a Python program\n",
    " - *Netflix* and *Yelp* have both documented the role of Python in their software infrastructures\n",
    " - *JPMorgan, Chase, UBS, Getco, and Citadel* apply Python to financial market forecasting\n",
    " - *NASA, Los Alamos, Fermilab, JPL*, and others use Python for scientific programming tasks\n",
    " \n",
    " - In \"The Anatomy of a Large-Scale Hypertextual Web Search Engine\" 1998, Google founders describe the Google architecture\n",
    "    - crawlers were written in python !\n",
    "\n",
    " - https://www.python.org/jobs/"
   ],
   "metadata": {
    "id": "7YJC8obmqiq-",
    "pycharm": {
     "name": "#%% md\n"
    }
   }
  },
  {
   "cell_type": "markdown",
   "metadata": {
    "id": "O5aIKNUSoUjh",
    "pycharm": {
     "name": "#%% md\n"
    }
   },
   "source": [
    "##  1. Introduction"
   ]
  },
  {
   "cell_type": "markdown",
   "metadata": {
    "id": "yrfCvFLWoUjh",
    "pycharm": {
     "name": "#%% md\n"
    }
   },
   "source": [
    "Python is a programming language very widespread in the scientific community and one of the most required if you want to apply for a Computer Science position. Python is an **interpreted**, high level, object based language. \n",
    "\n",
    "Python uses **whitespace indentation**, rather than curly brackets or keywords, to delimit blocks. An increase in indentation comes after certain statements; a decrease in indentation signifies the end of the current block (Example below)."
   ]
  },
  {
   "cell_type": "code",
   "execution_count": null,
   "metadata": {
    "id": "DeRNvu5-oUji",
    "pycharm": {
     "name": "#%%\n"
    }
   },
   "outputs": [],
   "source": [
    "a=2\n",
    "if a>=2:\n",
    "    if a == 2:\n",
    "         print(\"a equals to 2\", a)\n",
    "    else:\n",
    "         print(\"a greater than 2\")\n",
    "else:\n",
    "    print(\"a lower than 2\")\n",
    "a = 'sasa'"
   ]
  },
  {
   "cell_type": "markdown",
   "metadata": {
    "id": "4gzFY9UUoUjj",
    "pycharm": {
     "name": "#%% md\n"
    }
   },
   "source": [
    "Two main versions of Python: Python 2.x and Python 3.x are available. \n",
    "The two versions have several features in common, the two versions are not fully compatible between each other and a Python 2.x program may not work for Python 3.x and vice versa.\n",
    "\n",
    "In this course we will use Python 3.x since Python 2.x is not supported anymore starting from 2020, but many programmers are still using it.\n",
    "\n",
    "You can check your Python version at the command line by running `python --version`."
   ]
  },
  {
   "cell_type": "markdown",
   "metadata": {
    "id": "SLrbz31woUjk",
    "pycharm": {
     "name": "#%% md\n"
    }
   },
   "source": [
    "## 2. Basic Data types"
   ]
  },
  {
   "cell_type": "markdown",
   "metadata": {
    "id": "7B6dWk9KoUjl",
    "pycharm": {
     "name": "#%% md\n"
    }
   },
   "source": [
    "Python is a **dynamically typed language**. This means that we are not forced to explicit the type of each variable, since the compiler is smart enough to understand the type by itself.\n",
    "\n",
    "Python provides the following types:\n",
    "\n",
    "| Object type | Examples |\n",
    "|:-:|:-:|\n",
    "| Numbers | `1234`, `3.1415`, `3+4j`, ... |\n",
    "| Strings | `'spam'`, `\"Bob's\"`, ... |\n",
    "| Lists   | `[1, [2, 'three'], 4.5]`, `list(range(10))`, ... |\n",
    "| Dictionaries | `{'food': 'spam', 'taste': 'yum'}`, `dict(hours=10)`, ... |\n",
    "| Tuples |  `(1, 'spam', 4, 'U')`, `tuple('spam')`, ...|\n",
    "| Files |   `open('eggs.txt')`, `open(r'C:\\ham.bin', 'wb')`, ... |\n",
    "| Sets  | `set('abc')`, `{'a', 'b', 'c'}`, ... |\n",
    "| Other core types | `Booleans`, `None`, ... |\n",
    "\n",
    " - The type of a variable is inferred from the expression.\n",
    " - You can use the function `type` to ask Python which type is being used\n",
    " - The type determines the set of valid operators"
   ]
  },
  {
   "cell_type": "markdown",
   "metadata": {
    "id": "3zZR14P9oUjl",
    "pycharm": {
     "name": "#%% md\n"
    }
   },
   "source": [
    "### Numbers and Mathematical operation"
   ]
  },
  {
   "cell_type": "markdown",
   "metadata": {
    "id": "WPl-zoEXoUjm",
    "pycharm": {
     "name": "#%% md\n"
    }
   },
   "source": [
    "Below we show how to perform basic mathematical operations with Python3."
   ]
  },
  {
   "cell_type": "code",
   "execution_count": null,
   "metadata": {
    "id": "BkAU8asloUjm",
    "pycharm": {
     "name": "#%%\n"
    }
   },
   "outputs": [],
   "source": [
    "# Assigning a variable, Python3 will determine the type of it automatically.\n",
    "x = 3\n",
    "print(\"x =\", x, type(x))"
   ]
  },
  {
   "cell_type": "code",
   "execution_count": null,
   "metadata": {
    "scrolled": true,
    "id": "NlqFQRj0oUjm",
    "pycharm": {
     "name": "#%%\n"
    }
   },
   "outputs": [],
   "source": [
    "# Basic mathematical operation\n",
    "# Sum\n",
    "sum = x + 1\n",
    "print(\"Addition: x+1 =\", sum)"
   ]
  },
  {
   "cell_type": "code",
   "execution_count": null,
   "metadata": {
    "id": "VrHHxqQ_oUjn",
    "pycharm": {
     "name": "#%%\n"
    }
   },
   "outputs": [],
   "source": [
    "# Difference\n",
    "diff = x - 1\n",
    "print(\"Subtraction: x-1 =\", diff)"
   ]
  },
  {
   "cell_type": "code",
   "execution_count": null,
   "metadata": {
    "id": "7EvhX034oUjn",
    "pycharm": {
     "name": "#%%\n"
    }
   },
   "outputs": [],
   "source": [
    "# Multiplication\n",
    "mul = x * 2\n",
    "print(\"Multiplication: x*2 =\", mul)"
   ]
  },
  {
   "cell_type": "code",
   "execution_count": null,
   "metadata": {
    "id": "_G-Jd1YvoUjo",
    "pycharm": {
     "name": "#%%\n"
    }
   },
   "outputs": [],
   "source": [
    "# Exponential\n",
    "exp = x**2\n",
    "print(\"Exponentiation: x**2=\", exp)"
   ]
  },
  {
   "cell_type": "code",
   "execution_count": null,
   "metadata": {
    "id": "WFrolB8qoUjo",
    "pycharm": {
     "name": "#%%\n"
    }
   },
   "outputs": [],
   "source": [
    "# Support += and *= syntax\n",
    "x += 1\n",
    "print(\"x+=1 -> x =\", x)\n",
    "x **= 2\n",
    "print(\"x*=2 -> x =\", x)"
   ]
  },
  {
   "cell_type": "code",
   "source": [
    "# Dynamic typing\n",
    "x = 2 \n",
    "print(x)\n",
    "x = 'ciao'\n",
    "print(x)"
   ],
   "metadata": {
    "id": "LcA8yhgQgiN8",
    "pycharm": {
     "name": "#%%\n"
    }
   },
   "execution_count": null,
   "outputs": []
  },
  {
   "cell_type": "code",
   "execution_count": null,
   "metadata": {
    "id": "8mmQXxRnoUjo",
    "pycharm": {
     "name": "#%%\n"
    }
   },
   "outputs": [],
   "source": [
    "# Python3 automatically cast to float during an operation between int and float variables \n",
    "# !N.B. Different behaviour than Python2!\n",
    "x = 3  # int\n",
    "y = 2.5 # float\n",
    "print(\"x=\",x, type(x)) \n",
    "print(\"y=\",y, type(y)) \n",
    "print(type(x+y))"
   ]
  },
  {
   "cell_type": "code",
   "execution_count": null,
   "metadata": {
    "id": "-DmqH5caoUjo",
    "pycharm": {
     "name": "#%%\n"
    }
   },
   "outputs": [],
   "source": [
    "# Multiplication int float\n",
    "mul_2 = x*y\n",
    "print(\"Multiplication: x*y=\", mul_2, type(mul_2))\n",
    "\n",
    "# Division int float\n",
    "div = x / y\n",
    "print(\"Division x/y=\", div, type(div))"
   ]
  },
  {
   "cell_type": "code",
   "execution_count": null,
   "metadata": {
    "id": "pN_UjExDoUjp",
    "pycharm": {
     "name": "#%%\n"
    }
   },
   "outputs": [],
   "source": [
    "# Module\n",
    "mod = x % y\n",
    "print(\"Module x%y=\", mod, type(mod))"
   ]
  },
  {
   "cell_type": "code",
   "execution_count": null,
   "metadata": {
    "id": "9EF7eVv0oUjp",
    "pycharm": {
     "name": "#%%\n"
    }
   },
   "outputs": [],
   "source": [
    "# Floored division\n",
    "z = 2\n",
    "floor_div = x // z\n",
    "print(\"Floored division x//y=\", floor_div, type(floor_div))"
   ]
  },
  {
   "cell_type": "code",
   "execution_count": null,
   "metadata": {
    "id": "ERicNnAVoUjp",
    "pycharm": {
     "name": "#%%\n"
    }
   },
   "outputs": [],
   "source": [
    "# Advanced mathematical operation in library math\n",
    "import math # import this package for square root or other mathematical operations\n",
    "# Square root\n",
    "root = math.sqrt(x)\n",
    "print(\"Square root of \" ,x , \": \", root)"
   ]
  },
  {
   "cell_type": "code",
   "source": [
    "from math import sqrt as s\n",
    "s(3)"
   ],
   "metadata": {
    "id": "F59miVHPFgvB",
    "pycharm": {
     "name": "#%%\n"
    }
   },
   "execution_count": null,
   "outputs": []
  },
  {
   "cell_type": "markdown",
   "metadata": {
    "id": "qwOP9q1foUjp",
    "pycharm": {
     "name": "#%% md\n"
    }
   },
   "source": [
    "### Casting types\n",
    "Sometimes we need to change from a type to another. To do so, we can cast the type."
   ]
  },
  {
   "cell_type": "code",
   "execution_count": null,
   "metadata": {
    "id": "Cfm6cSg5oUjq",
    "pycharm": {
     "name": "#%%\n"
    }
   },
   "outputs": [],
   "source": [
    "x = 3  # int\n",
    "y = 2. # float\n",
    "\n",
    "div = x / y\n",
    "print(\"Division: \", div, type(div))\n",
    "print(f\"Division: {div}\")\n",
    "# Casting division from float to int -> losing precision\n",
    "d = int(x / y)\n",
    "print(d, type(d))\n",
    "\n",
    "# Casting division from float to int and to float again -> losing precision\n",
    "d = float(int(x / y))\n",
    "print(d, type(d))"
   ]
  },
  {
   "cell_type": "code",
   "source": [
    "f\"{1/3:.30f}\""
   ],
   "metadata": {
    "id": "W-4u9lckvM9m",
    "pycharm": {
     "name": "#%%\n"
    }
   },
   "execution_count": null,
   "outputs": []
  },
  {
   "cell_type": "markdown",
   "metadata": {
    "id": "0kukjEAAoUjq",
    "pycharm": {
     "name": "#%% md\n"
    }
   },
   "source": [
    "### Booleans"
   ]
  },
  {
   "cell_type": "markdown",
   "metadata": {
    "id": "F25dRAcRoUjq",
    "pycharm": {
     "name": "#%% md\n"
    }
   },
   "source": [
    "Python boolean operations are the following:"
   ]
  },
  {
   "cell_type": "code",
   "execution_count": null,
   "metadata": {
    "id": "2zdkRi3coUjq",
    "pycharm": {
     "name": "#%%\n"
    }
   },
   "outputs": [],
   "source": [
    "t, f = True, False\n",
    "print(\"T, F: \", t, f, type(t))"
   ]
  },
  {
   "cell_type": "code",
   "execution_count": null,
   "metadata": {
    "id": "JqlLTjoIoUjq",
    "pycharm": {
     "name": "#%%\n"
    }
   },
   "outputs": [],
   "source": [
    "# and\n",
    "print(\"Logical T AND F: \", t and f) "
   ]
  },
  {
   "cell_type": "code",
   "execution_count": null,
   "metadata": {
    "id": "N7qYL4BeoUjq",
    "pycharm": {
     "name": "#%%\n"
    }
   },
   "outputs": [],
   "source": [
    "# or\n",
    "print(\"Logical T OR F: \", t or f)"
   ]
  },
  {
   "cell_type": "code",
   "execution_count": null,
   "metadata": {
    "id": "jImi6YA0oUjr",
    "pycharm": {
     "name": "#%%\n"
    }
   },
   "outputs": [],
   "source": [
    "# not\n",
    "print(\"Logical NOT T: \", not t)"
   ]
  },
  {
   "cell_type": "code",
   "execution_count": null,
   "metadata": {
    "id": "hif7cpl4oUjr",
    "pycharm": {
     "name": "#%%\n"
    }
   },
   "outputs": [],
   "source": [
    "# xor or different\n",
    "print(\"Logical T XOR F: \", t != f)"
   ]
  },
  {
   "cell_type": "markdown",
   "metadata": {
    "id": "yU3sj7B4oUjr",
    "pycharm": {
     "name": "#%% md\n"
    }
   },
   "source": [
    "### Strings"
   ]
  },
  {
   "cell_type": "markdown",
   "metadata": {
    "id": "ahuKper9oUjr",
    "pycharm": {
     "name": "#%% md\n"
    }
   },
   "source": [
    "We will introduce some basic knowledge about Strings and print() function in Python3."
   ]
  },
  {
   "cell_type": "code",
   "execution_count": null,
   "metadata": {
    "id": "RAg4aQMfoUjr",
    "pycharm": {
     "name": "#%%\n"
    }
   },
   "outputs": [],
   "source": [
    "hello = 'hello'   # String literals can use single quotes\n",
    "world = \"world\"   # or double quotes; it does not matter\n",
    "\n",
    "# print string and lenght of string\n",
    "print(hello, len(hello)) "
   ]
  },
  {
   "cell_type": "code",
   "execution_count": null,
   "metadata": {
    "id": "pbXSKo2hoUjr",
    "pycharm": {
     "name": "#%%\n"
    }
   },
   "outputs": [],
   "source": [
    "# String concatenation\n",
    "x = 2019\n",
    "hw = hello + ' ' + world + ' ' + str(x)\n",
    "hw2 = f\"{hello} {world} {x}\"\n",
    "print(hw, hw2)\n",
    "print(hello,\"world\",x)"
   ]
  },
  {
   "cell_type": "code",
   "source": [
    "# slicing is also supported, same syntax as lists\n",
    "s = 'hello world'\n",
    "print(s[:5])\n",
    "print(s[1::2])"
   ],
   "metadata": {
    "id": "oTHqjh5ysDkZ",
    "pycharm": {
     "name": "#%%\n"
    }
   },
   "execution_count": null,
   "outputs": []
  },
  {
   "cell_type": "markdown",
   "metadata": {
    "id": "N-Bwy1GMoUjs",
    "pycharm": {
     "name": "#%% md\n"
    }
   },
   "source": [
    "Several useful methods for handling strings are implemented:"
   ]
  },
  {
   "cell_type": "code",
   "execution_count": null,
   "metadata": {
    "id": "HdXbHx7woUjs",
    "pycharm": {
     "name": "#%%\n"
    }
   },
   "outputs": [],
   "source": [
    "s = \"  hello world\"\n",
    "print(s.upper())"
   ]
  },
  {
   "cell_type": "code",
   "execution_count": null,
   "metadata": {
    "id": "M-o3uLZhoUjs",
    "pycharm": {
     "name": "#%%\n"
    }
   },
   "outputs": [],
   "source": [
    "print(s.replace('l','llll'))"
   ]
  },
  {
   "cell_type": "code",
   "execution_count": null,
   "metadata": {
    "id": "Qham17cfoUjs",
    "pycharm": {
     "name": "#%%\n"
    }
   },
   "outputs": [],
   "source": [
    "s2 = s.strip()\n",
    "print(s)\n",
    "print(s2)"
   ]
  },
  {
   "cell_type": "code",
   "execution_count": null,
   "metadata": {
    "id": "r2YOhag_oUjs",
    "pycharm": {
     "name": "#%%\n"
    }
   },
   "outputs": [],
   "source": [
    "print(s.strip().capitalize())"
   ]
  },
  {
   "cell_type": "markdown",
   "metadata": {
    "id": "_ye-58WpoUjs",
    "pycharm": {
     "name": "#%% md\n"
    }
   },
   "source": [
    "Lot of times we need to format a string to improve the readability.\n",
    "\n",
    "We can format our string using the _format_ method of strings, or alternatively *f-strings*."
   ]
  },
  {
   "cell_type": "code",
   "execution_count": null,
   "metadata": {
    "id": "2iogz3E9oUjs",
    "pycharm": {
     "name": "#%%\n"
    }
   },
   "outputs": [],
   "source": [
    "s = \"World\"\n",
    "print(\"Hello {}\".format(s)) # Insert string variable\n",
    "print(f\"Hello {s}\") # same result using an f-string"
   ]
  },
  {
   "cell_type": "code",
   "execution_count": null,
   "metadata": {
    "id": "cdmEozTioUjt",
    "pycharm": {
     "name": "#%%\n"
    }
   },
   "outputs": [],
   "source": [
    "n = 1.2345678\n",
    "print(n)\n",
    "print(\"4 decimal digits {:.4f}\".format(n)) # Adjusting the number of digits to show\n",
    "print(f\"4 decimal digits {n:.4f}\")"
   ]
  },
  {
   "cell_type": "code",
   "source": [
    "print(\"What is the output of 'a'+'b':\",  'a'+'b'   )\n",
    "print(\"What is the output of 'a'=='b':\", 'a'=='b'  )\n",
    "print(\"What is the output of 'a'<='b':\", 'a'<='b'  )\n",
    "print(\"What is the output of 'a'<='A':\", 'a'=='A'  )\n",
    "print(\"What is the output of 'a'*5:\",    'a'*5 )"
   ],
   "metadata": {
    "id": "j15gTjTWzJKN",
    "pycharm": {
     "name": "#%%\n"
    }
   },
   "execution_count": null,
   "outputs": []
  },
  {
   "cell_type": "markdown",
   "source": [
    "**Note**: string are immutable:"
   ],
   "metadata": {
    "id": "KK1AKjiQr3gj",
    "pycharm": {
     "name": "#%% md\n"
    }
   }
  },
  {
   "cell_type": "code",
   "source": [
    "s = 'ciao'\n",
    "s[2] = 's'"
   ],
   "metadata": {
    "id": "4K7YamSmr7r6",
    "pycharm": {
     "name": "#%%\n"
    }
   },
   "execution_count": null,
   "outputs": []
  },
  {
   "cell_type": "markdown",
   "metadata": {
    "id": "gG9g3mudoUjt",
    "pycharm": {
     "name": "#%% md\n"
    }
   },
   "source": [
    "You can find a list of all string methods in the [documentation](https://docs.python.org/3.5/library/stdtypes.html#string-methods)."
   ]
  },
  {
   "cell_type": "markdown",
   "metadata": {
    "id": "P-E7kntooUjv",
    "pycharm": {
     "name": "#%% md\n"
    }
   },
   "source": [
    "## 3. Statements"
   ]
  },
  {
   "cell_type": "markdown",
   "metadata": {
    "id": "xVgo9q_FoUjv",
    "pycharm": {
     "name": "#%% md\n"
    }
   },
   "source": [
    "### _If_ Statement\n",
    "\n",
    "```python\n",
    "if condition:\n",
    "    _some_commands _\n",
    "elif condition:\n",
    "    _some_commands_\n",
    "else:\n",
    "    _some_commands_\n",
    "```"
   ]
  },
  {
   "cell_type": "code",
   "execution_count": null,
   "metadata": {
    "id": "MFefCi47oUjw",
    "pycharm": {
     "name": "#%%\n"
    }
   },
   "outputs": [],
   "source": [
    "x = 33\n",
    "if isinstance(x, int) and x<=10 and x>=0:\n",
    "    print(\"x is in the interval [0,10]\")\n",
    "    pass # pass does nothing\n",
    "    pass\n",
    "elif not isinstance(x, int):\n",
    "    print(\"x is not an int\")\n",
    "else:\n",
    "    print(\"x is an int, but not in the interval [0,10]\")\n",
    "    pass\n",
    "    pass"
   ]
  },
  {
   "cell_type": "code",
   "execution_count": null,
   "metadata": {
    "id": "bLNMH7-IoUjw",
    "pycharm": {
     "name": "#%%\n"
    }
   },
   "outputs": [],
   "source": [
    "x = 33\n",
    "# This is a special compact form\n",
    "if isinstance(x, int) and 0<=x<=10:\n",
    "    print(\"x is in the interval [0,10]\")\n",
    "else:\n",
    "    print(\"x is not in the interval [0,10]\")"
   ]
  },
  {
   "cell_type": "code",
   "source": [
    "x = 33\n",
    "if 0<=x<=10: print(\"x is in the interval [0,10]\")\n",
    "else: print(\"x is not in the interval [0,10]\")"
   ],
   "metadata": {
    "id": "w84fo_DwzqN-",
    "pycharm": {
     "name": "#%%\n"
    }
   },
   "execution_count": null,
   "outputs": []
  },
  {
   "cell_type": "markdown",
   "metadata": {
    "id": "8NznMrbeoUjw",
    "pycharm": {
     "name": "#%% md\n"
    }
   },
   "source": [
    "### _For_ statement\n",
    "\n",
    "A for loop is used for iterating over a sequence (that is either a list, a tuple, a dictionary, a set, or a string).\n",
    "\n",
    "```python\n",
    "for el in sequence:\n",
    "    _some_commands_\n",
    "```  "
   ]
  },
  {
   "cell_type": "code",
   "execution_count": null,
   "metadata": {
    "id": "8e_YgG2noUjw",
    "pycharm": {
     "name": "#%%\n"
    }
   },
   "outputs": [],
   "source": [
    "subjects = ['math', 'history', 'physics']\n",
    "\n",
    "# Iterate among the elemets of a list\n",
    "for sub in subjects:\n",
    "    if sub != 'math':\n",
    "        print(sub)"
   ]
  },
  {
   "cell_type": "code",
   "execution_count": null,
   "metadata": {
    "id": "-om-eoFKoUjw",
    "pycharm": {
     "name": "#%%\n"
    }
   },
   "outputs": [],
   "source": [
    "for i in range(5):\n",
    "    print(f\"This is Iteration {i}\")"
   ]
  },
  {
   "cell_type": "code",
   "source": [
    "for i in range(0,10,2):\n",
    "    print(f\"This is Iteration {i}\")"
   ],
   "metadata": {
    "id": "-Y5ABIopLiOR",
    "pycharm": {
     "name": "#%%\n"
    }
   },
   "execution_count": null,
   "outputs": []
  },
  {
   "cell_type": "code",
   "source": [
    "for i in range(10,0,-2):\n",
    "    print(f\"This is Iteration {i}\")"
   ],
   "metadata": {
    "id": "Uuuw0aEqLkxf",
    "pycharm": {
     "name": "#%%\n"
    }
   },
   "execution_count": null,
   "outputs": []
  },
  {
   "cell_type": "code",
   "execution_count": null,
   "metadata": {
    "id": "19k-YzhRoUjx",
    "pycharm": {
     "name": "#%%\n"
    }
   },
   "outputs": [],
   "source": [
    "print(range(10))\n",
    "print(list(range(10)))"
   ]
  },
  {
   "cell_type": "markdown",
   "source": [
    "This is called **iterable** (or **generator**)! You can only iterate through it ..."
   ],
   "metadata": {
    "id": "wcrjq_E3MAhU",
    "pycharm": {
     "name": "#%% md\n"
    }
   }
  },
  {
   "cell_type": "code",
   "execution_count": null,
   "metadata": {
    "id": "Vt7-mCD2oUjx",
    "pycharm": {
     "name": "#%%\n"
    }
   },
   "outputs": [],
   "source": [
    "lst = [1,4,6]\n",
    "for idx, l in enumerate(lst):\n",
    "    print(f\"index: {idx}, element: {l}\")"
   ]
  },
  {
   "cell_type": "code",
   "source": [
    "A = [2,3,1]\n",
    "B = [\"two\", \"three\", \"one\"]\n",
    "C = ('due', 'tre', 'uno') # it's a tuple\n",
    "# given N lists of length M, zip returns M tuples each with N elements\n",
    "print(list(zip(A,B)))\n",
    "print(list(zip(A,B,C)))\n",
    "for a, b in zip(A,B): \n",
    "    print(a,b)"
   ],
   "metadata": {
    "id": "o2ap8uGHqHvh",
    "pycharm": {
     "name": "#%%\n"
    }
   },
   "execution_count": null,
   "outputs": []
  },
  {
   "cell_type": "markdown",
   "metadata": {
    "id": "pvysyicVoUjx",
    "pycharm": {
     "name": "#%% md\n"
    }
   },
   "source": [
    "### _While_ statement\n",
    "\n",
    "With the while loop we can execute a set of statements as long as a condition is true. \n",
    "\n",
    "```python\n",
    "while condition:\n",
    "    _some_commands_\n",
    "```"
   ]
  },
  {
   "cell_type": "code",
   "execution_count": null,
   "metadata": {
    "id": "nV-OesOgoUjx",
    "pycharm": {
     "name": "#%%\n"
    }
   },
   "outputs": [],
   "source": [
    "i = 0\n",
    "while i<10:\n",
    "    i += 1\n",
    "    pass\n",
    "    if i==8: break\n",
    "    if i==5: continue\n",
    "    pass\n",
    "    print(f\"This is Iteration {i}\")\n",
    "    pass\n",
    "    pass"
   ]
  },
  {
   "cell_type": "markdown",
   "metadata": {
    "id": "qboO5DMPoUjt",
    "pycharm": {
     "name": "#%% md\n"
    }
   },
   "source": [
    "## 4. Containers"
   ]
  },
  {
   "cell_type": "markdown",
   "metadata": {
    "id": "wCgrmS5voUjt",
    "pycharm": {
     "name": "#%% md\n"
    }
   },
   "source": [
    "### Lists\n",
    "Lists in python can contain elements of different types.\n",
    "\n",
    "Several built-in methods are provided by python to manage lists. Below we will show some of them."
   ]
  },
  {
   "cell_type": "code",
   "execution_count": null,
   "metadata": {
    "id": "j_RxnuWVoUjt",
    "colab": {
     "base_uri": "https://localhost:8080/"
    },
    "executionInfo": {
     "status": "ok",
     "timestamp": 1670240334422,
     "user_tz": -60,
     "elapsed": 5,
     "user": {
      "displayName": "Diego Chinellato",
      "userId": "17373725090461795110"
     }
    },
    "outputId": "42996b6b-3b94-40ca-ded6-ff14666951b1",
    "pycharm": {
     "name": "#%%\n"
    }
   },
   "outputs": [
    {
     "output_type": "stream",
     "name": "stdout",
     "text": [
      "[0, 1, 2, 'hi'] 2 hi\n"
     ]
    }
   ],
   "source": [
    "# Creating a list, python lists can contain elements of different types.\n",
    "lst = [0, 1, 2, \"hi\"]  \n",
    "# Negative indices count from the end of the list\n",
    "print(lst, lst[2], lst[-1])"
   ]
  },
  {
   "cell_type": "code",
   "source": [
    "lst + [9, 9, 9]"
   ],
   "metadata": {
    "id": "gnHwl9c3Ham0",
    "colab": {
     "base_uri": "https://localhost:8080/"
    },
    "executionInfo": {
     "status": "ok",
     "timestamp": 1670240346141,
     "user_tz": -60,
     "elapsed": 278,
     "user": {
      "displayName": "Diego Chinellato",
      "userId": "17373725090461795110"
     }
    },
    "outputId": "49384e50-c156-4d92-9dad-88e03809a81e",
    "pycharm": {
     "name": "#%%\n"
    }
   },
   "execution_count": null,
   "outputs": [
    {
     "output_type": "execute_result",
     "data": {
      "text/plain": [
       "[0, 1, 2, 'hi', 9, 9, 9]"
      ]
     },
     "metadata": {},
     "execution_count": 2
    }
   ]
  },
  {
   "cell_type": "code",
   "execution_count": null,
   "metadata": {
    "id": "_5wa-NJRoUjt",
    "colab": {
     "base_uri": "https://localhost:8080/"
    },
    "executionInfo": {
     "status": "ok",
     "timestamp": 1670240352081,
     "user_tz": -60,
     "elapsed": 6,
     "user": {
      "displayName": "Diego Chinellato",
      "userId": "17373725090461795110"
     }
    },
    "outputId": "e1e0bc9c-a730-4539-9138-1564249a919a",
    "pycharm": {
     "name": "#%%\n"
    }
   },
   "outputs": [
    {
     "output_type": "stream",
     "name": "stdout",
     "text": [
      "[0, 1, 2, 'hi', 'bar']\n"
     ]
    }
   ],
   "source": [
    "# Appending a new element to the list\n",
    "lst.append('bar')\n",
    "print(lst)"
   ]
  },
  {
   "cell_type": "code",
   "execution_count": null,
   "metadata": {
    "id": "Kp-lUtoZoUju",
    "colab": {
     "base_uri": "https://localhost:8080/"
    },
    "executionInfo": {
     "status": "ok",
     "timestamp": 1670240356192,
     "user_tz": -60,
     "elapsed": 1254,
     "user": {
      "displayName": "Diego Chinellato",
      "userId": "17373725090461795110"
     }
    },
    "outputId": "e17dbc20-bb2e-4cf2-a7b5-cef1582b7ad2",
    "pycharm": {
     "name": "#%%\n"
    }
   },
   "outputs": [
    {
     "output_type": "stream",
     "name": "stdout",
     "text": [
      "bar [0, 1, 2, 'hi']\n"
     ]
    }
   ],
   "source": [
    "# Removing and returning the last element of the list\n",
    "l = lst.pop() \n",
    "print(l, lst)"
   ]
  },
  {
   "cell_type": "code",
   "source": [
    "'hi' in lst"
   ],
   "metadata": {
    "id": "qIO17XEeH2P2",
    "colab": {
     "base_uri": "https://localhost:8080/"
    },
    "executionInfo": {
     "status": "ok",
     "timestamp": 1670240363112,
     "user_tz": -60,
     "elapsed": 259,
     "user": {
      "displayName": "Diego Chinellato",
      "userId": "17373725090461795110"
     }
    },
    "outputId": "22706233-296f-4f85-a23f-ad198c5a0ab7",
    "pycharm": {
     "name": "#%%\n"
    }
   },
   "execution_count": null,
   "outputs": [
    {
     "output_type": "execute_result",
     "data": {
      "text/plain": [
       "True"
      ]
     },
     "metadata": {},
     "execution_count": 5
    }
   ]
  },
  {
   "cell_type": "markdown",
   "source": [
    "#### Slicing and mutability\n",
    "Slicing allows to access a sublist"
   ],
   "metadata": {
    "id": "-SLkqKX1IFKv",
    "pycharm": {
     "name": "#%% md\n"
    }
   }
  },
  {
   "cell_type": "code",
   "source": [
    "lst = ['red', 'orange', 'yellow', 'green', 'blue', 'indigo',\n",
    "           'violet']\n",
    "\n",
    "lst[1:3] "
   ],
   "metadata": {
    "id": "NXT5QXwpIEJ4",
    "colab": {
     "base_uri": "https://localhost:8080/"
    },
    "executionInfo": {
     "status": "ok",
     "timestamp": 1670240406936,
     "user_tz": -60,
     "elapsed": 228,
     "user": {
      "displayName": "Diego Chinellato",
      "userId": "17373725090461795110"
     }
    },
    "outputId": "0411f4a4-6be6-4c96-b853-dcadafc4c1c9",
    "pycharm": {
     "name": "#%%\n"
    }
   },
   "execution_count": null,
   "outputs": [
    {
     "output_type": "execute_result",
     "data": {
      "text/plain": [
       "['orange', 'yellow']"
      ]
     },
     "metadata": {},
     "execution_count": 6
    }
   ]
  },
  {
   "cell_type": "code",
   "source": [
    "lst[3:-1]"
   ],
   "metadata": {
    "id": "XYLAihDEIUED",
    "colab": {
     "base_uri": "https://localhost:8080/"
    },
    "executionInfo": {
     "status": "ok",
     "timestamp": 1670240444427,
     "user_tz": -60,
     "elapsed": 222,
     "user": {
      "displayName": "Diego Chinellato",
      "userId": "17373725090461795110"
     }
    },
    "outputId": "8c9fb310-b14d-4584-d7a1-3683bbaeac0b",
    "pycharm": {
     "name": "#%%\n"
    }
   },
   "execution_count": null,
   "outputs": [
    {
     "output_type": "execute_result",
     "data": {
      "text/plain": [
       "['green', 'blue', 'indigo']"
      ]
     },
     "metadata": {},
     "execution_count": 7
    }
   ]
  },
  {
   "cell_type": "code",
   "source": [
    "lst[3:]"
   ],
   "metadata": {
    "id": "1IfzI_oSIXA1",
    "colab": {
     "base_uri": "https://localhost:8080/"
    },
    "executionInfo": {
     "status": "ok",
     "timestamp": 1670240468432,
     "user_tz": -60,
     "elapsed": 4,
     "user": {
      "displayName": "Diego Chinellato",
      "userId": "17373725090461795110"
     }
    },
    "outputId": "77666065-b3f7-4ec7-97be-ba4077d01416",
    "pycharm": {
     "name": "#%%\n"
    }
   },
   "execution_count": null,
   "outputs": [
    {
     "output_type": "execute_result",
     "data": {
      "text/plain": [
       "['red', 'orange', 'yellow', 'green', 'blue', 'indigo', 'violet']"
      ]
     },
     "metadata": {},
     "execution_count": 9
    }
   ]
  },
  {
   "cell_type": "code",
   "source": [
    "lst[0:7:2]"
   ],
   "metadata": {
    "id": "PRmlL7KxIdzX",
    "colab": {
     "base_uri": "https://localhost:8080/"
    },
    "executionInfo": {
     "status": "ok",
     "timestamp": 1670240481453,
     "user_tz": -60,
     "elapsed": 232,
     "user": {
      "displayName": "Diego Chinellato",
      "userId": "17373725090461795110"
     }
    },
    "outputId": "abaf4fff-69bf-4d7c-c618-4e126d7c9a54",
    "pycharm": {
     "name": "#%%\n"
    }
   },
   "execution_count": null,
   "outputs": [
    {
     "output_type": "execute_result",
     "data": {
      "text/plain": [
       "['red', 'yellow', 'blue', 'violet']"
      ]
     },
     "metadata": {},
     "execution_count": 10
    }
   ]
  },
  {
   "cell_type": "code",
   "source": [
    "lst[0::2]"
   ],
   "metadata": {
    "id": "Asye8-J2IfVJ",
    "colab": {
     "base_uri": "https://localhost:8080/"
    },
    "executionInfo": {
     "status": "ok",
     "timestamp": 1670240489886,
     "user_tz": -60,
     "elapsed": 5,
     "user": {
      "displayName": "Diego Chinellato",
      "userId": "17373725090461795110"
     }
    },
    "outputId": "95ec990b-3c35-442b-bd47-c92f2c00ff5e",
    "pycharm": {
     "name": "#%%\n"
    }
   },
   "execution_count": null,
   "outputs": [
    {
     "output_type": "execute_result",
     "data": {
      "text/plain": [
       "['red', 'yellow', 'blue', 'violet']"
      ]
     },
     "metadata": {},
     "execution_count": 11
    }
   ]
  },
  {
   "cell_type": "code",
   "source": [
    "lst[::2]"
   ],
   "metadata": {
    "id": "ESqzM5M4Ig7C",
    "colab": {
     "base_uri": "https://localhost:8080/"
    },
    "executionInfo": {
     "status": "ok",
     "timestamp": 1670240494722,
     "user_tz": -60,
     "elapsed": 236,
     "user": {
      "displayName": "Diego Chinellato",
      "userId": "17373725090461795110"
     }
    },
    "outputId": "f0ce20ae-c2ff-4b44-c8eb-58863cfbd6e5",
    "pycharm": {
     "name": "#%%\n"
    }
   },
   "execution_count": null,
   "outputs": [
    {
     "output_type": "execute_result",
     "data": {
      "text/plain": [
       "['red', 'yellow', 'blue', 'violet']"
      ]
     },
     "metadata": {},
     "execution_count": 12
    }
   ]
  },
  {
   "cell_type": "code",
   "source": [
    "lst[::-1]"
   ],
   "metadata": {
    "id": "ckFdAmK0IjGI",
    "colab": {
     "base_uri": "https://localhost:8080/"
    },
    "executionInfo": {
     "status": "ok",
     "timestamp": 1670240511266,
     "user_tz": -60,
     "elapsed": 3,
     "user": {
      "displayName": "Diego Chinellato",
      "userId": "17373725090461795110"
     }
    },
    "outputId": "93d5dc44-b16f-460d-e6d0-cd2ce8707a43",
    "pycharm": {
     "name": "#%%\n"
    }
   },
   "execution_count": null,
   "outputs": [
    {
     "output_type": "execute_result",
     "data": {
      "text/plain": [
       "['violet', 'indigo', 'blue', 'green', 'yellow', 'orange', 'red']"
      ]
     },
     "metadata": {},
     "execution_count": 13
    }
   ]
  },
  {
   "cell_type": "markdown",
   "metadata": {
    "id": "AqR6G6V8qLuG",
    "pycharm": {
     "name": "#%% md\n"
    }
   },
   "source": [
    "Lists are mutable: elements of a list can be replaced. Sublists can be replaced with other sublists."
   ]
  },
  {
   "cell_type": "code",
   "execution_count": null,
   "metadata": {
    "id": "JMoaCs0yqLuG",
    "colab": {
     "base_uri": "https://localhost:8080/"
    },
    "executionInfo": {
     "status": "ok",
     "timestamp": 1670240594268,
     "user_tz": -60,
     "elapsed": 230,
     "user": {
      "displayName": "Diego Chinellato",
      "userId": "17373725090461795110"
     }
    },
    "outputId": "d1e29e3d-9717-437c-b30a-58d2871410e2",
    "pycharm": {
     "name": "#%%\n"
    }
   },
   "outputs": [
    {
     "output_type": "stream",
     "name": "stdout",
     "text": [
      "['red', 'orange', 'yellow', 'green', 'blue', 'indigo', 'violet']\n",
      "['red', 'orange', 'yellow', 'green', 'blue', 'ultramarine', 'violet']\n"
     ]
    }
   ],
   "source": [
    "# original list\n",
    "my_list = ['red', 'orange', 'yellow', 'green', 'blue', 'indigo', 'violet']\n",
    "print(my_list)\n",
    "\n",
    "# modify one element\n",
    "my_list[-2] = 'ultramarine'\n",
    "\n",
    "# the new list\n",
    "print(my_list)"
   ]
  },
  {
   "cell_type": "code",
   "execution_count": null,
   "metadata": {
    "id": "IB2dwJMrqLuH",
    "pycharm": {
     "name": "#%%\n"
    }
   },
   "outputs": [],
   "source": [
    "my_list = ['red', 'orange', 'yellow', 'green', 'blue', 'indigo', 'violet']\n",
    "my_list[4] = ['light blue', 'blue', 'dark blue']\n",
    "print(my_list)"
   ]
  },
  {
   "cell_type": "code",
   "execution_count": null,
   "metadata": {
    "id": "aPF-fpcfqLuH",
    "colab": {
     "base_uri": "https://localhost:8080/"
    },
    "executionInfo": {
     "status": "ok",
     "timestamp": 1670240616415,
     "user_tz": -60,
     "elapsed": 249,
     "user": {
      "displayName": "Diego Chinellato",
      "userId": "17373725090461795110"
     }
    },
    "outputId": "a52e1d25-5683-44b5-f5a9-cfae22f34655",
    "pycharm": {
     "name": "#%%\n"
    }
   },
   "outputs": [
    {
     "output_type": "stream",
     "name": "stdout",
     "text": [
      "['red', 'orange', 'yellow', 'green', 'light blue', 'blue', 'dark blue', 'indigo', 'violet']\n"
     ]
    }
   ],
   "source": [
    "# here we replace one slice with another slice\n",
    "my_list = ['red', 'orange', 'yellow', 'green', 'blue', 'indigo', 'violet']\n",
    "my_list[4:5] = ['light blue', 'blue', 'dark blue']\n",
    "print(my_list)"
   ]
  },
  {
   "cell_type": "code",
   "execution_count": null,
   "metadata": {
    "id": "-aK135FQqLuH",
    "pycharm": {
     "name": "#%%\n"
    }
   },
   "outputs": [],
   "source": [
    "# A special case of replacement when start and end index are the same\n",
    "my_list = ['red', 'orange', 'yellow', 'green', 'blue', 'indigo', 'violet']\n",
    "my_list[5:5] = ['dark blue', 'darker blue'] \n",
    "print(my_list)"
   ]
  },
  {
   "cell_type": "code",
   "execution_count": null,
   "metadata": {
    "id": "IFKhIRVQqLuH",
    "pycharm": {
     "name": "#%%\n"
    }
   },
   "outputs": [],
   "source": [
    "my_list = ['red', 'orange', 'yellow', 'green', 'blue', 'indigo', 'violet']\n",
    "my_list[2] = []\n",
    "print(my_list)"
   ]
  },
  {
   "cell_type": "code",
   "execution_count": null,
   "metadata": {
    "id": "1P9WYLFLqLuH",
    "pycharm": {
     "name": "#%%\n"
    }
   },
   "outputs": [],
   "source": [
    "my_list = ['red', 'orange', 'yellow', 'green', 'blue', 'indigo', 'violet']\n",
    "my_list[2:3] = []\n",
    "print(my_list)"
   ]
  },
  {
   "cell_type": "code",
   "execution_count": null,
   "metadata": {
    "id": "5tFM5TWBqLuH",
    "pycharm": {
     "name": "#%%\n"
    }
   },
   "outputs": [],
   "source": [
    "my_list = ['red', 'orange', 'yellow', 'green', 'blue', 'indigo', 'violet']\n",
    "\n",
    "print(f\"Is orange in the rainbow? {'orange' in my_list}\")\n",
    "\n",
    "print(f\"Is brown in the rainbow? {'brown' in my_list}\")\n",
    "\n",
    "print(f\"Is it true that cobalt is not in the rainbow? {'cobalt' not in my_list}\")"
   ]
  },
  {
   "cell_type": "markdown",
   "metadata": {
    "id": "5KdK4eE-qLuJ",
    "pycharm": {
     "name": "#%% md\n"
    }
   },
   "source": [
    "#### [EXTRA] Careful when swapping variables with lists!\n",
    "\n",
    "**Check** in python tutor: http://pythontutor.com/  !"
   ]
  },
  {
   "cell_type": "code",
   "execution_count": null,
   "metadata": {
    "id": "h-hYLuqUqLuJ",
    "pycharm": {
     "name": "#%%\n"
    }
   },
   "outputs": [],
   "source": [
    "a = 11\n",
    "b = a\n",
    "a = 22\n",
    "print(a,b)"
   ]
  },
  {
   "cell_type": "code",
   "execution_count": null,
   "metadata": {
    "id": "AyBPxkreqLuJ",
    "pycharm": {
     "name": "#%%\n"
    }
   },
   "outputs": [],
   "source": [
    "a = [11]\n",
    "b = a\n",
    "a[0] = 22\n",
    "print(a,b)"
   ]
  },
  {
   "cell_type": "code",
   "execution_count": null,
   "metadata": {
    "id": "Z_lI--4KqLuJ",
    "pycharm": {
     "name": "#%%\n"
    }
   },
   "outputs": [],
   "source": [
    "my_list = [1,2,3]\n",
    "new_list = my_list\n",
    "new_list[1] = 77\n",
    "\n",
    "print(new_list + my_list)"
   ]
  },
  {
   "cell_type": "code",
   "execution_count": null,
   "metadata": {
    "id": "_WGXrXmIqLuJ",
    "pycharm": {
     "name": "#%%\n"
    }
   },
   "outputs": [],
   "source": [
    "my_list = [1,2,3] * 2\n",
    "print(my_list)"
   ]
  },
  {
   "cell_type": "code",
   "execution_count": null,
   "metadata": {
    "id": "6UdJX-AAqLuJ",
    "pycharm": {
     "name": "#%%\n"
    }
   },
   "outputs": [],
   "source": [
    "my_list = [ [1,2,3] ]*2\n",
    "print(my_list)"
   ]
  },
  {
   "cell_type": "code",
   "execution_count": null,
   "metadata": {
    "id": "k3hqKA38qLuJ",
    "pycharm": {
     "name": "#%%\n"
    }
   },
   "outputs": [],
   "source": [
    "my_list[0]+= [4]\n",
    "print(my_list)"
   ]
  },
  {
   "cell_type": "code",
   "execution_count": null,
   "metadata": {
    "id": "5yvWfeazqLuJ",
    "pycharm": {
     "name": "#%%\n"
    }
   },
   "outputs": [],
   "source": [
    "my_tuple = (1,2,3)\n",
    "new_tuple = my_tuple\n",
    "my_tuple += tuple([77])\n",
    "\n",
    "print(new_tuple + my_tuple)"
   ]
  },
  {
   "cell_type": "code",
   "execution_count": null,
   "metadata": {
    "id": "gg9Bq46GqLuK",
    "pycharm": {
     "name": "#%%\n"
    }
   },
   "outputs": [],
   "source": [
    "# if you want to actually copy a list\n",
    "a = [11]\n",
    "b = a.copy()\n",
    "a[0] = 22\n",
    "print(a,b)"
   ]
  },
  {
   "cell_type": "code",
   "execution_count": null,
   "metadata": {
    "id": "MKCRiLm7qLuK",
    "pycharm": {
     "name": "#%%\n"
    }
   },
   "outputs": [],
   "source": [
    "a = [11]\n",
    "b = list(a)\n",
    "a[0] = 22\n",
    "print(a,b)"
   ]
  },
  {
   "cell_type": "code",
   "execution_count": null,
   "metadata": {
    "id": "ZchkXVdKqLuK",
    "pycharm": {
     "name": "#%%\n"
    }
   },
   "outputs": [],
   "source": [
    "a = [11]\n",
    "b = a[:]\n",
    "a[0] = 22\n",
    "print(a,b)"
   ]
  },
  {
   "cell_type": "markdown",
   "metadata": {
    "id": "YHtuNfeGqLuH",
    "pycharm": {
     "name": "#%% md\n"
    }
   },
   "source": [
    "### Tuple\n",
    "\n",
    "Like lists, but **immutable**."
   ]
  },
  {
   "cell_type": "code",
   "execution_count": null,
   "metadata": {
    "id": "kUc64Z-AqLuH",
    "colab": {
     "base_uri": "https://localhost:8080/"
    },
    "executionInfo": {
     "status": "ok",
     "timestamp": 1670240667325,
     "user_tz": -60,
     "elapsed": 233,
     "user": {
      "displayName": "Diego Chinellato",
      "userId": "17373725090461795110"
     }
    },
    "outputId": "206fa7f4-6732-4ebf-dbcb-f8dab5d5a55a",
    "pycharm": {
     "name": "#%%\n"
    }
   },
   "outputs": [
    {
     "output_type": "stream",
     "name": "stdout",
     "text": [
      "(1, 2, 3, 4, 'five')\n",
      "3\n"
     ]
    }
   ],
   "source": [
    "my_tuple = (1,2,3,4, \"five\")\n",
    "\n",
    "print(my_tuple)\n",
    "print(my_tuple[2])"
   ]
  },
  {
   "cell_type": "code",
   "execution_count": null,
   "metadata": {
    "id": "8dDnlsg-qLuI",
    "colab": {
     "base_uri": "https://localhost:8080/"
    },
    "executionInfo": {
     "status": "ok",
     "timestamp": 1670240667558,
     "user_tz": -60,
     "elapsed": 3,
     "user": {
      "displayName": "Diego Chinellato",
      "userId": "17373725090461795110"
     }
    },
    "outputId": "8b1016e6-1d73-4a02-c85d-28a90115647a",
    "pycharm": {
     "name": "#%%\n"
    }
   },
   "outputs": [
    {
     "output_type": "stream",
     "name": "stdout",
     "text": [
      "(1, 2, 3, 4, 'five')\n",
      "3\n"
     ]
    }
   ],
   "source": [
    "my_tuple = (1,2,3) + (4, \"five\")\n",
    "\n",
    "print(my_tuple)\n",
    "print(my_tuple[2])"
   ]
  },
  {
   "cell_type": "code",
   "execution_count": null,
   "metadata": {
    "id": "C7d9Kng8qLuI",
    "colab": {
     "base_uri": "https://localhost:8080/",
     "height": 165
    },
    "executionInfo": {
     "status": "error",
     "timestamp": 1670240669490,
     "user_tz": -60,
     "elapsed": 6,
     "user": {
      "displayName": "Diego Chinellato",
      "userId": "17373725090461795110"
     }
    },
    "outputId": "ca86708b-2c37-4928-c08f-3c0e775640ee",
    "pycharm": {
     "name": "#%%\n"
    }
   },
   "outputs": [
    {
     "output_type": "error",
     "ename": "TypeError",
     "evalue": "ignored",
     "traceback": [
      "\u001B[0;31m---------------------------------------------------------------------------\u001B[0m",
      "\u001B[0;31mTypeError\u001B[0m                                 Traceback (most recent call last)",
      "\u001B[0;32m<ipython-input-19-b49643ee8aba>\u001B[0m in \u001B[0;36m<module>\u001B[0;34m\u001B[0m\n\u001B[0;32m----> 1\u001B[0;31m \u001B[0mmy_tuple\u001B[0m\u001B[0;34m[\u001B[0m\u001B[0;36m2\u001B[0m\u001B[0;34m]\u001B[0m \u001B[0;34m=\u001B[0m \u001B[0;36m3\u001B[0m\u001B[0;34m\u001B[0m\u001B[0;34m\u001B[0m\u001B[0m\n\u001B[0m",
      "\u001B[0;31mTypeError\u001B[0m: 'tuple' object does not support item assignment"
     ]
    }
   ],
   "source": [
    "my_tuple[2] = 3"
   ]
  },
  {
   "cell_type": "markdown",
   "metadata": {
    "id": "u68dhvipqLuI",
    "pycharm": {
     "name": "#%% md\n"
    }
   },
   "source": [
    "#### Unpacking\n",
    "\n",
    "Multiple assignment, typical of function returning multiple values."
   ]
  },
  {
   "cell_type": "code",
   "execution_count": null,
   "metadata": {
    "id": "MCQzHoT6qLuI",
    "colab": {
     "base_uri": "https://localhost:8080/"
    },
    "executionInfo": {
     "status": "ok",
     "timestamp": 1670240710771,
     "user_tz": -60,
     "elapsed": 231,
     "user": {
      "displayName": "Diego Chinellato",
      "userId": "17373725090461795110"
     }
    },
    "outputId": "534edf1e-4e0f-4d05-fe2a-6634f5865d87",
    "pycharm": {
     "name": "#%%\n"
    }
   },
   "outputs": [
    {
     "output_type": "stream",
     "name": "stdout",
     "text": [
      "1 2 3\n"
     ]
    }
   ],
   "source": [
    "my_tuple = (1,2,3)\n",
    "a,b,c = my_tuple\n",
    "print(a,b,c)"
   ]
  },
  {
   "cell_type": "code",
   "execution_count": null,
   "metadata": {
    "id": "MueGYbbVqLuI",
    "colab": {
     "base_uri": "https://localhost:8080/"
    },
    "executionInfo": {
     "status": "ok",
     "timestamp": 1670240711013,
     "user_tz": -60,
     "elapsed": 3,
     "user": {
      "displayName": "Diego Chinellato",
      "userId": "17373725090461795110"
     }
    },
    "outputId": "598d0458-0c01-4c24-88b5-35147dba4233",
    "pycharm": {
     "name": "#%%\n"
    }
   },
   "outputs": [
    {
     "output_type": "stream",
     "name": "stdout",
     "text": [
      "1 2 3\n"
     ]
    }
   ],
   "source": [
    "my_list = [1,2,3]\n",
    "a,b,c = my_list\n",
    "print(a,b,c)"
   ]
  },
  {
   "cell_type": "markdown",
   "metadata": {
    "id": "D9OhA9UqoUju",
    "pycharm": {
     "name": "#%% md\n"
    }
   },
   "source": [
    "### Dictionaries\n",
    "Dictionaries contain (key,value) pairs. The key-set contains unique objects (no duplicate keys). A dictionary is essentially a map (function)."
   ]
  },
  {
   "cell_type": "code",
   "execution_count": null,
   "metadata": {
    "id": "MAqW2hVlqLuN",
    "colab": {
     "base_uri": "https://localhost:8080/",
     "height": 200
    },
    "executionInfo": {
     "status": "error",
     "timestamp": 1670240882167,
     "user_tz": -60,
     "elapsed": 10,
     "user": {
      "displayName": "Diego Chinellato",
      "userId": "17373725090461795110"
     }
    },
    "outputId": "4a1073cf-59f2-4f8f-c148-33c063272a0b",
    "pycharm": {
     "name": "#%%\n"
    }
   },
   "outputs": [
    {
     "output_type": "error",
     "ename": "KeyError",
     "evalue": "ignored",
     "traceback": [
      "\u001B[0;31m---------------------------------------------------------------------------\u001B[0m",
      "\u001B[0;31mKeyError\u001B[0m                                  Traceback (most recent call last)",
      "\u001B[0;32m<ipython-input-23-b5e39c4a2c63>\u001B[0m in \u001B[0;36m<module>\u001B[0;34m\u001B[0m\n\u001B[1;32m      2\u001B[0m            7:\"Jul\", 8:\"Aug\", 9:\"Sep\", 10:\"Oct\", 11:\"Nov\", 12:\"Dec\"}\n\u001B[1;32m      3\u001B[0m \u001B[0;34m\u001B[0m\u001B[0m\n\u001B[0;32m----> 4\u001B[0;31m \u001B[0mprint\u001B[0m\u001B[0;34m(\u001B[0m\u001B[0mmy_dict\u001B[0m\u001B[0;34m[\u001B[0m\u001B[0;36m0\u001B[0m\u001B[0;34m]\u001B[0m\u001B[0;34m)\u001B[0m\u001B[0;34m\u001B[0m\u001B[0;34m\u001B[0m\u001B[0m\n\u001B[0m",
      "\u001B[0;31mKeyError\u001B[0m: 0"
     ]
    }
   ],
   "source": [
    "my_dict = {1:\"Jan\", 2:\"Feb\", 3:\"Mar\", 4:\"Apr\", 5:\"May\", 6:\"Jun\",\n",
    "           7:\"Jul\", 8:\"Aug\", 9:\"Sep\", 10:\"Oct\", 11:\"Nov\", 12:\"Dec\"}\n",
    "\n",
    "print(my_dict[0])"
   ]
  },
  {
   "cell_type": "code",
   "source": [
    "print(my_dict[1])\n",
    "print(my_dict[12])"
   ],
   "metadata": {
    "id": "pvFG5s-IQZcx",
    "colab": {
     "base_uri": "https://localhost:8080/"
    },
    "executionInfo": {
     "status": "ok",
     "timestamp": 1670240897742,
     "user_tz": -60,
     "elapsed": 235,
     "user": {
      "displayName": "Diego Chinellato",
      "userId": "17373725090461795110"
     }
    },
    "outputId": "c63064fb-6f82-4dd4-cc43-ba7c3b41c8a4",
    "pycharm": {
     "name": "#%%\n"
    }
   },
   "execution_count": null,
   "outputs": [
    {
     "output_type": "stream",
     "name": "stdout",
     "text": [
      "Jan\n",
      "Dec\n"
     ]
    }
   ]
  },
  {
   "cell_type": "code",
   "execution_count": null,
   "metadata": {
    "id": "g4mYq_asqLuN",
    "colab": {
     "base_uri": "https://localhost:8080/"
    },
    "executionInfo": {
     "status": "ok",
     "timestamp": 1670240910625,
     "user_tz": -60,
     "elapsed": 761,
     "user": {
      "displayName": "Diego Chinellato",
      "userId": "17373725090461795110"
     }
    },
    "outputId": "2437ab3a-40e5-4cdd-a4b8-39186a5946d3",
    "pycharm": {
     "name": "#%%\n"
    }
   },
   "outputs": [
    {
     "output_type": "stream",
     "name": "stdout",
     "text": [
      "{1: 777, 2: 'Feb', 3: 'Mar', 4: 'Apr', 5: 'May', 6: 'Jun', 7: 'Jul', 8: 'Aug', 9: 'Sep', 10: 'Oct', 11: 'Nov', -1: 777}\n"
     ]
    }
   ],
   "source": [
    "# update value associated with key 1\n",
    "my_dict[1] = 777\n",
    "# create a new (key, value) pair\n",
    "my_dict[-1] = 777\n",
    "# delete a (key, value) pair\n",
    "del my_dict[12]\n",
    "print(my_dict)"
   ]
  },
  {
   "cell_type": "code",
   "execution_count": null,
   "metadata": {
    "id": "Pbc4t0luqLuO",
    "colab": {
     "base_uri": "https://localhost:8080/"
    },
    "executionInfo": {
     "status": "ok",
     "timestamp": 1670240931915,
     "user_tz": -60,
     "elapsed": 286,
     "user": {
      "displayName": "Diego Chinellato",
      "userId": "17373725090461795110"
     }
    },
    "outputId": "86238c96-8a79-4fc1-f40a-75135aafc148",
    "pycharm": {
     "name": "#%%\n"
    }
   },
   "outputs": [
    {
     "output_type": "stream",
     "name": "stdout",
     "text": [
      "True\n",
      "False\n"
     ]
    }
   ],
   "source": [
    "print(1 in my_dict)\n",
    "print(12 in my_dict)"
   ]
  },
  {
   "cell_type": "code",
   "execution_count": null,
   "metadata": {
    "id": "2EEQNDpNqLuO",
    "colab": {
     "base_uri": "https://localhost:8080/"
    },
    "executionInfo": {
     "status": "ok",
     "timestamp": 1670240934949,
     "user_tz": -60,
     "elapsed": 234,
     "user": {
      "displayName": "Diego Chinellato",
      "userId": "17373725090461795110"
     }
    },
    "outputId": "85e83b7f-8a64-4453-c975-d292e069f973",
    "pycharm": {
     "name": "#%%\n"
    }
   },
   "outputs": [
    {
     "output_type": "stream",
     "name": "stdout",
     "text": [
      "dict_keys([1, 2, 3, 4, 5, 6, 7, 8, 9, 10, 11, -1])\n"
     ]
    }
   ],
   "source": [
    "print(my_dict.keys())"
   ]
  },
  {
   "cell_type": "code",
   "execution_count": null,
   "metadata": {
    "id": "TNRycV42qLuO",
    "colab": {
     "base_uri": "https://localhost:8080/"
    },
    "executionInfo": {
     "status": "ok",
     "timestamp": 1670240935190,
     "user_tz": -60,
     "elapsed": 3,
     "user": {
      "displayName": "Diego Chinellato",
      "userId": "17373725090461795110"
     }
    },
    "outputId": "32150556-a29e-46d6-a024-dd8dc2bf12b5",
    "pycharm": {
     "name": "#%%\n"
    }
   },
   "outputs": [
    {
     "output_type": "stream",
     "name": "stdout",
     "text": [
      "dict_values([777, 'Feb', 'Mar', 'Apr', 'May', 'Jun', 'Jul', 'Aug', 'Sep', 'Oct', 'Nov', 777])\n"
     ]
    }
   ],
   "source": [
    "print(my_dict.values())"
   ]
  },
  {
   "cell_type": "code",
   "execution_count": null,
   "metadata": {
    "id": "hNxqXvOgqLuO",
    "colab": {
     "base_uri": "https://localhost:8080/"
    },
    "executionInfo": {
     "status": "ok",
     "timestamp": 1670240946251,
     "user_tz": -60,
     "elapsed": 227,
     "user": {
      "displayName": "Diego Chinellato",
      "userId": "17373725090461795110"
     }
    },
    "outputId": "52511dbd-1802-4117-d934-446580b32a00",
    "pycharm": {
     "name": "#%%\n"
    }
   },
   "outputs": [
    {
     "output_type": "stream",
     "name": "stdout",
     "text": [
      "1\n",
      "2\n",
      "3\n",
      "4\n",
      "5\n",
      "6\n",
      "7\n",
      "8\n",
      "9\n",
      "10\n",
      "11\n",
      "-1\n"
     ]
    }
   ],
   "source": [
    "for k in my_dict:\n",
    "    print(k)"
   ]
  },
  {
   "cell_type": "code",
   "execution_count": null,
   "metadata": {
    "id": "M5VBiCRAqLuO",
    "colab": {
     "base_uri": "https://localhost:8080/"
    },
    "executionInfo": {
     "status": "ok",
     "timestamp": 1670240957035,
     "user_tz": -60,
     "elapsed": 245,
     "user": {
      "displayName": "Diego Chinellato",
      "userId": "17373725090461795110"
     }
    },
    "outputId": "a97e5183-ed30-4dc9-900a-20fbb1aead84",
    "pycharm": {
     "name": "#%%\n"
    }
   },
   "outputs": [
    {
     "output_type": "stream",
     "name": "stdout",
     "text": [
      "1 777\n",
      "2 Feb\n",
      "3 Mar\n",
      "4 Apr\n",
      "5 May\n",
      "6 Jun\n",
      "7 Jul\n",
      "8 Aug\n",
      "9 Sep\n",
      "10 Oct\n",
      "11 Nov\n",
      "-1 777\n"
     ]
    }
   ],
   "source": [
    "for k, v in my_dict.items():\n",
    "    print(k,v)"
   ]
  },
  {
   "cell_type": "code",
   "source": [
    "s = 'ciao mi cbiamo diego e sono qui'\n",
    "\n",
    "def foo(s):\n",
    "  res = dic"
   ],
   "metadata": {
    "id": "2ZbaLAnwHp6N",
    "pycharm": {
     "name": "#%%\n"
    }
   },
   "execution_count": null,
   "outputs": []
  },
  {
   "cell_type": "markdown",
   "metadata": {
    "id": "NflYCBRVqLuN",
    "pycharm": {
     "name": "#%% md\n"
    }
   },
   "source": [
    "### Sets\n",
    "\n",
    "The mathematical notion of set (a sequence of unique objects)."
   ]
  },
  {
   "cell_type": "code",
   "execution_count": null,
   "metadata": {
    "id": "YG3A2vGDqLuN",
    "pycharm": {
     "name": "#%%\n"
    }
   },
   "outputs": [],
   "source": [
    "# equivalent notations\n",
    "my_set = set([1,2,3,4,5,4,3,2,1])\n",
    "my_set = {1,2,3,4,5,4,3,2,1}\n",
    "\n",
    "print(my_set)"
   ]
  },
  {
   "cell_type": "code",
   "execution_count": null,
   "metadata": {
    "id": "tiiKhL24qLuN",
    "pycharm": {
     "name": "#%%\n"
    }
   },
   "outputs": [],
   "source": [
    "A = set([1,2,3])\n",
    "B = set([4,5])\n",
    "# set union\n",
    "C = A | B\n",
    "\n",
    "print(C)"
   ]
  },
  {
   "cell_type": "code",
   "execution_count": null,
   "metadata": {
    "id": "E1l0vweaqLuN",
    "pycharm": {
     "name": "#%%\n"
    }
   },
   "outputs": [],
   "source": [
    "A = set([1,2,3])\n",
    "B = set([3,4,5])\n",
    "# set intersection\n",
    "C = A & B\n",
    "\n",
    "print(C)"
   ]
  },
  {
   "cell_type": "code",
   "execution_count": null,
   "metadata": {
    "id": "sikdr17SqLuN",
    "pycharm": {
     "name": "#%%\n"
    }
   },
   "outputs": [],
   "source": [
    "A = set([1,2,3])\n",
    "B = set([3,4,5])\n",
    "# set difference\n",
    "C = A - B\n",
    "\n",
    "print(C)"
   ]
  },
  {
   "cell_type": "code",
   "execution_count": null,
   "metadata": {
    "id": "RCJKi180qLuN",
    "pycharm": {
     "name": "#%%\n"
    }
   },
   "outputs": [],
   "source": [
    "A = set([1,2,3])\n",
    "\n",
    "print(1 in A)\n",
    "print(7 not in A)"
   ]
  },
  {
   "cell_type": "code",
   "execution_count": null,
   "metadata": {
    "id": "i-VGGfCRoUju",
    "colab": {
     "base_uri": "https://localhost:8080/"
    },
    "executionInfo": {
     "status": "ok",
     "timestamp": 1670233011877,
     "user_tz": -60,
     "elapsed": 200,
     "user": {
      "displayName": "Diego Chinellato",
      "userId": "17373725090461795110"
     }
    },
    "outputId": "7d94092f-2f9f-4601-ad7a-ce49110628a8",
    "pycharm": {
     "name": "#%%\n"
    }
   },
   "outputs": [
    {
     "output_type": "stream",
     "name": "stdout",
     "text": [
      "{'dog', 'cat', 'bird'}\n"
     ]
    }
   ],
   "source": [
    "A = {'cat', 'dog'}\n",
    "\n",
    "# Adding an element to a set\n",
    "A.add('bird')\n",
    "print(A)"
   ]
  },
  {
   "cell_type": "code",
   "execution_count": null,
   "metadata": {
    "id": "nfQ7_7gXoUjv",
    "colab": {
     "base_uri": "https://localhost:8080/"
    },
    "executionInfo": {
     "status": "ok",
     "timestamp": 1670233013789,
     "user_tz": -60,
     "elapsed": 2,
     "user": {
      "displayName": "Diego Chinellato",
      "userId": "17373725090461795110"
     }
    },
    "outputId": "38f7f067-420c-45c6-c32a-1b241afc241e",
    "pycharm": {
     "name": "#%%\n"
    }
   },
   "outputs": [
    {
     "output_type": "stream",
     "name": "stdout",
     "text": [
      "{'dog', 'cat', 'bird'}\n"
     ]
    }
   ],
   "source": [
    "# Ignore adding duplicate items\n",
    "A.add('bird') \n",
    "print(A)"
   ]
  },
  {
   "cell_type": "code",
   "execution_count": null,
   "metadata": {
    "id": "R-tJxjd8oUjv",
    "colab": {
     "base_uri": "https://localhost:8080/"
    },
    "executionInfo": {
     "status": "ok",
     "timestamp": 1670233021176,
     "user_tz": -60,
     "elapsed": 239,
     "user": {
      "displayName": "Diego Chinellato",
      "userId": "17373725090461795110"
     }
    },
    "outputId": "2cd01fca-5ed6-46fd-8866-25de430dda14",
    "pycharm": {
     "name": "#%%\n"
    }
   },
   "outputs": [
    {
     "output_type": "stream",
     "name": "stdout",
     "text": [
      "{'dog', 'fish'}\n"
     ]
    }
   ],
   "source": [
    "# Converting a list to a set\n",
    "lst = ['dog', 'dog', 'dog', 'fish']\n",
    "\n",
    "# Casting list to set will delete duplicate items\n",
    "A = set(lst) \n",
    "print(A)"
   ]
  },
  {
   "cell_type": "markdown",
   "source": [
    "### Mind the data structure!\n",
    "Each data structure has its own purposes. Always think about the reasons why you can prefer one over the other. For example, checking if an element is present in a list is sooo slower than checking in a set:"
   ],
   "metadata": {
    "id": "vNuPWFzNWHY0",
    "pycharm": {
     "name": "#%% md\n"
    }
   }
  },
  {
   "cell_type": "code",
   "source": [
    "l = list(range(1000000))\n",
    "s = set(range(1000000))"
   ],
   "metadata": {
    "id": "ACXOrEvbVv0L",
    "pycharm": {
     "name": "#%%\n"
    }
   },
   "execution_count": null,
   "outputs": []
  },
  {
   "cell_type": "markdown",
   "source": [
    "With the %timeit magic we can quickly check for execution runtime:"
   ],
   "metadata": {
    "id": "jqf0WKMWPMEq",
    "pycharm": {
     "name": "#%% md\n"
    }
   }
  },
  {
   "cell_type": "code",
   "source": [
    "%timeit 555555 in l"
   ],
   "metadata": {
    "id": "sUEv9juMV0mc",
    "colab": {
     "base_uri": "https://localhost:8080/"
    },
    "executionInfo": {
     "status": "ok",
     "timestamp": 1670233209102,
     "user_tz": -60,
     "elapsed": 6516,
     "user": {
      "displayName": "Diego Chinellato",
      "userId": "17373725090461795110"
     }
    },
    "outputId": "8d2a3b76-9b74-4379-bac0-3867f1f43a21",
    "pycharm": {
     "name": "#%%\n"
    }
   },
   "execution_count": null,
   "outputs": [
    {
     "output_type": "stream",
     "name": "stdout",
     "text": [
      "7.57 ms ± 102 µs per loop (mean ± std. dev. of 7 runs, 100 loops each)\n"
     ]
    }
   ]
  },
  {
   "cell_type": "code",
   "source": [
    "%timeit 999999 in s"
   ],
   "metadata": {
    "id": "gVaSrGNlV9Ld",
    "colab": {
     "base_uri": "https://localhost:8080/"
    },
    "executionInfo": {
     "status": "ok",
     "timestamp": 1670233097887,
     "user_tz": -60,
     "elapsed": 4730,
     "user": {
      "displayName": "Diego Chinellato",
      "userId": "17373725090461795110"
     }
    },
    "outputId": "4686997c-0b3e-415c-8a2f-fce84d818bd1",
    "pycharm": {
     "name": "#%%\n"
    }
   },
   "execution_count": null,
   "outputs": [
    {
     "output_type": "stream",
     "name": "stdout",
     "text": [
      "63.5 ns ± 0.99 ns per loop (mean ± std. dev. of 7 runs, 10000000 loops each)\n"
     ]
    }
   ]
  },
  {
   "cell_type": "markdown",
   "metadata": {
    "id": "TdySs8vuqLuO",
    "pycharm": {
     "name": "#%% md\n"
    }
   },
   "source": [
    "### Comprehensions\n",
    "\n",
    "That is, creating lists or other iterables in a compact and (usually) more efficient way."
   ]
  },
  {
   "cell_type": "code",
   "execution_count": null,
   "metadata": {
    "id": "JizAHaZKqLuO",
    "colab": {
     "base_uri": "https://localhost:8080/"
    },
    "executionInfo": {
     "status": "ok",
     "timestamp": 1670233248790,
     "user_tz": -60,
     "elapsed": 225,
     "user": {
      "displayName": "Diego Chinellato",
      "userId": "17373725090461795110"
     }
    },
    "outputId": "7a117ae2-f539-4345-a66f-47ef9aa50f27",
    "pycharm": {
     "name": "#%%\n"
    }
   },
   "outputs": [
    {
     "output_type": "execute_result",
     "data": {
      "text/plain": [
       "[0, 1, 4, 9, 16, 25, 36, 49, 64, 81]"
      ]
     },
     "metadata": {},
     "execution_count": 19
    }
   ],
   "source": [
    "my_list = [x**2 for x in range(10)]\n",
    "my_list"
   ]
  },
  {
   "cell_type": "code",
   "execution_count": null,
   "metadata": {
    "id": "WDHfuOCxqLuO",
    "colab": {
     "base_uri": "https://localhost:8080/"
    },
    "executionInfo": {
     "status": "ok",
     "timestamp": 1670233270783,
     "user_tz": -60,
     "elapsed": 4,
     "user": {
      "displayName": "Diego Chinellato",
      "userId": "17373725090461795110"
     }
    },
    "outputId": "ee0887eb-5927-43a5-b0fa-408c69ad33a3",
    "pycharm": {
     "name": "#%%\n"
    }
   },
   "outputs": [
    {
     "output_type": "execute_result",
     "data": {
      "text/plain": [
       "[0, 4, 16, 36, 64]"
      ]
     },
     "metadata": {},
     "execution_count": 20
    }
   ],
   "source": [
    "my_list = [x**2 for x in range(10) if x%2==0]\n",
    "my_list"
   ]
  },
  {
   "cell_type": "code",
   "execution_count": null,
   "metadata": {
    "id": "6OsYDTV7qLuP",
    "colab": {
     "base_uri": "https://localhost:8080/"
    },
    "executionInfo": {
     "status": "ok",
     "timestamp": 1670233276448,
     "user_tz": -60,
     "elapsed": 212,
     "user": {
      "displayName": "Diego Chinellato",
      "userId": "17373725090461795110"
     }
    },
    "outputId": "682b0222-dae2-4a7b-a5a5-f7bf25ab33fb",
    "pycharm": {
     "name": "#%%\n"
    }
   },
   "outputs": [
    {
     "output_type": "execute_result",
     "data": {
      "text/plain": [
       "{0: 0, 2: 4, 4: 16, 6: 36, 8: 64}"
      ]
     },
     "metadata": {},
     "execution_count": 21
    }
   ],
   "source": [
    "my_dict = {x: x**2 for x in range(10) if x%2==0}\n",
    "my_dict"
   ]
  },
  {
   "cell_type": "code",
   "source": [
    "n = 100000\n",
    "def f1():\n",
    "  l = []\n",
    "  for i in range(n):\n",
    "    if i % 2 == 0:\n",
    "      l.append(i**2)\n",
    "  return l\n",
    "\n",
    "def f2():\n",
    "  return [i**2 for i in range(n) if i % 2 == 0]"
   ],
   "metadata": {
    "id": "50H2wR0UNVwE",
    "pycharm": {
     "name": "#%%\n"
    }
   },
   "execution_count": null,
   "outputs": []
  },
  {
   "cell_type": "code",
   "source": [
    "%timeit -r 50 -n 10 f1()"
   ],
   "metadata": {
    "id": "639AHzCeNX0H",
    "colab": {
     "base_uri": "https://localhost:8080/"
    },
    "executionInfo": {
     "status": "ok",
     "timestamp": 1670233318481,
     "user_tz": -60,
     "elapsed": 12023,
     "user": {
      "displayName": "Diego Chinellato",
      "userId": "17373725090461795110"
     }
    },
    "outputId": "f592c4db-05be-4971-e5ff-976345568806",
    "pycharm": {
     "name": "#%%\n"
    }
   },
   "execution_count": null,
   "outputs": [
    {
     "output_type": "stream",
     "name": "stdout",
     "text": [
      "23.4 ms ± 2.84 ms per loop (mean ± std. dev. of 50 runs, 10 loops each)\n"
     ]
    }
   ]
  },
  {
   "cell_type": "code",
   "source": [
    "%timeit -r 50 -n 10 f2()"
   ],
   "metadata": {
    "id": "JPw7u16sNYO4",
    "colab": {
     "base_uri": "https://localhost:8080/"
    },
    "executionInfo": {
     "status": "ok",
     "timestamp": 1670233328985,
     "user_tz": -60,
     "elapsed": 10508,
     "user": {
      "displayName": "Diego Chinellato",
      "userId": "17373725090461795110"
     }
    },
    "outputId": "f8e234df-724c-4a8f-c84d-36fec1f8ccfb",
    "pycharm": {
     "name": "#%%\n"
    }
   },
   "execution_count": null,
   "outputs": [
    {
     "output_type": "stream",
     "name": "stdout",
     "text": [
      "21.1 ms ± 677 µs per loop (mean ± std. dev. of 50 runs, 10 loops each)\n"
     ]
    }
   ]
  },
  {
   "cell_type": "markdown",
   "metadata": {
    "id": "fyXj65oBqLuI",
    "pycharm": {
     "name": "#%% md\n"
    }
   },
   "source": [
    "### Sorting\n",
    "\n",
    "In-place vs. returning a new list."
   ]
  },
  {
   "cell_type": "code",
   "execution_count": null,
   "metadata": {
    "id": "P6uLQhvWqLuI",
    "colab": {
     "base_uri": "https://localhost:8080/"
    },
    "executionInfo": {
     "status": "ok",
     "timestamp": 1670233430120,
     "user_tz": -60,
     "elapsed": 267,
     "user": {
      "displayName": "Diego Chinellato",
      "userId": "17373725090461795110"
     }
    },
    "outputId": "f643c6f0-4bd2-41f8-b451-819bd31ade57",
    "pycharm": {
     "name": "#%%\n"
    }
   },
   "outputs": [
    {
     "output_type": "stream",
     "name": "stdout",
     "text": [
      "[1, 2, 3]\n"
     ]
    }
   ],
   "source": [
    "my_list = [2,3,1]\n",
    "\n",
    "my_list.sort()\n",
    "\n",
    "print(my_list)"
   ]
  },
  {
   "cell_type": "code",
   "execution_count": null,
   "metadata": {
    "id": "WYVm3DptqLuI",
    "colab": {
     "base_uri": "https://localhost:8080/"
    },
    "executionInfo": {
     "status": "ok",
     "timestamp": 1670233430988,
     "user_tz": -60,
     "elapsed": 3,
     "user": {
      "displayName": "Diego Chinellato",
      "userId": "17373725090461795110"
     }
    },
    "outputId": "0ef2e711-8a3b-4f14-84b3-9975ec821c8e",
    "pycharm": {
     "name": "#%%\n"
    }
   },
   "outputs": [
    {
     "output_type": "stream",
     "name": "stdout",
     "text": [
      "[2, 3, 1]\n",
      "[1, 2, 3]\n"
     ]
    }
   ],
   "source": [
    "my_list = [2,3,1]\n",
    "\n",
    "new_list = sorted(my_list)\n",
    "\n",
    "print(my_list)\n",
    "print(new_list)"
   ]
  },
  {
   "cell_type": "markdown",
   "metadata": {
    "id": "8hHxez3eoUjx",
    "pycharm": {
     "name": "#%% md\n"
    }
   },
   "source": [
    "## 5. Functions"
   ]
  },
  {
   "cell_type": "markdown",
   "metadata": {
    "id": "n7mUoxcIoUjx",
    "pycharm": {
     "name": "#%% md\n"
    }
   },
   "source": [
    "Python functions are defined using the `def` keyword.\n",
    "\n",
    "Information can be passed to functions as parameter.\n",
    "\n",
    "Parameters are specified after the function name, inside the parentheses. You can add as many parameters as you want, just separate them with a comma. We can also define default values for parameters."
   ]
  },
  {
   "cell_type": "code",
   "execution_count": null,
   "metadata": {
    "id": "I5nj9XxeoUjx",
    "colab": {
     "base_uri": "https://localhost:8080/"
    },
    "executionInfo": {
     "status": "ok",
     "timestamp": 1670233530974,
     "user_tz": -60,
     "elapsed": 204,
     "user": {
      "displayName": "Diego Chinellato",
      "userId": "17373725090461795110"
     }
    },
    "outputId": "025c8964-9b1e-43d6-d42d-c196a695824f",
    "pycharm": {
     "name": "#%%\n"
    }
   },
   "outputs": [
    {
     "output_type": "stream",
     "name": "stdout",
     "text": [
      "-1\n",
      "1\n"
     ]
    }
   ],
   "source": [
    "# Defining a function with two parameters (x,y) and a default parameter (absolute_value)\n",
    "def diff(x, y, absolute_value=False): #absolute_value is an optional argument with default=False\n",
    "    if absolute_value:\n",
    "        return abs(x - y)\n",
    "    else:\n",
    "        return x - y\n",
    "\n",
    "# Calling the defined function\n",
    "d = diff(1,2)\n",
    "print(d)\n",
    "\n",
    "abs_d = diff(1,2,absolute_value=True)\n",
    "print(abs_d)"
   ]
  },
  {
   "cell_type": "markdown",
   "metadata": {
    "id": "hnSfFAXVqLuP",
    "pycharm": {
     "name": "#%% md\n"
    }
   },
   "source": [
    "Do not write code outside functions! Get used to move *stable* functions in a separate `module.py`."
   ]
  },
  {
   "cell_type": "code",
   "execution_count": null,
   "metadata": {
    "id": "SvNatoOZqLuP",
    "colab": {
     "base_uri": "https://localhost:8080/"
    },
    "executionInfo": {
     "status": "ok",
     "timestamp": 1670233558789,
     "user_tz": -60,
     "elapsed": 4,
     "user": {
      "displayName": "Diego Chinellato",
      "userId": "17373725090461795110"
     }
    },
    "outputId": "8a45e8bf-f300-4ab2-a4c9-8ec1d5713adc",
    "pycharm": {
     "name": "#%%\n"
    }
   },
   "outputs": [
    {
     "output_type": "execute_result",
     "data": {
      "text/plain": [
       "[1, 2, 4, 8, 16]"
      ]
     },
     "metadata": {},
     "execution_count": 28
    }
   ],
   "source": [
    "def powers(x,n):\n",
    "    return [x**i for i in range(n)]\n",
    "\n",
    "powers(2,5)"
   ]
  },
  {
   "cell_type": "code",
   "execution_count": null,
   "metadata": {
    "id": "Bk7PZSdHqLuP",
    "colab": {
     "base_uri": "https://localhost:8080/"
    },
    "executionInfo": {
     "status": "ok",
     "timestamp": 1670233593028,
     "user_tz": -60,
     "elapsed": 4,
     "user": {
      "displayName": "Diego Chinellato",
      "userId": "17373725090461795110"
     }
    },
    "outputId": "0f79efa8-4f87-4c92-f96f-302d0e318b23",
    "pycharm": {
     "name": "#%%\n"
    }
   },
   "outputs": [
    {
     "output_type": "execute_result",
     "data": {
      "text/plain": [
       "[1, 2, 4, 8, 16]"
      ]
     },
     "metadata": {},
     "execution_count": 29
    }
   ],
   "source": [
    "copy_f = powers\n",
    "\n",
    "copy_f(2,5)"
   ]
  },
  {
   "cell_type": "code",
   "source": [
    "l = list(range(100))\n",
    "foo = lambda x: x*2\n",
    "list(map(foo, l))"
   ],
   "metadata": {
    "colab": {
     "base_uri": "https://localhost:8080/"
    },
    "id": "S5XjN-1Hu-sz",
    "executionInfo": {
     "status": "ok",
     "timestamp": 1670838585380,
     "user_tz": -60,
     "elapsed": 3,
     "user": {
      "displayName": "Diego Chinellato",
      "userId": "17373725090461795110"
     }
    },
    "outputId": "f6753616-68de-4ee1-b541-b697b2d1bddc",
    "pycharm": {
     "name": "#%%\n"
    }
   },
   "execution_count": null,
   "outputs": [
    {
     "output_type": "execute_result",
     "data": {
      "text/plain": [
       "[0,\n",
       " 2,\n",
       " 4,\n",
       " 6,\n",
       " 8,\n",
       " 10,\n",
       " 12,\n",
       " 14,\n",
       " 16,\n",
       " 18,\n",
       " 20,\n",
       " 22,\n",
       " 24,\n",
       " 26,\n",
       " 28,\n",
       " 30,\n",
       " 32,\n",
       " 34,\n",
       " 36,\n",
       " 38,\n",
       " 40,\n",
       " 42,\n",
       " 44,\n",
       " 46,\n",
       " 48,\n",
       " 50,\n",
       " 52,\n",
       " 54,\n",
       " 56,\n",
       " 58,\n",
       " 60,\n",
       " 62,\n",
       " 64,\n",
       " 66,\n",
       " 68,\n",
       " 70,\n",
       " 72,\n",
       " 74,\n",
       " 76,\n",
       " 78,\n",
       " 80,\n",
       " 82,\n",
       " 84,\n",
       " 86,\n",
       " 88,\n",
       " 90,\n",
       " 92,\n",
       " 94,\n",
       " 96,\n",
       " 98,\n",
       " 100,\n",
       " 102,\n",
       " 104,\n",
       " 106,\n",
       " 108,\n",
       " 110,\n",
       " 112,\n",
       " 114,\n",
       " 116,\n",
       " 118,\n",
       " 120,\n",
       " 122,\n",
       " 124,\n",
       " 126,\n",
       " 128,\n",
       " 130,\n",
       " 132,\n",
       " 134,\n",
       " 136,\n",
       " 138,\n",
       " 140,\n",
       " 142,\n",
       " 144,\n",
       " 146,\n",
       " 148,\n",
       " 150,\n",
       " 152,\n",
       " 154,\n",
       " 156,\n",
       " 158,\n",
       " 160,\n",
       " 162,\n",
       " 164,\n",
       " 166,\n",
       " 168,\n",
       " 170,\n",
       " 172,\n",
       " 174,\n",
       " 176,\n",
       " 178,\n",
       " 180,\n",
       " 182,\n",
       " 184,\n",
       " 186,\n",
       " 188,\n",
       " 190,\n",
       " 192,\n",
       " 194,\n",
       " 196,\n",
       " 198]"
      ]
     },
     "metadata": {},
     "execution_count": 17
    }
   ]
  },
  {
   "cell_type": "code",
   "execution_count": null,
   "metadata": {
    "id": "tjetRl7UqLuP",
    "colab": {
     "base_uri": "https://localhost:8080/"
    },
    "executionInfo": {
     "status": "ok",
     "timestamp": 1670233609852,
     "user_tz": -60,
     "elapsed": 229,
     "user": {
      "displayName": "Diego Chinellato",
      "userId": "17373725090461795110"
     }
    },
    "outputId": "334f8bc3-6817-4ff9-edf5-64a6abce48cb",
    "pycharm": {
     "name": "#%%\n"
    }
   },
   "outputs": [
    {
     "output_type": "execute_result",
     "data": {
      "text/plain": [
       "[1, 3, 9]"
      ]
     },
     "metadata": {},
     "execution_count": 30
    }
   ],
   "source": [
    "§powers_3 = lambda x: powers(x,3)\n",
    "\n",
    "powers_3(3)"
   ]
  },
  {
   "cell_type": "code",
   "source": [
    "powers = lambda x, n: [x**i for i in range(n)]\n",
    "\n",
    "powers(3,3)"
   ],
   "metadata": {
    "id": "ijrG2u9cSxtr",
    "colab": {
     "base_uri": "https://localhost:8080/"
    },
    "executionInfo": {
     "status": "ok",
     "timestamp": 1670233644954,
     "user_tz": -60,
     "elapsed": 285,
     "user": {
      "displayName": "Diego Chinellato",
      "userId": "17373725090461795110"
     }
    },
    "outputId": "c714040d-9dda-4e55-db00-9e90361bf8fd",
    "pycharm": {
     "name": "#%%\n"
    }
   },
   "execution_count": null,
   "outputs": [
    {
     "output_type": "execute_result",
     "data": {
      "text/plain": [
       "[1, 3, 9]"
      ]
     },
     "metadata": {},
     "execution_count": 31
    }
   ]
  },
  {
   "cell_type": "code",
   "execution_count": null,
   "metadata": {
    "id": "yPcN-q--qLuP",
    "colab": {
     "base_uri": "https://localhost:8080/"
    },
    "executionInfo": {
     "status": "ok",
     "timestamp": 1670233663418,
     "user_tz": -60,
     "elapsed": 421,
     "user": {
      "displayName": "Diego Chinellato",
      "userId": "17373725090461795110"
     }
    },
    "outputId": "b39296f6-ffa9-40c3-e5d4-c81faf3d9ad4",
    "pycharm": {
     "name": "#%%\n"
    }
   },
   "outputs": [
    {
     "output_type": "stream",
     "name": "stdout",
     "text": [
      "[-6, -4, -2, 1, 3, 5]\n",
      "[1, -2, 3, -4, 5, -6]\n"
     ]
    }
   ],
   "source": [
    "a = [1,-2,3,-4,5,-6]\n",
    "\n",
    "print(sorted(a))\n",
    "\n",
    "print(sorted(a, key=lambda x: abs(x)))"
   ]
  },
  {
   "cell_type": "code",
   "execution_count": null,
   "metadata": {
    "id": "9VckaKnYqLuP",
    "colab": {
     "base_uri": "https://localhost:8080/"
    },
    "executionInfo": {
     "status": "ok",
     "timestamp": 1670233707632,
     "user_tz": -60,
     "elapsed": 212,
     "user": {
      "displayName": "Diego Chinellato",
      "userId": "17373725090461795110"
     }
    },
    "outputId": "e812bc95-0d3f-4c46-a332-1ba0ac1cd087",
    "pycharm": {
     "name": "#%%\n"
    }
   },
   "outputs": [
    {
     "output_type": "stream",
     "name": "stdout",
     "text": [
      "10 11\n"
     ]
    }
   ],
   "source": [
    "def add1(x):\n",
    "    x+=1\n",
    "    return x\n",
    "\n",
    "y = 10\n",
    "z = add1(y)\n",
    "print(y, z)"
   ]
  },
  {
   "cell_type": "markdown",
   "source": [
    "Careful when passing lists as parameters:"
   ],
   "metadata": {
    "id": "KODfD26XXa7g",
    "pycharm": {
     "name": "#%% md\n"
    }
   }
  },
  {
   "cell_type": "code",
   "execution_count": null,
   "metadata": {
    "id": "Q8QFNroFqLuP",
    "colab": {
     "base_uri": "https://localhost:8080/"
    },
    "executionInfo": {
     "status": "ok",
     "timestamp": 1670233723771,
     "user_tz": -60,
     "elapsed": 341,
     "user": {
      "displayName": "Diego Chinellato",
      "userId": "17373725090461795110"
     }
    },
    "outputId": "882c99a9-e768-4249-d60e-727fd4f37072",
    "pycharm": {
     "name": "#%%\n"
    }
   },
   "outputs": [
    {
     "output_type": "stream",
     "name": "stdout",
     "text": [
      "[2, 3, 4, 5, 6] [2, 3, 4, 5, 6]\n"
     ]
    }
   ],
   "source": [
    "def add1(x):\n",
    "    for i in range(len(x)):\n",
    "        x[i] = x[i]+1\n",
    "    return x\n",
    "\n",
    "y = [1,2,3,4,5]\n",
    "z = add1(y)\n",
    "print(y, z)"
   ]
  },
  {
   "cell_type": "code",
   "source": [
    "# mind the \"*\" and \"**\" before args and kwargs\n",
    "def argument_list(a, b=0, *args, **kwargs): \n",
    "  print('a, b:', a, b)\n",
    "  print('args:', args)\n",
    "  print('kwargs:', kwargs)\n",
    "\n",
    "argument_list(1,2,3,4,5)"
   ],
   "metadata": {
    "id": "4poLuTm3k5Ul",
    "colab": {
     "base_uri": "https://localhost:8080/"
    },
    "executionInfo": {
     "status": "ok",
     "timestamp": 1670233859738,
     "user_tz": -60,
     "elapsed": 259,
     "user": {
      "displayName": "Diego Chinellato",
      "userId": "17373725090461795110"
     }
    },
    "outputId": "f7d3307b-a036-439f-f3f2-59c4fb2f8e80",
    "pycharm": {
     "name": "#%%\n"
    }
   },
   "execution_count": null,
   "outputs": [
    {
     "output_type": "stream",
     "name": "stdout",
     "text": [
      "a, b: 1 2\n",
      "args: (3, 4, 5)\n",
      "kwargs: {}\n"
     ]
    }
   ]
  },
  {
   "cell_type": "code",
   "source": [
    "argument_list(1, user='diego', password='notapassword', proxy=None)"
   ],
   "metadata": {
    "id": "91z9HL0ClhmM",
    "colab": {
     "base_uri": "https://localhost:8080/"
    },
    "executionInfo": {
     "status": "ok",
     "timestamp": 1670233888370,
     "user_tz": -60,
     "elapsed": 3,
     "user": {
      "displayName": "Diego Chinellato",
      "userId": "17373725090461795110"
     }
    },
    "outputId": "d245183b-50fe-4375-a54a-f79d6e2469ee",
    "pycharm": {
     "name": "#%%\n"
    }
   },
   "execution_count": null,
   "outputs": [
    {
     "output_type": "stream",
     "name": "stdout",
     "text": [
      "a, b: 1 0\n",
      "args: ()\n",
      "kwargs: {'user': 'diego', 'password': 'notapassword', 'proxy': None}\n"
     ]
    }
   ]
  },
  {
   "cell_type": "code",
   "source": [
    "argument_list(a=1, b=1, user='diego', password='notapassword', proxy=None)"
   ],
   "metadata": {
    "id": "7qfzNzqsli5Q",
    "colab": {
     "base_uri": "https://localhost:8080/"
    },
    "executionInfo": {
     "status": "ok",
     "timestamp": 1670233910468,
     "user_tz": -60,
     "elapsed": 217,
     "user": {
      "displayName": "Diego Chinellato",
      "userId": "17373725090461795110"
     }
    },
    "outputId": "f4fabfb1-cd28-477c-9c90-e2450faf005d",
    "pycharm": {
     "name": "#%%\n"
    }
   },
   "execution_count": null,
   "outputs": [
    {
     "output_type": "stream",
     "name": "stdout",
     "text": [
      "a, b: 1 1\n",
      "args: ()\n",
      "kwargs: {'user': 'diego', 'password': 'notapassword', 'proxy': None}\n"
     ]
    }
   ]
  },
  {
   "cell_type": "markdown",
   "metadata": {
    "id": "pFBKbxPAoUjy",
    "pycharm": {
     "name": "#%% md\n"
    }
   },
   "source": [
    "### [EXTRA-OPTIONAL] Call by Assignment\n",
    "\n",
    "Parameters in python are called neither by reference or by value. Python does a **_call by assignment_**. It allocates a copy of the reference to the object. Immutable objects cannot be modified, therefore when updating them it creates a entire new object with the new value.\n",
    "\n",
    "For example, doing this in Python:"
   ]
  },
  {
   "cell_type": "code",
   "execution_count": null,
   "metadata": {
    "id": "FfCV1HKZoUjy",
    "pycharm": {
     "name": "#%%\n"
    }
   },
   "outputs": [],
   "source": [
    "my_var = 25\n",
    "def my_method(v):\n",
    "    v += 10\n",
    "    return v\n",
    "\n",
    "print(my_method(my_var), my_var)"
   ]
  },
  {
   "cell_type": "markdown",
   "metadata": {
    "id": "LFgQ_Ds2oUjy",
    "pycharm": {
     "name": "#%% md\n"
    }
   },
   "source": [
    "Is equivalent of doing:"
   ]
  },
  {
   "cell_type": "code",
   "execution_count": null,
   "metadata": {
    "id": "8YPjfsYjoUjy",
    "pycharm": {
     "name": "#%%\n"
    }
   },
   "outputs": [],
   "source": [
    "my_var = 25\n",
    "v = my_var\n",
    "v += 10  # This is identical to v = v + 10\n",
    "\n",
    "print(v, my_var)"
   ]
  },
  {
   "cell_type": "markdown",
   "metadata": {
    "id": "zWbKhpk0oUjy",
    "pycharm": {
     "name": "#%% md\n"
    }
   },
   "source": [
    "In Python, pretty much everything is an object. \n",
    "\n",
    "25 is an object. \n",
    "\n",
    "In Python both variables *my_var* and *v* points to the same object 25.\n",
    "\n",
    "However, you cannot change 25. The **int** object is immutable. \n",
    "\n",
    "When we do *v* += 10, what we are really doing is assigning to *v* a completely **different object** 35. We are not changing the original 25. This is why *my_var* stays as 25, because the object itself has not changed.\n",
    "\n",
    "In Python, some built-in types are immutable:\n",
    "- numbers (int, float, etc…)\n",
    "- booleans\n",
    "- strings\n",
    "- tuples\n",
    "\n",
    "On the other hand, mutable objects (lists, dictionaries, sets) can be directly modified. "
   ]
  },
  {
   "cell_type": "code",
   "execution_count": null,
   "metadata": {
    "scrolled": true,
    "id": "xhv8qCwGoUjy",
    "pycharm": {
     "name": "#%%\n"
    }
   },
   "outputs": [],
   "source": [
    "my_list = [12, 34, 55]\n",
    "x = my_list\n",
    "x.append(65)\n",
    "print(my_list)\n",
    "print(x)"
   ]
  },
  {
   "cell_type": "markdown",
   "metadata": {
    "id": "TqCrz5kcoUjz",
    "pycharm": {
     "name": "#%% md\n"
    }
   },
   "source": [
    "*my_list* contain 4 elements as *x* . That’s because both *x* and *my_list* point to the same object (as in the integer example). But the key difference is here we’ve changed the object, instead of creating a new one. Changing the object means that both variables see the change.\n",
    "\n",
    "**N.B.** we can always do the following:"
   ]
  },
  {
   "cell_type": "code",
   "execution_count": null,
   "metadata": {
    "id": "1ZK-5vKooUjz",
    "pycharm": {
     "name": "#%%\n"
    }
   },
   "outputs": [],
   "source": [
    "def m(list_var):\n",
    "    list_var = [90,96] \n",
    "    return list_var\n",
    "\n",
    "my_list = [90]\n",
    "print(m(my_list))# prints [90, 96]\n",
    "print(my_list)  # prints [90]"
   ]
  },
  {
   "cell_type": "markdown",
   "metadata": {
    "id": "0YthuXtnoUjz",
    "pycharm": {
     "name": "#%% md\n"
    }
   },
   "source": [
    "When we've changed *list_var* we are assigning to the new pointer *list_var* the new object reference but the original reference of *my_list* stay unchanged.\n",
    "\n",
    "**N.B.** Moreover, we can also do the follwing:"
   ]
  },
  {
   "cell_type": "code",
   "execution_count": null,
   "metadata": {
    "id": "ZL24u3daoUjz",
    "pycharm": {
     "name": "#%%\n"
    }
   },
   "outputs": [],
   "source": [
    "def concatenate_96(list_var):\n",
    "    x = list_var + [96]\n",
    "    return x\n",
    "\n",
    "my_list = [90]\n",
    "print(concatenate_96(my_list))  \n",
    "print(my_list)  # prints [90] , so it did not add the element to the original list"
   ]
  },
  {
   "cell_type": "markdown",
   "metadata": {
    "id": "Dis29ul3oUjz",
    "pycharm": {
     "name": "#%% md\n"
    }
   },
   "source": [
    "We did not add the element to the original list. That’s because doing an assignment (e.g. *x = [90]+[96]* ) creates an entirely new list object, we are no longer changing the *list_var* object."
   ]
  },
  {
   "cell_type": "markdown",
   "metadata": {
    "id": "SlTe6OaroUjz",
    "pycharm": {
     "name": "#%% md\n"
    }
   },
   "source": [
    "## 6. Classes"
   ]
  },
  {
   "cell_type": "markdown",
   "metadata": {
    "id": "vTmgBZAxoUjz",
    "pycharm": {
     "name": "#%% md\n"
    }
   },
   "source": [
    "The syntax for defining classes in Python is straightforward:"
   ]
  },
  {
   "cell_type": "code",
   "execution_count": null,
   "metadata": {
    "id": "EFv9VPnWoUj0",
    "pycharm": {
     "name": "#%%\n"
    }
   },
   "outputs": [],
   "source": [
    "# Creating a class\n",
    "class Animal: \n",
    "    # Constructor\n",
    "    def __init__(self, name):\n",
    "        self.name = name "
   ]
  },
  {
   "cell_type": "markdown",
   "metadata": {
    "id": "MEow0EUOoUj0",
    "pycharm": {
     "name": "#%% md\n"
    }
   },
   "source": [
    "Python allows **inheritance** of classes. "
   ]
  },
  {
   "cell_type": "code",
   "execution_count": null,
   "metadata": {
    "id": "Ns1bhFPvoUj0",
    "pycharm": {
     "name": "#%%\n"
    }
   },
   "outputs": [],
   "source": [
    "# Creating Cat class child of Animal class\n",
    "class Cat(Animal):\n",
    "    def __init__(self):\n",
    "        # Using constructor of parent class\n",
    "        super(Cat, self).__init__('cat')\n",
    "    def greet(self):\n",
    "        print(\"Hi, I am a \", self.name)"
   ]
  },
  {
   "cell_type": "code",
   "execution_count": null,
   "metadata": {
    "id": "zFS2o62RoUj0",
    "colab": {
     "base_uri": "https://localhost:8080/"
    },
    "executionInfo": {
     "status": "ok",
     "timestamp": 1670837820980,
     "user_tz": -60,
     "elapsed": 374,
     "user": {
      "displayName": "Diego Chinellato",
      "userId": "17373725090461795110"
     }
    },
    "outputId": "b485a2a6-4c9a-43e4-b940-3a682bc2d72d",
    "pycharm": {
     "name": "#%%\n"
    }
   },
   "outputs": [
    {
     "output_type": "stream",
     "name": "stdout",
     "text": [
      "Hi, I am a  cat\n"
     ]
    }
   ],
   "source": [
    "# Creating instance of class Cat\n",
    "cat_instance = Cat()\n",
    "\n",
    "# Using method of class Cat\n",
    "cat_instance.greet()"
   ]
  },
  {
   "cell_type": "markdown",
   "source": [
    "[Magic methods](https://rszalski.github.io/magicmethods/) allow to further customize classes:"
   ],
   "metadata": {
    "id": "ObkqgZ_cXuAh",
    "pycharm": {
     "name": "#%% md\n"
    }
   }
  },
  {
   "cell_type": "code",
   "source": [
    "class Point:\n",
    "  def __init__(self, x, y):\n",
    "    self.x = x\n",
    "    self.y = y\n",
    "  def __eq__(self, other):\n",
    "    return self.x == other.x and self.y == other.y\n",
    "  def __add__(self, other):\n",
    "    return Point(x=self.x + other.x, y=self.y + other.y)\n",
    "  def __str__(self):\n",
    "    return f'Point(x={self.x}, y={self.y})'\n",
    "\n",
    "u = Point(1,2)\n",
    "v = Point(1,2)\n",
    "z = Point(2,3)\n",
    "print(f\"u = {u}, v = {v}, z = {z}\")\n",
    "print(\"u == v? \", u == v)\n",
    "print(\"u == z? \", u == z)\n",
    "print(f\"u + v = {u + v}\")\n",
    "print(f\"u + z = {u + z}\")"
   ],
   "metadata": {
    "id": "tMf7ErF6Xt0e",
    "colab": {
     "base_uri": "https://localhost:8080/"
    },
    "executionInfo": {
     "status": "ok",
     "timestamp": 1670233997502,
     "user_tz": -60,
     "elapsed": 228,
     "user": {
      "displayName": "Diego Chinellato",
      "userId": "17373725090461795110"
     }
    },
    "outputId": "54403a4c-888a-4d43-e7fb-b61cb6a9a675",
    "pycharm": {
     "name": "#%%\n"
    }
   },
   "execution_count": null,
   "outputs": [
    {
     "output_type": "stream",
     "name": "stdout",
     "text": [
      "u = Point(x=1, y=2), v = Point(x=1, y=2), z = Point(x=2, y=3)\n",
      "u == v?  True\n",
      "u == z?  False\n",
      "u + v = Point(x=2, y=4)\n",
      "u + z = Point(x=3, y=5)\n"
     ]
    }
   ]
  },
  {
   "cell_type": "markdown",
   "metadata": {
    "id": "iAbMAjEIqLuQ",
    "pycharm": {
     "name": "#%% md\n"
    }
   },
   "source": [
    "## 7. Files\n",
    "\n",
    "Check how to iterate through a file, and how to run shell commands in Jupyter."
   ]
  },
  {
   "cell_type": "code",
   "execution_count": null,
   "metadata": {
    "id": "11KhOJaFqLuQ",
    "pycharm": {
     "name": "#%%\n"
    }
   },
   "outputs": [],
   "source": [
    "out_file = open(\"test.txt\", \"w\")\n",
    "out_file.write(\"line 1\\n\")\n",
    "out_file.write(\"line 2\\n\")\n",
    "out_file.close()"
   ]
  },
  {
   "cell_type": "code",
   "execution_count": null,
   "metadata": {
    "id": "xVKpCs4MqLuQ",
    "colab": {
     "base_uri": "https://localhost:8080/"
    },
    "executionInfo": {
     "status": "ok",
     "timestamp": 1670838003191,
     "user_tz": -60,
     "elapsed": 342,
     "user": {
      "displayName": "Diego Chinellato",
      "userId": "17373725090461795110"
     }
    },
    "outputId": "8313e68b-0b8b-45ad-d7cf-59fd1ed4dcb6",
    "pycharm": {
     "name": "#%%\n"
    }
   },
   "outputs": [
    {
     "output_type": "stream",
     "name": "stdout",
     "text": [
      "line 1\n",
      "line 2\n"
     ]
    }
   ],
   "source": [
    "!cat test.txt"
   ]
  },
  {
   "cell_type": "code",
   "execution_count": null,
   "metadata": {
    "id": "a3VMeB5AqLuQ",
    "pycharm": {
     "name": "#%%\n"
    }
   },
   "outputs": [],
   "source": [
    "out_file = open(\"test.txt\", \"w\")\n",
    "print(\"line 11\", file=out_file)\n",
    "print(\"line 22\", file=out_file)\n",
    "out_file.close()"
   ]
  },
  {
   "cell_type": "code",
   "execution_count": null,
   "metadata": {
    "id": "gsDygh0TqLuQ",
    "colab": {
     "base_uri": "https://localhost:8080/"
    },
    "executionInfo": {
     "status": "ok",
     "timestamp": 1670838028293,
     "user_tz": -60,
     "elapsed": 232,
     "user": {
      "displayName": "Diego Chinellato",
      "userId": "17373725090461795110"
     }
    },
    "outputId": "db47cf78-1492-431a-bd82-4a8bc45d3f6b",
    "pycharm": {
     "name": "#%%\n"
    }
   },
   "outputs": [
    {
     "output_type": "stream",
     "name": "stdout",
     "text": [
      "line 11\n",
      "\n",
      "line 22\n",
      "\n"
     ]
    }
   ],
   "source": [
    "in_file = open(\"test.txt\", \"r\")\n",
    "line = in_file.readline()\n",
    "print(line)\n",
    "line = in_file.readline()\n",
    "print(line)\n",
    "\n",
    "in_file.close()"
   ]
  },
  {
   "cell_type": "code",
   "execution_count": null,
   "metadata": {
    "id": "HQCK_c9rqLuQ",
    "colab": {
     "base_uri": "https://localhost:8080/"
    },
    "executionInfo": {
     "status": "ok",
     "timestamp": 1670838127686,
     "user_tz": -60,
     "elapsed": 235,
     "user": {
      "displayName": "Diego Chinellato",
      "userId": "17373725090461795110"
     }
    },
    "outputId": "c4b73992-6e4e-4b7c-831f-9ac9cc7766ae",
    "pycharm": {
     "name": "#%%\n"
    }
   },
   "outputs": [
    {
     "output_type": "stream",
     "name": "stdout",
     "text": [
      "line 11\n",
      "\n"
     ]
    }
   ],
   "source": [
    "with open(\"test.txt\", \"r\") as in_file:\n",
    "    line = in_file.readline()\n",
    "    print(line)"
   ]
  },
  {
   "cell_type": "code",
   "execution_count": null,
   "metadata": {
    "id": "L5LZWRPrqLuQ",
    "colab": {
     "base_uri": "https://localhost:8080/"
    },
    "executionInfo": {
     "status": "ok",
     "timestamp": 1670838133496,
     "user_tz": -60,
     "elapsed": 311,
     "user": {
      "displayName": "Diego Chinellato",
      "userId": "17373725090461795110"
     }
    },
    "outputId": "c5289166-4ee3-400d-d173-48076c29ce89",
    "pycharm": {
     "name": "#%%\n"
    }
   },
   "outputs": [
    {
     "output_type": "stream",
     "name": "stdout",
     "text": [
      "line 11\n",
      "\n",
      "line 22\n",
      "\n"
     ]
    }
   ],
   "source": [
    "with open(\"test.txt\", \"r\") as in_file:\n",
    "    for line in in_file:\n",
    "        print(line)"
   ]
  },
  {
   "cell_type": "code",
   "execution_count": null,
   "metadata": {
    "id": "GZWBG0ODqLuQ",
    "colab": {
     "base_uri": "https://localhost:8080/"
    },
    "executionInfo": {
     "status": "ok",
     "timestamp": 1670838143657,
     "user_tz": -60,
     "elapsed": 4,
     "user": {
      "displayName": "Diego Chinellato",
      "userId": "17373725090461795110"
     }
    },
    "outputId": "9fc789c1-ec5a-4dec-d287-91089824e9cb",
    "pycharm": {
     "name": "#%%\n"
    }
   },
   "outputs": [
    {
     "output_type": "stream",
     "name": "stdout",
     "text": [
      "line 11\n",
      "line 22\n"
     ]
    }
   ],
   "source": [
    "with open(\"test.txt\", \"r\") as in_file:\n",
    "    for line in in_file:\n",
    "        print(line.strip())"
   ]
  },
  {
   "cell_type": "code",
   "execution_count": null,
   "metadata": {
    "id": "zhe1uBtUqLuR",
    "colab": {
     "base_uri": "https://localhost:8080/"
    },
    "executionInfo": {
     "status": "ok",
     "timestamp": 1670838168151,
     "user_tz": -60,
     "elapsed": 361,
     "user": {
      "displayName": "Diego Chinellato",
      "userId": "17373725090461795110"
     }
    },
    "outputId": "45a9c0f6-a8b3-4315-a442-c49a9fc9185f",
    "pycharm": {
     "name": "#%%\n"
    }
   },
   "outputs": [
    {
     "output_type": "stream",
     "name": "stdout",
     "text": [
      "line 11\n",
      "line 22\n"
     ]
    }
   ],
   "source": [
    "with open(\"test.txt\", \"r\") as in_file:\n",
    "    for line in in_file:\n",
    "        print(line, end=\"\")"
   ]
  },
  {
   "cell_type": "markdown",
   "metadata": {
    "id": "tXZNQaHdqLuQ",
    "pycharm": {
     "name": "#%% md\n"
    }
   },
   "source": [
    "## 8. JSON\n",
    "\n",
    "JavaScript Object Notation, very popular in Web APIs."
   ]
  },
  {
   "cell_type": "code",
   "execution_count": null,
   "metadata": {
    "id": "tWO49G5LqLuQ",
    "colab": {
     "base_uri": "https://localhost:8080/"
    },
    "executionInfo": {
     "status": "ok",
     "timestamp": 1670838268357,
     "user_tz": -60,
     "elapsed": 248,
     "user": {
      "displayName": "Diego Chinellato",
      "userId": "17373725090461795110"
     }
    },
    "outputId": "68972267-1445-4b4e-9eec-5283dfae85c0",
    "pycharm": {
     "name": "#%%\n"
    }
   },
   "outputs": [
    {
     "output_type": "stream",
     "name": "stdout",
     "text": [
      "<class 'str'>\n",
      "{\"key\": 10}\n"
     ]
    }
   ],
   "source": [
    "import json\n",
    "\n",
    "a  = {\"key\": 10}\n",
    "# to string\n",
    "s = json.dumps(a)\n",
    "\n",
    "print(type(s))\n",
    "print(s)"
   ]
  },
  {
   "cell_type": "code",
   "execution_count": null,
   "metadata": {
    "id": "xemwdUAvqLuQ",
    "colab": {
     "base_uri": "https://localhost:8080/"
    },
    "executionInfo": {
     "status": "ok",
     "timestamp": 1670838325764,
     "user_tz": -60,
     "elapsed": 364,
     "user": {
      "displayName": "Diego Chinellato",
      "userId": "17373725090461795110"
     }
    },
    "outputId": "3e789845-834a-4086-c046-9aecf33d9e4e",
    "pycharm": {
     "name": "#%%\n"
    }
   },
   "outputs": [
    {
     "output_type": "stream",
     "name": "stdout",
     "text": [
      "<class 'dict'>\n",
      "{'key': 10}\n"
     ]
    }
   ],
   "source": [
    "a = json.loads('{\"key\": 10}')\n",
    "\n",
    "print(type(a))\n",
    "print(a)"
   ]
  },
  {
   "cell_type": "code",
   "source": [
    "a = {\"key\": 10}\n",
    "\n",
    "# to string\n",
    "with open(\"test.txt\", \"w\") as out_file:\n",
    "    json.dump(a,out_file)\n",
    "\n",
    "!cat test.txt"
   ],
   "metadata": {
    "id": "tuqYhGImTFUK",
    "colab": {
     "base_uri": "https://localhost:8080/"
    },
    "executionInfo": {
     "status": "ok",
     "timestamp": 1670838330646,
     "user_tz": -60,
     "elapsed": 240,
     "user": {
      "displayName": "Diego Chinellato",
      "userId": "17373725090461795110"
     }
    },
    "outputId": "820e6163-b87e-4ab3-9ef9-cf5bf14dca29",
    "pycharm": {
     "name": "#%%\n"
    }
   },
   "execution_count": null,
   "outputs": [
    {
     "output_type": "stream",
     "name": "stdout",
     "text": [
      "{\"key\": 10}"
     ]
    }
   ]
  },
  {
   "cell_type": "code",
   "source": [
    "with open(\"test.txt\", \"r\") as in_file:\n",
    "    b = json.load(in_file)\n",
    "    print(type(b))\n",
    "    print(b)"
   ],
   "metadata": {
    "id": "Lfy1jPsBTI1R",
    "colab": {
     "base_uri": "https://localhost:8080/"
    },
    "executionInfo": {
     "status": "ok",
     "timestamp": 1670838330647,
     "user_tz": -60,
     "elapsed": 5,
     "user": {
      "displayName": "Diego Chinellato",
      "userId": "17373725090461795110"
     }
    },
    "outputId": "3220cdfb-e0f2-4fe4-b093-3f3723a5a02d",
    "pycharm": {
     "name": "#%%\n"
    }
   },
   "execution_count": null,
   "outputs": [
    {
     "output_type": "stream",
     "name": "stdout",
     "text": [
      "<class 'dict'>\n",
      "{'key': 10}\n"
     ]
    }
   ]
  }
 ],
 "metadata": {
  "kernelspec": {
   "display_name": "Python 3",
   "language": "python",
   "name": "python3"
  },
  "language_info": {
   "codemirror_mode": {
    "name": "ipython",
    "version": 3
   },
   "file_extension": ".py",
   "mimetype": "text/x-python",
   "name": "python",
   "nbconvert_exporter": "python",
   "pygments_lexer": "ipython3",
   "version": "3.5.3"
  },
  "colab": {
   "provenance": [],
   "collapsed_sections": [
    "O5aIKNUSoUjh",
    "SLrbz31woUjk",
    "3zZR14P9oUjl",
    "qwOP9q1foUjp",
    "0kukjEAAoUjq",
    "yU3sj7B4oUjr",
    "P-E7kntooUjv",
    "xVgo9q_FoUjv",
    "8NznMrbeoUjw",
    "pvysyicVoUjx",
    "qboO5DMPoUjt",
    "wCgrmS5voUjt",
    "-SLkqKX1IFKv",
    "5KdK4eE-qLuJ",
    "YHtuNfeGqLuH",
    "D9OhA9UqoUju",
    "NflYCBRVqLuN",
    "vNuPWFzNWHY0",
    "TdySs8vuqLuO",
    "fyXj65oBqLuI",
    "8hHxez3eoUjx",
    "pFBKbxPAoUjy",
    "SlTe6OaroUjz",
    "iAbMAjEIqLuQ",
    "tXZNQaHdqLuQ"
   ]
  }
 },
 "nbformat": 4,
 "nbformat_minor": 0
}